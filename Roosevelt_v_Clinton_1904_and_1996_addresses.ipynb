{
  "nbformat": 4,
  "nbformat_minor": 0,
  "metadata": {
    "colab": {
      "name": "Roosevelt v Clinton 1904 and 1996 addresses.ipynb",
      "version": "0.3.2",
      "provenance": []
    },
    "language_info": {
      "codemirror_mode": {
        "name": "ipython",
        "version": 3
      },
      "file_extension": ".py",
      "mimetype": "text/x-python",
      "name": "python",
      "nbconvert_exporter": "python",
      "pygments_lexer": "ipython3",
      "version": "3.7.1"
    },
    "kernelspec": {
      "display_name": "Python 3",
      "language": "python",
      "name": "python3"
    }
  },
  "cells": [
    {
      "cell_type": "code",
      "metadata": {
        "id": "xsTBX01hmkgy",
        "colab_type": "code",
        "colab": {}
      },
      "source": [
        "%matplotlib inline\n",
        "import numpy as np\n",
        "import pandas as pd\n",
        "import scipy\n",
        "import sklearn\n",
        "import spacy\n",
        "import matplotlib.pyplot as plt\n",
        "import seaborn as sns\n",
        "import re\n",
        "from nltk.corpus import gutenberg, stopwords\n",
        "from collections import Counter\n",
        "import nltk"
      ],
      "execution_count": 0,
      "outputs": []
    },
    {
      "cell_type": "code",
      "metadata": {
        "id": "0Gz1FNrUmnF_",
        "colab_type": "code",
        "colab": {
          "resources": {
            "http://localhost:8080/nbextensions/google.colab/files.js": {
              "data": "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",
              "ok": true,
              "headers": [
                [
                  "content-type",
                  "application/javascript"
                ]
              ],
              "status": 200,
              "status_text": ""
            }
          },
          "base_uri": "https://localhost:8080/",
          "height": 74
        },
        "outputId": "d352f6cb-fa1b-4a62-80bb-4613bd937182"
      },
      "source": [
        "from google.colab import files\n",
        "uploaded = files.upload()"
      ],
      "execution_count": 10,
      "outputs": [
        {
          "output_type": "display_data",
          "data": {
            "text/html": [
              "\n",
              "     <input type=\"file\" id=\"files-4476b966-bd12-461a-b01d-dc4935289ccf\" name=\"files[]\" multiple disabled />\n",
              "     <output id=\"result-4476b966-bd12-461a-b01d-dc4935289ccf\">\n",
              "      Upload widget is only available when the cell has been executed in the\n",
              "      current browser session. Please rerun this cell to enable.\n",
              "      </output>\n",
              "      <script src=\"/nbextensions/google.colab/files.js\"></script> "
            ],
            "text/plain": [
              "<IPython.core.display.HTML object>"
            ]
          },
          "metadata": {
            "tags": []
          }
        },
        {
          "output_type": "stream",
          "text": [
            "Saving Roosevelt_1904.txt to Roosevelt_1904.txt\n"
          ],
          "name": "stdout"
        }
      ]
    },
    {
      "cell_type": "code",
      "metadata": {
        "id": "TwIDw3lDwzck",
        "colab_type": "code",
        "colab": {
          "resources": {
            "http://localhost:8080/nbextensions/google.colab/files.js": {
              "data": "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",
              "ok": true,
              "headers": [
                [
                  "content-type",
                  "application/javascript"
                ]
              ],
              "status": 200,
              "status_text": ""
            }
          },
          "base_uri": "https://localhost:8080/",
          "height": 74
        },
        "outputId": "b187f8e8-3200-4d66-8b98-aa0470aaa2a4"
      },
      "source": [
        "from google.colab import files\n",
        "clinton_upload = files.upload()"
      ],
      "execution_count": 4,
      "outputs": [
        {
          "output_type": "display_data",
          "data": {
            "text/html": [
              "\n",
              "     <input type=\"file\" id=\"files-99ffaa5a-f3a1-4a65-97ea-0b7d78e96b3d\" name=\"files[]\" multiple disabled />\n",
              "     <output id=\"result-99ffaa5a-f3a1-4a65-97ea-0b7d78e96b3d\">\n",
              "      Upload widget is only available when the cell has been executed in the\n",
              "      current browser session. Please rerun this cell to enable.\n",
              "      </output>\n",
              "      <script src=\"/nbextensions/google.colab/files.js\"></script> "
            ],
            "text/plain": [
              "<IPython.core.display.HTML object>"
            ]
          },
          "metadata": {
            "tags": []
          }
        },
        {
          "output_type": "stream",
          "text": [
            "Saving Clinton_1996.txt to Clinton_1996.txt\n"
          ],
          "name": "stdout"
        }
      ]
    },
    {
      "cell_type": "code",
      "metadata": {
        "id": "AiMs8gv6m21T",
        "colab_type": "code",
        "colab": {
          "base_uri": "https://localhost:8080/",
          "height": 34
        },
        "outputId": "e7457090-dfda-486d-ea28-58d5288046cf"
      },
      "source": [
        "uploaded\n"
      ],
      "execution_count": 5,
      "outputs": [
        {
          "output_type": "execute_result",
          "data": {
            "text/plain": [
              "{}"
            ]
          },
          "metadata": {
            "tags": []
          },
          "execution_count": 5
        }
      ]
    },
    {
      "cell_type": "markdown",
      "metadata": {
        "id": "lNc2rD0lmkhF",
        "colab_type": "text"
      },
      "source": [
        "## Cleaning\n"
      ]
    },
    {
      "cell_type": "code",
      "metadata": {
        "id": "lVZ3bx59ntwD",
        "colab_type": "code",
        "colab": {
          "base_uri": "https://localhost:8080/",
          "height": 54
        },
        "outputId": "fac58518-915e-46ee-a2c1-8996f0f01107"
      },
      "source": [
        "#Takes apart the dictionary into just values and returns to variable assigned\n",
        "\n",
        "roose = list(uploaded.values())\n",
        "clint = list(clinton_upload.values())\n",
        "\n",
        "#Turns list into string\n",
        "roose_str = ' '.join(str(x) for x in roose)\n",
        "clint_str = ' '.join(str(x) for x in clint)\n",
        "\n",
        "\n",
        "clint_str"
      ],
      "execution_count": 11,
      "outputs": [
        {
          "output_type": "execute_result",
          "data": {
            "text/plain": [
              "'b\"Mr. Speaker, Mr. Vice President, members of the 104th Congress,\\\\ndistinguished guests, my fellow Americans all across our land:\\\\n\\\\nLet me begin tonight by saying to our men and women in uniform around the\\\\nworld, and especially those helping peace take root in Bosnia and to their\\\\nfamilies, I thank you. America is very, very proud of you.\\\\n\\\\nMy duty tonight is to report on the state of the Union--not the state of\\\\nour government, but of our American community; and to set forth our\\\\nresponsibilities, in the words of our Founders, to form a more perfect\\\\nunion.\\\\n\\\\nThe state of the Union is strong. Our economy is the healthiest it has been\\\\nin three decades. We have the lowest combined rates of unemployment and\\\\ninflation in 27 years. We have created nearly 8 million new jobs, over a\\\\nmillion of them in basic industries, like construction and automobiles.\\\\nAmerica is selling more cars than Japan for the first time since the 1970s.\\\\nAnd for three years in a row, we have had a record number of new businesses\\\\nstarted in our country.\\\\n\\\\nOur leadership in the world is also strong, bringing hope for new peace.\\\\nAnd perhaps most important, we are gaining ground in restoring our\\\\nfundamental values. The crime rate, the welfare and food stamp rolls, the\\\\npoverty rate and the teen pregnancy rate are all down. And as they go down,\\\\nprospects for America\\'s future go up.\\\\n\\\\nWe live in an age of possibility. A hundred years ago we moved from farm to\\\\nfactory. Now we move to an age of technology, information, and global\\\\ncompetition. These changes have opened vast new opportunities for our\\\\npeople, but they have also presented them with stiff challenges. While more\\\\nAmericans are living better, too many of our fellow citizens are working\\\\nharder just to keep up, and they are rightly concerned about the security\\\\nof their families.\\\\n\\\\nThe Role Of Government\\\\n\\\\nWe must answer here three fundamental questions: First, how do we make the\\\\nAmerican Dream of opportunity for all a reality for all Americans who are\\\\nwilling to work for it? Second, how do we preserve our old and enduring\\\\nvalues as we move into the future? And, third, how do we meet these\\\\nchallenges together, as one America?\\\\n\\\\nWe know big government does not have all the answers. We know there\\'s not a\\\\nprogram for every problem. We have worked to give the American people a\\\\nsmaller, less bureaucratic government in Washington. And we have to give\\\\nthe American people one that lives within its means.\\\\n\\\\nThe era of big government is over. But we cannot go back to the time when\\\\nour citizens were left to fend for themselves. Instead, we must go forward\\\\nas one America, one nation working together to meet the challenges we face\\\\ntogether. Self-reliance and teamwork are not opposing virtues; we must have\\\\nboth.\\\\n\\\\nI believe our new, smaller government must work in an old-fashioned\\\\nAmerican way, together with all of our citizens through state and local\\\\ngovernments, in the workplace, in religious, charitable and civic\\\\nassociations. Our goal must be to enable all our people to make the most of\\\\ntheir own lives--with stronger families, more educational opportunity,\\\\neconomic security, safer streets, a cleaner environment in a safer world.\\\\n\\\\nTo improve the state of our Union, we must ask more of ourselves, we must\\\\nexpect more of each other, and we must face our challenges together.\\\\n\\\\nHere, in this place, our responsibility begins with balancing the budget in\\\\na way that is fair to all Americans. There is now broad bipartisan\\\\nagreement that permanent deficit spending must come to an end.\\\\n\\\\nI compliment the Republican leadership and the membership for the energy\\\\nand determination you have brought to this task of balancing the budget.\\\\nAnd I thank the Democrats for passing the largest deficit reduction plan in\\\\nhistory in 1993, which has already cut the deficit nearly in half in three\\\\nyears.\\\\n\\\\nDeficit\\\\n\\\\nSince 1993, we have all begun to see the benefits of deficit reduction.\\\\nLower interest rates have made it easier for businesses to borrow and to\\\\ninvest and to create new jobs. Lower interest rates have brought down the\\\\ncost of home mortgages, car payments and credit card rates to ordinary\\\\ncitizens. Now, it is time to finish the job and balance the budget.\\\\n\\\\nThough differences remain among us which are significant, the combined\\\\ntotal of the proposed savings that are common to both plans is more than\\\\nenough, using the numbers from your Congressional Budget Office to balance\\\\nthe budget in seven years and to provide a modest tax cut.\\\\n\\\\nThese cuts are real. They will require sacrifice from everyone. But these\\\\ncuts do not undermine our fundamental obligations to our parents, our\\\\nchildren, and our future, by endangering Medicare, or Medicaid, or\\\\neducation, or the environment, or by raising taxes on working families.\\\\n\\\\nI have said before, and let me say again, many good ideas have come out of\\\\nour negotiations. I have learned a lot about the way both Republicans and\\\\nDemocrats view the debate before us. I have learned a lot about the good\\\\nideas that we could all embrace.\\\\n\\\\nWe ought to resolve our remaining differences. I am willing to work to\\\\nresolve them. I am ready to meet tomorrow. But I ask you to consider that\\\\nwe should at least enact these savings that both plans have in common and\\\\ngive the American people their balanced budget, a tax cut, lower interest\\\\nrates, and a brighter future. We should do that now, and make permanent\\\\ndeficits yesterday\\'s legacy.\\\\n\\\\nNow it is time for us to look also to the challenges of today and tomorrow,\\\\nbeyond the burdens of yesterday. The challenges are significant. But\\\\nAmerica was built on challenges, not promises. And when we work together to\\\\nmeet them, we never fail. That is the key to a more perfect Union. Our\\\\nindividual dreams must be realized by our common efforts.\\\\n\\\\nTonight I want to speak to you about the challenges we all face as a\\\\npeople.\\\\n\\\\nStrengthening Families\\\\n\\\\nOur first challenge is to cherish our children and strengthen America\\'s\\\\nfamilies. Family is the foundation of American life. If we have stronger\\\\nfamilies, we will have a stronger America.\\\\n\\\\nBefore I go on, I would like to take just a moment to thank my own family,\\\\nand to thank the person who has taught me more than anyone else over 25\\\\nyears about the importance of families and children--a wonderful wife, a\\\\nmagnificent mother and a great First Lady. Thank you, Hillary.\\\\n\\\\nAll strong families begin with taking more responsibility for our children.\\\\nI have heard Mrs. Gore say that it\\'s hard to be a parent today, but it\\'s\\\\neven harder to be a child. So all of us, not just as parents, but all of us\\\\nin our other roles--our media, our schools, our teachers, our communities,\\\\nour churches and synagogues, our businesses, our governments--all of us\\\\nhave a responsibility to help our children to make it and to make the most\\\\nof their lives and their God-given capacities.\\\\n\\\\nTo the media, I say you should create movies and CDs and television shows\\\\nyou\\'d want your own children and grandchildren to enjoy.\\\\n\\\\nI call on Congress to pass the requirement for a V-chip in TV sets so that\\\\nparents can screen out programs they believe are inappropriate for their\\\\nchildren. When parents control what their young children see, that is not\\\\ncensorship; that is enabling parents to assume more personal responsibility\\\\nfor their children\\'s upbringing. And I urge them to do it. The V-chip\\\\nrequirement is part of the important telecommunications bill now pending in\\\\nthis Congress. It has bipartisan support, and I urge you to pass it now.\\\\n\\\\nTo make the V-chip work, I challenge the broadcast industry to do what\\\\nmovies have done--to identify your programming in ways that help parents\\\\nto protect their children. And I invite the leaders of major media\\\\ncorporations in the entertainment industry to come to the White House next\\\\nmonth to work with us in a positive way on concrete ways to improve what\\\\nour children see on television. I am ready to work with you.\\\\n\\\\nI say to those who make and market cigarettes: every year a million\\\\nchildren take up smoking, even though it is against the law. Three hundred\\\\nthousand of them will have their lives shortened as a result. Our\\\\nadministration has taken steps to stop the massive marketing campaigns that\\\\nappeal to our children. We are simply saying: Market your products to\\\\nadults, if you wish, but draw the line on children.\\\\n\\\\nI say to those who are on welfare, and especially to those who have been\\\\ntrapped on welfare for a long time: For too long our welfare system has\\\\nundermined the values of family and work, instead of supporting them. The\\\\nCongress and I are near agreement on sweeping welfare reform. We agree on\\\\ntime limits, tough work requirements, and the toughest possible child\\\\nsupport enforcement. But I believe we must also provide child care so that\\\\nmothers who are required to go to work can do so without worrying about\\\\nwhat is happening to their children.\\\\n\\\\nI challenge this Congress to send me a bipartisan welfare reform bill that\\\\nwill really move people from welfare to work and do the right thing by our\\\\nchildren. I will sign it immediately.\\\\n\\\\nLet us be candid about this difficult problem. Passing a law, even the best\\\\npossible law, is only a first step. The next step is to make it work. I\\\\nchallenge people on welfare to make the most of this opportunity for\\\\nindependence. I challenge American businesses to give people on welfare the\\\\nchance to move into the work force. I applaud the work of religious groups\\\\nand others who care for the poor. More than anyone else in our society,\\\\nthey know the true difficulty of the task before us, and they are in a\\\\nposition to help. Every one of us should join them. That is the only way we\\\\ncan make real welfare reform a reality in the lives of the American\\\\npeople.\\\\n\\\\nTo strengthen the family we must do everything we can to keep the teen\\\\npregnancy rate going down. I am gratified, as I\\'m sure all Americans are,\\\\nthat it has dropped for two years in a row. But we all know it is still far\\\\ntoo high.\\\\n\\\\nTonight I am pleased to announce that a group of prominent Americans is\\\\nresponding to that challenge by forming an organization that will support\\\\ngrass-roots community efforts all across our country in a national campaign\\\\nagainst teen pregnancy. And I challenge all of us and every American to\\\\njoin their efforts.\\\\n\\\\nI call on American men and women in families to give greater respect to one\\\\nanother. We must end the deadly scourge of domestic violence in our\\\\ncountry. And I challenge America\\'s families to work harder to stay\\\\ntogether. For families who stay together not only do better economically,\\\\ntheir children do better as well.\\\\n\\\\nIn particular, I challenge the fathers of this country to love and care for\\\\ntheir children. If your family has separated, you must pay your child\\\\nsupport. We\\'re doing more than ever to make sure you do, and we\\'re going to\\\\ndo more, but let\\'s all admit something about that, too: A check will not\\\\nsubstitute for a parent\\'s love and guidance. And only you--only you can\\\\nmake the decision to help raise your children. No matter who you are, how\\\\nlow or high your station in life, it is the most basic human duty of every\\\\nAmerican to do that job to the best of his or her ability.\\\\n\\\\nEducation\\\\n\\\\nOur second challenge is to provide Americans with the educational\\\\nopportunities we will all need for this new century. In our schools, every\\\\nclassroom in America must be connected to the information superhighway,\\\\nwith computers and good software, and well-trained teachers. We are working\\\\nwith the telecommunications industry, educators and parents to connect 20\\\\npercent of California\\'s classrooms by this spring, and every classroom and\\\\nevery library in the entire United States by the year 2000. I ask Congress\\\\nto support this education technology initiative so that we can make sure\\\\nthis national partnership succeeds.\\\\n\\\\nEvery diploma ought to mean something. I challenge every community, every\\\\nschool and every state to adopt national standards of excellence; to\\\\nmeasure whether schools are meeting those standards; to cut bureaucratic\\\\nred tape so that schools and teachers have more flexibility for grass-roots\\\\nreform; and to hold them accountable for results. That\\'s what our Goals\\\\n2000 initiative is all about.\\\\n\\\\nI challenge every state to give all parents the right to choose which\\\\npublic school their children will attend; and to let teachers form new\\\\nschools with a charter they can keep only if they do a good job.\\\\n\\\\nI challenge all our schools to teach character education, to teach good\\\\nvalues and good citizenship. And if it means that teenagers will stop\\\\nkilling each other over designer jackets, then our public schools should be\\\\nable to require their students to wear school uniforms.\\\\n\\\\nI challenge our parents to become their children\\'s first teachers. Turn off\\\\nthe TV. See that the homework is done. And visit your children\\'s classroom.\\\\nNo program, no teacher, no one else can do that for you.\\\\n\\\\nMy fellow Americans, higher education is more important today than ever\\\\nbefore. We\\'ve created a new student loan program that\\'s made it easier to\\\\nborrow and repay those loans, and we have dramatically cut the student loan\\\\ndefault rate. That\\'s something we should all be proud of, because it was\\\\nunconscionably high just a few years ago. Through AmeriCorps, our national\\\\nservice program, this year 25,000 young people will earn college money by\\\\nserving their local communities to improve the lives of their friends and\\\\nneighbors. These initiatives are right for America and we should keep them\\\\ngoing.\\\\n\\\\nAnd we should also work hard to open the doors of college even wider. I\\\\nchallenge Congress to expand work-study and help one million young\\\\nAmericans work their way through college by the year 2000; to provide a\\\\n$1000 merit scholarship for the top five percent of graduates in every high\\\\nschool in the United States; to expand Pell Grant scholarships for\\\\ndeserving and needy students; and to make up to $10,000 a year of college\\\\ntuition tax deductible. It\\'s a good idea for America.\\\\n\\\\nOur third challenge is to help every American who is willing to work for\\\\nit, achieve economic security in this new age. People who work hard still\\\\nneed support to get ahead in the new economy. They need education and\\\\ntraining for a lifetime. They need more support for families raising\\\\nchildren. They need retirement security. They need access to health care.\\\\nMore and more Americans are finding that the education of their childhood\\\\nsimply doesn\\'t last a lifetime.\\\\n\\\\nG.I. Bill For Workers\\\\n\\\\nSo I challenge Congress to consolidate 70 overlapping, antiquated\\\\njob-training programs into a simple voucher worth $2,600 for unemployed or\\\\nunderemployed workers to use as they please for community college tuition\\\\nor other training. This is a G.I. Bill for America\\'s workers we should all\\\\nbe able to agree on.\\\\n\\\\nMore and more Americans are working hard without a raise. Congress sets the\\\\nminimum wage. Within a year, the minimum wage will fall to a 40-year low in\\\\npurchasing power. Four dollars and 25 cents an hour is no longer a living\\\\nwage, but millions of Americans and their children are trying to live on\\\\nit. I challenge you to raise their minimum wage.\\\\n\\\\nIn 1993, Congress cut the taxes of 15 million hard-pressed working families\\\\nto make sure that no parents who work full-time would have to raise their\\\\nchildren in poverty, and to encourage people to move from welfare to work.\\\\nThis expanded earned income tax credit is now worth about $1,800 a year to\\\\na family of four living on $20,000. The budget bill I vetoed would have\\\\nreversed this achievement and raised taxes on nearly 8 million of these\\\\npeople. We should not do that.\\\\n\\\\nI also agree that the people who are helped under this initiative are not\\\\nall those in our country who are working hard to do a good job raising\\\\ntheir children and at work. I agree that we need a tax credit for working\\\\nfamilies with children. That\\'s one of the things most of us in this\\\\nChamber, I hope, can agree on. I know it is strongly supported by the\\\\nRepublican majority. And it should be part of any final budget agreement.\\\\n\\\\nI want to challenge every business that can possibly afford it to provide\\\\npensions for your employees. And I challenge Congress to pass a proposal\\\\nrecommended by the White House Conference on Small Business that would make\\\\nit easier for small businesses and farmers to establish their own pension\\\\nplans. That is something we should all agree on.\\\\n\\\\nWe should also protect existing pension plans. Two years ago, with\\\\nbipartisan support that was almost unanimous on both sides of the aisle, we\\\\nmoved to protect the pensions of 8 million working people and to stabilize\\\\nthe pensions of 32 million more. Congress should not now let companies\\\\nendanger those workers\\' pension funds. I know the proposal to liberalize\\\\nthe ability of employers to take money out of pension funds for other\\\\npurposes would raise money for the treasury. But I believe it is false\\\\neconomy. I vetoed that proposal last year, and I would have to do so\\\\nagain.\\\\n\\\\nHealth Care\\\\n\\\\nFinally, if our working families are going to succeed in the new economy,\\\\nthey must be able to buy health insurance policies that they do not lose\\\\nwhen they change jobs or when someone in their family gets sick. Over the\\\\npast two years, over one million Americans in working families have lost\\\\ntheir health insurance. We have to do more to make health care available to\\\\nevery American. And Congress should start by passing the bipartisan bill\\\\nsponsored by Senator Kennedy and Senator Kassebaum that would require\\\\ninsurance companies to stop dropping people when they switch jobs, and stop\\\\ndenying coverage for preexisting conditions. Let\\'s all do that.\\\\n\\\\nAnd even as we enact savings in these programs, we must have a common\\\\ncommitment to preserve the basic protections of Medicare and Medicaid--not\\\\njust to the poor, but to people in working families, including children,\\\\npeople with disabilities, people with AIDS, and senior citizens in nursing\\\\nhomes.\\\\n\\\\nIn the past three years, we\\'ve saved $15 billion just by fighting health\\\\ncare fraud and abuse. We have all agreed to save much more. We have all\\\\nagreed to stabilize the Medicare Trust Fund. But we must not abandon our\\\\nfundamental obligations to the people who need Medicare and Medicaid.\\\\nAmerica cannot become stronger if they become weaker.\\\\n\\\\nThe G.I. Bill for workers, tax relief for education and child rearing,\\\\npension availability and protection, access to health care, preservation of\\\\nMedicare and Medicaid--these things, along with the Family and Medical\\\\nLeave Act passed in 1993--these things will help responsible, hard-working\\\\nAmerican families to make the most of their own lives.\\\\n\\\\nBut employers and employees must do their part, as well, as they are doing\\\\nin so many of our finest companies--working together, putting the\\\\nlong-term prosperity ahead of the short-term gain. As workers increase\\\\ntheir hours and their productivity, employers should make sure they get the\\\\nskills they need and share the benefits of the good years, as well as the\\\\nburdens of the bad ones. When companies and workers work as a team they do\\\\nbetter, and so does America.\\\\n\\\\nCrime\\\\n\\\\nOur fourth great challenge is to take our streets back from crime and gangs\\\\nand drugs. At last we have begun to find a way to reduce crime, forming\\\\ncommunity partnerships with local police forces to catch criminals and\\\\nprevent crime. This strategy, called community policing, is clearly\\\\nworking. Violent crime is coming down all across America. In New York City\\\\nmurders are down 25 percent; in St. Louis, 18 percent; in Seattle, 32\\\\npercent. But we still have a long way to go before our streets are safe and\\\\nour people are free from fear.\\\\n\\\\nThe Crime Bill of 1994 is critical to the success of community policing. It\\\\nprovides funds for 100,000 new police in communities of all sizes. We\\'re\\\\nalready a third of the way there. And I challenge the Congress to finish\\\\nthe job. Let us stick with a strategy that\\'s working and keep the crime\\\\nrate coming down.\\\\n\\\\nCommunity policing also requires bonds of trust between citizens and\\\\npolice. I ask all Americans to respect and support our law enforcement\\\\nofficers. And to our police, I say, our children need you as role models\\\\nand heroes. Don\\'t let them down.\\\\n\\\\nThe Brady Bill has already stopped 44,000 people with criminal records from\\\\nbuying guns. The assault weapons ban is keeping 19 kinds of assault weapons\\\\nout of the hands of violent gangs. I challenge the Congress to keep those\\\\nlaws on the books.\\\\n\\\\nOur next step in the fight against crime is to take on gangs the way we\\\\nonce took on the mob. I\\'m directing the FBI and other investigative\\\\nagencies to target gangs that involve juveniles in violent crime, and to\\\\nseek authority to prosecute as adults teenagers who maim and kill like\\\\nadults.\\\\n\\\\nAnd I challenge local housing authorities and tenant associations: Criminal\\\\ngang members and drug dealers are destroying the lives of decent tenants.\\\\nFrom now on, the rule for residents who commit crime and peddle drugs\\\\nshould be one strike and you\\'re out.\\\\n\\\\nI challenge every state to match federal policy to assure that serious\\\\nviolent criminals serve at least 85 percent of their sentence.\\\\n\\\\nMore police and punishment are important, but they\\'re not enough. We have\\\\ngot to keep more of our young people out of trouble, with prevention\\\\nstrategies not dictated by Washington, but developed in communities. I\\\\nchallenge all of our communities, all of our adults, to give our children\\\\nfutures to say yes to. And I challenge Congress not to abandon the Crime\\\\nBill\\'s support of these grass-roots prevention efforts.\\\\n\\\\nFinally, to reduce crime and violence we have to reduce the drug problem.\\\\nThe challenge begins in our homes, with parents talking to their children\\\\nopenly and firmly. It embraces our churches and synagogues, our youth\\\\ngroups and our schools.\\\\n\\\\nI challenge Congress not to cut our support for drug-free schools. People\\\\nlike the D.A.R.E. officers are making a real impression on grade\\\\nschoolchildren that will give them the strength to say no when the time\\\\ncomes.\\\\n\\\\nMeanwhile, we continue our efforts to cut the flow of drugs into America.\\\\nFor the last two years, one man in particular has been on the front lines\\\\nof that effort. Tonight I am nominating him--a hero of the Persian Gulf\\\\nWar and the Commander in Chief of the United States Military Southern\\\\nCommand--General Barry McCaffrey, as America\\'s new Drug Czar.\\\\n\\\\nGeneral McCaffrey has earned three Purple Hearts and two Silver Stars\\\\nfighting for this country. Tonight I ask that he lead our nation\\'s battle\\\\nagainst drugs at home and abroad. To succeed, he needs a force far larger\\\\nthan he has ever commanded before. He needs all of us. Every one of us has\\\\na role to play on this team.\\\\n\\\\nThank you, General McCaffrey, for agreeing to serve your country one more\\\\ntime.\\\\n\\\\nEnvironment\\\\n\\\\nOur fifth challenge: to leave our environment safe and clean for the next\\\\ngeneration. Because of a generation of bipartisan effort we do have cleaner\\\\nwater and air, lead levels in children\\'s blood has been cut by 70 percent,\\\\ntoxic emissions from factories cut in half. Lake Erie was dead, and now\\\\nit\\'s a thriving resource. But 10 million children under 12 still live\\\\nwithin four miles of a toxic waste dump. A third of us breathe air that\\\\nendangers our health. And in too many communities, the water is not safe to\\\\ndrink. We still have much to do.\\\\n\\\\nYet Congress has voted to cut environmental enforcement by 25 percent. That\\\\nmeans more toxic chemicals in our water, more smog in our air, more\\\\npesticides in our food. Lobbyists for polluters have been allowed to write\\\\ntheir own loopholes into bills to weaken laws that protect the health and\\\\nsafety of our children. Some say that the taxpayer should pick up the tab\\\\nfor toxic waste and let polluters who can afford to fix it off the hook. I\\\\nchallenge Congress to reexamine those policies and to reverse them.\\\\n\\\\nThis issue has not been a partisan issue. The most significant\\\\nenvironmental gains in the last 30 years were made under a Democratic\\\\nCongress and President Richard Nixon. We can work together. We have to\\\\nbelieve some basic things. Do you believe we can expand the economy without\\\\nhurting the environment? I do. Do you believe we can create more jobs over\\\\nthe long run by cleaning the environment up? I know we can. That should be\\\\nour commitment.\\\\n\\\\nWe must challenge businesses and communities to take more initiative in\\\\nprotecting the environment, and we have to make it easier for them to do\\\\nit. To businesses this administration is saying: If you can find a cheaper,\\\\nmore efficient way than government regulations require to meet tough\\\\npollution standards, do it--as long as you do it right. To communities we\\\\nsay: We must strengthen community right-to-know laws requiring polluters to\\\\ndisclose their emissions, but you have to use the information to work with\\\\nbusiness to cut pollution. People do have a right to know that their air\\\\nand their water are safe.\\\\n\\\\nForeign Policy\\\\n\\\\nOur sixth challenge is to maintain America\\'s leadership in the fight for\\\\nfreedom and peace throughout the world. Because of American leadership,\\\\nmore people than ever before live free and at peace. And Americans have\\\\nknown 50 years of prosperity and security.\\\\n\\\\nWe owe thanks especially to our veterans of World War II. I would like to\\\\nsay to Senator Bob Dole and to all others in this Chamber who fought in\\\\nWorld War II, and to all others on both sides of the aisle who have fought\\\\nbravely in all our conflicts since: I salute your service, and so do the\\\\nAmerican people.\\\\n\\\\nAll over the world, even after the Cold War, people still look to us and\\\\ntrust us to help them seek the blessings of peace and freedom. But as the\\\\nCold War fades into memory, voices of isolation say America should retreat\\\\nfrom its responsibilities. I say they are wrong.\\\\n\\\\nThe threats we face today as Americans respect no nation\\'s borders. Think\\\\nof them: terrorism, the spread of weapons of mass destruction, organized\\\\ncrime, drug trafficking, ethnic and religious hatred, aggression by rogue\\\\nstates, environmental degradation. If we fail to address these threats\\\\ntoday, we will suffer the consequences in all our tomorrows.\\\\n\\\\nOf course, we can\\'t be everywhere. Of course, we can\\'t do everything. But\\\\nwhere our interests and our values are at stake, and where we can make a\\\\ndifference, America must lead. We must not be isolationist.\\\\n\\\\nWe must not be the world\\'s policeman. But we can and should be the world\\'s\\\\nvery best peacemaker. By keeping our military strong, by using diplomacy\\\\nwhere we can and force where we must, by working with others to share the\\\\nrisk and the cost of our efforts, America is making a difference for people\\\\nhere and around the world. For the first time since the dawn of the nuclear\\\\nage, there is not a single Russian missile pointed at America\\'s children.\\\\n\\\\nNorth Korea\\\\n\\\\nNorth Korea has now frozen its dangerous nuclear weapons program. In Haiti,\\\\nthe dictators are gone, democracy has a new day, the flow of desperate\\\\nrefugees to our shores has subsided. Through tougher trade deals for\\\\nAmerica--over 80 of them--we have opened markets abroad, and now exports\\\\nare at an all-time high, growing faster than imports and creating good\\\\nAmerican jobs.\\\\n\\\\nNorthern Ireland\\\\n\\\\nWe stood with those taking risks for peace: In Northern Ireland, where\\\\nCatholic and Protestant children now tell their parents, violence must\\\\nnever return. In the Middle East, where Arabs and Jews who once seemed\\\\ndestined to fight forever now share knowledge and resources, and even\\\\ndreams.\\\\n\\\\nBosnia\\\\n\\\\nAnd we stood up for peace in Bosnia. Remember the skeletal prisoners, the\\\\nmass graves, the campaign to rape and torture, the endless lines of\\\\nrefugees, the threat of a spreading war. All these threats, all these\\\\nhorrors have now begun to give way to the promise of peace. Now, our troops\\\\nand a strong NATO, together with our new partners from Central Europe and\\\\nelsewhere, are helping that peace to take hold.\\\\n\\\\nAs all of you know, I was just there with a bipartisan congressional group,\\\\nand I was so proud not only of what our troops were doing, but of the pride\\\\nthey evidenced in what they were doing. They knew what America\\'s mission in\\\\nthis world is, and they were proud to be carrying it out.\\\\n\\\\nThrough these efforts, we have enhanced the security of the American\\\\npeople. But make no mistake about it: important challenges remain.\\\\n\\\\nRussia\\\\n\\\\nThe START II Treaty with Russia will cut our nuclear stockpiles by another\\\\n25 percent. I urge the Senate to ratify it--now. We must end the race to\\\\ncreate new nuclear weapons by signing a truly comprehensive nuclear test\\\\nban treaty--this year.\\\\n\\\\nAs we remember what happened in the Japanese subway, we can outlaw poison\\\\ngas forever if the Senate ratifies the Chemical Weapons Convention--this\\\\nyear. We can intensify the fight against terrorists and organized criminals\\\\nat home and abroad if Congress passes the anti-terrorism legislation I\\\\nproposed after the Oklahoma City bombing--now. We can help more people\\\\nmove from hatred to hope all across the world in our own interest if\\\\nCongress gives us the means to remain the world\\'s leader for peace.\\\\n\\\\nMy fellow Americans, the six challenges I have just discussed are for all\\\\nof us. Our seventh challenge is really America\\'s challenge to those of us\\\\nin this hallowed hall tonight: to reinvent our government and make our\\\\ndemocracy work for them.\\\\n\\\\nReform\\\\n\\\\nLast year this Congress applied to itself the laws it applies to everyone\\\\nelse. This Congress banned gifts and meals from lobbyists. This Congress\\\\nforced lobbyists to disclose who pays them and what legislation they are\\\\ntrying to pass or kill. This Congress did that, and I applaud you for it.\\\\n\\\\nNow I challenge Congress to go further--to curb special interest influence\\\\nin politics by passing the first truly bipartisan campaign reform bill in a\\\\ngeneration. You, Republicans and Democrats alike, can show the American\\\\npeople that we can limit spending and open the airwaves to all candidates.\\\\n\\\\nI also appeal to Congress to pass the line-item veto you promised the\\\\nAmerican people.\\\\n\\\\nOur administration is working hard to give the American people a government\\\\nthat works better and costs less. Thanks to the work of Vice President\\\\nGore, we are eliminating 16,000 pages of unnecessary rules and regulations,\\\\nshifting more decision-making out of Washington, back to states and local\\\\ncommunities.\\\\n\\\\nAs we move into the era of balanced budgets and smaller government, we must\\\\nwork in new ways to enable people to make the most of their own lives. We\\\\nare helping America\\'s communities, not with more bureaucracy, but with more\\\\nopportunities. Through our successful Empowerment Zones and Community\\\\nDevelopment Banks, we are helping people to find jobs, to start businesses.\\\\nAnd with tax incentives for companies that clean up abandoned industrial\\\\nproperty, we can bring jobs back to places that desperately, desperately\\\\nneed them.\\\\n\\\\nBut there are some areas that the federal government should not leave and\\\\nshould address and address strongly. One of these areas is the problem of\\\\nillegal immigration. After years of neglect, this administration has taken\\\\na strong stand to stiffen the protection of our borders. We are increasing\\\\nborder controls by 50 percent. We are increasing inspections to prevent the\\\\nhiring of illegal immigrants. And tonight, I announce I will sign an\\\\nexecutive order to deny federal contracts to businesses that hire illegal\\\\nimmigrants.\\\\n\\\\nLet me be very clear about this: We are still a nation of immigrants; we\\\\nshould be proud of it. We should honor every legal immigrant here, working\\\\nhard to become a new citizen. But we are also a nation of laws.\\\\n\\\\nI want to say a special word now to those who work for our federal\\\\ngovernment. Today our federal government is 200,000 employees smaller than\\\\nit was the day I took office as President.\\\\n\\\\nOur federal government today is the smallest it has been in 30 years, and\\\\nit\\'s getting smaller every day. Most of our fellow Americans probably don\\'t\\\\nknow that. And there is a good reason: The remaining federal work force is\\\\ncomposed of Americans who are now working harder and working smarter than\\\\never before, to make sure the quality of our services does not decline.\\\\n\\\\nI\\'d like to give you one example. His name is Richard Dean. He is a 49\\\\nyear-old Vietnam veteran who\\'s worked for the Social Security\\\\nAdministration for 22 years now. Last year he was hard at work in the\\\\nFederal Building in Oklahoma City when the blast killed 169 people and\\\\nbrought the rubble down all around him. He reentered that building four\\\\ntimes. He saved the lives of three women. He\\'s here with us this evening,\\\\nand I want to recognize Richard and applaud both his public service and his\\\\nextraordinary personal heroism.\\\\n\\\\nBut Richard Dean\\'s story doesn\\'t end there. This last November, he was\\\\nforced out of his office when the government shut down. And the second time\\\\nthe government shut down he continued helping Social Security recipients,\\\\nbut he was working without pay.\\\\n\\\\nOn behalf of Richard Dean and his family, and all the other people who are\\\\nout there working every day doing a good job for the American people, I\\\\nchallenge all of you in this Chamber: Never, ever shut the federal\\\\ngovernment down again.\\\\n\\\\nOn behalf of all Americans, especially those who need their Social Security\\\\npayments at the beginning of March, I also challenge the Congress to\\\\npreserve the full faith and credit of the United States--to honor the\\\\nobligations of this great nation as we have for 220 years; to rise above\\\\npartisanship and pass a straightforward extension of the debt limit and\\\\nshow people America keeps its word.\\\\n\\\\nI know that this evening I have asked a lot of Congress, and even more from\\\\nAmerica. But I am confident: When Americans work together in their homes,\\\\ntheir schools, their churches, their synagogues, their civic groups, their\\\\nworkplace, they can meet any challenge.\\\\n\\\\nI say again, the era of big government is over. But we can\\'t go back to the\\\\nera of fending for yourself. We have to go forward to the era of working\\\\ntogether as a community, as a team, as one America, with all of us reaching\\\\nacross these lines that divide us--the division, the discrimination, the\\\\nrancor--we have to reach across it to find common ground. We have got to\\\\nwork together if we want America to work.\\\\n\\\\nI want you to meet two more people tonight who do just that. Lucius Wright\\\\nis a teacher in the Jackson, Mississippi, public school system. A Vietnam\\\\nveteran, he has created groups to help inner-city children turn away from\\\\ngangs and build futures they can believe in. Sergeant Jennifer Rodgers is a\\\\npolice officer in Oklahoma City. Like Richard Dean, she helped to pull her\\\\nfellow citizens out of the rubble and deal with that awful tragedy. She\\\\nreminds us that in their response to that atrocity the people of Oklahoma\\\\nCity lifted all of us with their basic sense of decency and community.\\\\n\\\\nLucius Wright and Jennifer Rodgers are special Americans. And I have the\\\\nhonor to announce tonight that they are the very first of several thousand\\\\nAmericans who will be chosen to carry the Olympic torch on its long journey\\\\nfrom Los Angeles to the centennial of the modern Olympics in Atlanta this\\\\nsummer--not because they are star athletes, but because they are star\\\\ncitizens, community heroes meeting America\\'s challenges. They are our real\\\\nchampions.\\\\n\\\\nNow, each of us must hold high the torch of citizenship in our own lives.\\\\nNone of us can finish the race alone. We can only achieve our destiny\\\\ntogether--one hand, one generation, one American connecting to another.\\\\n\\\\nThere have always been things we could do together--dreams we could make\\\\nreal--which we could never have done on our own. We Americans have forged\\\\nour identity, our very union, from every point of view and every point on\\\\nthe planet, every different opinion. But we must be bound together by a\\\\nfaith more powerful than any doctrine that divides us--by our belief in\\\\nprogress, our love of liberty, and our relentless search for common\\\\nground.\\\\n\\\\nAmerica has always sought and always risen to every challenge. Who would\\\\nsay that, having come so far together, we will not go forward from here?\\\\nWho would say that this age of possibility is not for all Americans?\\\\n\\\\nOur country is and always has been a great and good nation. But the best is\\\\nyet to come, if we all do our part.\\\\n\\\\nThank you, God bless you and God bless the United States of America. Thank\\\\nyou.\"'"
            ]
          },
          "metadata": {
            "tags": []
          },
          "execution_count": 11
        }
      ]
    },
    {
      "cell_type": "code",
      "metadata": {
        "id": "bFeD-JIfa1Ps",
        "colab_type": "code",
        "colab": {
          "base_uri": "https://localhost:8080/",
          "height": 54
        },
        "outputId": "14fb9e09-2751-41e6-d320-a10377c6fa91"
      },
      "source": [
        "\n",
        "#Getting rid of newlines and first random letter/space\n",
        "\n",
        "roose_str = re.sub(r'\\\\n', ' ', roose_str)\n",
        "clint_str = re.sub(r'\\\\n', ' ', clint_str)\n",
        "roose_str\n",
        "\n",
        "roosevelt = roose_str[2:]\n",
        "clinton = clint_str[2:]\n",
        "clinton"
      ],
      "execution_count": 12,
      "outputs": [
        {
          "output_type": "execute_result",
          "data": {
            "text/plain": [
              "'Mr. Speaker, Mr. Vice President, members of the 104th Congress, distinguished guests, my fellow Americans all across our land:  Let me begin tonight by saying to our men and women in uniform around the world, and especially those helping peace take root in Bosnia and to their families, I thank you. America is very, very proud of you.  My duty tonight is to report on the state of the Union--not the state of our government, but of our American community; and to set forth our responsibilities, in the words of our Founders, to form a more perfect union.  The state of the Union is strong. Our economy is the healthiest it has been in three decades. We have the lowest combined rates of unemployment and inflation in 27 years. We have created nearly 8 million new jobs, over a million of them in basic industries, like construction and automobiles. America is selling more cars than Japan for the first time since the 1970s. And for three years in a row, we have had a record number of new businesses started in our country.  Our leadership in the world is also strong, bringing hope for new peace. And perhaps most important, we are gaining ground in restoring our fundamental values. The crime rate, the welfare and food stamp rolls, the poverty rate and the teen pregnancy rate are all down. And as they go down, prospects for America\\'s future go up.  We live in an age of possibility. A hundred years ago we moved from farm to factory. Now we move to an age of technology, information, and global competition. These changes have opened vast new opportunities for our people, but they have also presented them with stiff challenges. While more Americans are living better, too many of our fellow citizens are working harder just to keep up, and they are rightly concerned about the security of their families.  The Role Of Government  We must answer here three fundamental questions: First, how do we make the American Dream of opportunity for all a reality for all Americans who are willing to work for it? Second, how do we preserve our old and enduring values as we move into the future? And, third, how do we meet these challenges together, as one America?  We know big government does not have all the answers. We know there\\'s not a program for every problem. We have worked to give the American people a smaller, less bureaucratic government in Washington. And we have to give the American people one that lives within its means.  The era of big government is over. But we cannot go back to the time when our citizens were left to fend for themselves. Instead, we must go forward as one America, one nation working together to meet the challenges we face together. Self-reliance and teamwork are not opposing virtues; we must have both.  I believe our new, smaller government must work in an old-fashioned American way, together with all of our citizens through state and local governments, in the workplace, in religious, charitable and civic associations. Our goal must be to enable all our people to make the most of their own lives--with stronger families, more educational opportunity, economic security, safer streets, a cleaner environment in a safer world.  To improve the state of our Union, we must ask more of ourselves, we must expect more of each other, and we must face our challenges together.  Here, in this place, our responsibility begins with balancing the budget in a way that is fair to all Americans. There is now broad bipartisan agreement that permanent deficit spending must come to an end.  I compliment the Republican leadership and the membership for the energy and determination you have brought to this task of balancing the budget. And I thank the Democrats for passing the largest deficit reduction plan in history in 1993, which has already cut the deficit nearly in half in three years.  Deficit  Since 1993, we have all begun to see the benefits of deficit reduction. Lower interest rates have made it easier for businesses to borrow and to invest and to create new jobs. Lower interest rates have brought down the cost of home mortgages, car payments and credit card rates to ordinary citizens. Now, it is time to finish the job and balance the budget.  Though differences remain among us which are significant, the combined total of the proposed savings that are common to both plans is more than enough, using the numbers from your Congressional Budget Office to balance the budget in seven years and to provide a modest tax cut.  These cuts are real. They will require sacrifice from everyone. But these cuts do not undermine our fundamental obligations to our parents, our children, and our future, by endangering Medicare, or Medicaid, or education, or the environment, or by raising taxes on working families.  I have said before, and let me say again, many good ideas have come out of our negotiations. I have learned a lot about the way both Republicans and Democrats view the debate before us. I have learned a lot about the good ideas that we could all embrace.  We ought to resolve our remaining differences. I am willing to work to resolve them. I am ready to meet tomorrow. But I ask you to consider that we should at least enact these savings that both plans have in common and give the American people their balanced budget, a tax cut, lower interest rates, and a brighter future. We should do that now, and make permanent deficits yesterday\\'s legacy.  Now it is time for us to look also to the challenges of today and tomorrow, beyond the burdens of yesterday. The challenges are significant. But America was built on challenges, not promises. And when we work together to meet them, we never fail. That is the key to a more perfect Union. Our individual dreams must be realized by our common efforts.  Tonight I want to speak to you about the challenges we all face as a people.  Strengthening Families  Our first challenge is to cherish our children and strengthen America\\'s families. Family is the foundation of American life. If we have stronger families, we will have a stronger America.  Before I go on, I would like to take just a moment to thank my own family, and to thank the person who has taught me more than anyone else over 25 years about the importance of families and children--a wonderful wife, a magnificent mother and a great First Lady. Thank you, Hillary.  All strong families begin with taking more responsibility for our children. I have heard Mrs. Gore say that it\\'s hard to be a parent today, but it\\'s even harder to be a child. So all of us, not just as parents, but all of us in our other roles--our media, our schools, our teachers, our communities, our churches and synagogues, our businesses, our governments--all of us have a responsibility to help our children to make it and to make the most of their lives and their God-given capacities.  To the media, I say you should create movies and CDs and television shows you\\'d want your own children and grandchildren to enjoy.  I call on Congress to pass the requirement for a V-chip in TV sets so that parents can screen out programs they believe are inappropriate for their children. When parents control what their young children see, that is not censorship; that is enabling parents to assume more personal responsibility for their children\\'s upbringing. And I urge them to do it. The V-chip requirement is part of the important telecommunications bill now pending in this Congress. It has bipartisan support, and I urge you to pass it now.  To make the V-chip work, I challenge the broadcast industry to do what movies have done--to identify your programming in ways that help parents to protect their children. And I invite the leaders of major media corporations in the entertainment industry to come to the White House next month to work with us in a positive way on concrete ways to improve what our children see on television. I am ready to work with you.  I say to those who make and market cigarettes: every year a million children take up smoking, even though it is against the law. Three hundred thousand of them will have their lives shortened as a result. Our administration has taken steps to stop the massive marketing campaigns that appeal to our children. We are simply saying: Market your products to adults, if you wish, but draw the line on children.  I say to those who are on welfare, and especially to those who have been trapped on welfare for a long time: For too long our welfare system has undermined the values of family and work, instead of supporting them. The Congress and I are near agreement on sweeping welfare reform. We agree on time limits, tough work requirements, and the toughest possible child support enforcement. But I believe we must also provide child care so that mothers who are required to go to work can do so without worrying about what is happening to their children.  I challenge this Congress to send me a bipartisan welfare reform bill that will really move people from welfare to work and do the right thing by our children. I will sign it immediately.  Let us be candid about this difficult problem. Passing a law, even the best possible law, is only a first step. The next step is to make it work. I challenge people on welfare to make the most of this opportunity for independence. I challenge American businesses to give people on welfare the chance to move into the work force. I applaud the work of religious groups and others who care for the poor. More than anyone else in our society, they know the true difficulty of the task before us, and they are in a position to help. Every one of us should join them. That is the only way we can make real welfare reform a reality in the lives of the American people.  To strengthen the family we must do everything we can to keep the teen pregnancy rate going down. I am gratified, as I\\'m sure all Americans are, that it has dropped for two years in a row. But we all know it is still far too high.  Tonight I am pleased to announce that a group of prominent Americans is responding to that challenge by forming an organization that will support grass-roots community efforts all across our country in a national campaign against teen pregnancy. And I challenge all of us and every American to join their efforts.  I call on American men and women in families to give greater respect to one another. We must end the deadly scourge of domestic violence in our country. And I challenge America\\'s families to work harder to stay together. For families who stay together not only do better economically, their children do better as well.  In particular, I challenge the fathers of this country to love and care for their children. If your family has separated, you must pay your child support. We\\'re doing more than ever to make sure you do, and we\\'re going to do more, but let\\'s all admit something about that, too: A check will not substitute for a parent\\'s love and guidance. And only you--only you can make the decision to help raise your children. No matter who you are, how low or high your station in life, it is the most basic human duty of every American to do that job to the best of his or her ability.  Education  Our second challenge is to provide Americans with the educational opportunities we will all need for this new century. In our schools, every classroom in America must be connected to the information superhighway, with computers and good software, and well-trained teachers. We are working with the telecommunications industry, educators and parents to connect 20 percent of California\\'s classrooms by this spring, and every classroom and every library in the entire United States by the year 2000. I ask Congress to support this education technology initiative so that we can make sure this national partnership succeeds.  Every diploma ought to mean something. I challenge every community, every school and every state to adopt national standards of excellence; to measure whether schools are meeting those standards; to cut bureaucratic red tape so that schools and teachers have more flexibility for grass-roots reform; and to hold them accountable for results. That\\'s what our Goals 2000 initiative is all about.  I challenge every state to give all parents the right to choose which public school their children will attend; and to let teachers form new schools with a charter they can keep only if they do a good job.  I challenge all our schools to teach character education, to teach good values and good citizenship. And if it means that teenagers will stop killing each other over designer jackets, then our public schools should be able to require their students to wear school uniforms.  I challenge our parents to become their children\\'s first teachers. Turn off the TV. See that the homework is done. And visit your children\\'s classroom. No program, no teacher, no one else can do that for you.  My fellow Americans, higher education is more important today than ever before. We\\'ve created a new student loan program that\\'s made it easier to borrow and repay those loans, and we have dramatically cut the student loan default rate. That\\'s something we should all be proud of, because it was unconscionably high just a few years ago. Through AmeriCorps, our national service program, this year 25,000 young people will earn college money by serving their local communities to improve the lives of their friends and neighbors. These initiatives are right for America and we should keep them going.  And we should also work hard to open the doors of college even wider. I challenge Congress to expand work-study and help one million young Americans work their way through college by the year 2000; to provide a $1000 merit scholarship for the top five percent of graduates in every high school in the United States; to expand Pell Grant scholarships for deserving and needy students; and to make up to $10,000 a year of college tuition tax deductible. It\\'s a good idea for America.  Our third challenge is to help every American who is willing to work for it, achieve economic security in this new age. People who work hard still need support to get ahead in the new economy. They need education and training for a lifetime. They need more support for families raising children. They need retirement security. They need access to health care. More and more Americans are finding that the education of their childhood simply doesn\\'t last a lifetime.  G.I. Bill For Workers  So I challenge Congress to consolidate 70 overlapping, antiquated job-training programs into a simple voucher worth $2,600 for unemployed or underemployed workers to use as they please for community college tuition or other training. This is a G.I. Bill for America\\'s workers we should all be able to agree on.  More and more Americans are working hard without a raise. Congress sets the minimum wage. Within a year, the minimum wage will fall to a 40-year low in purchasing power. Four dollars and 25 cents an hour is no longer a living wage, but millions of Americans and their children are trying to live on it. I challenge you to raise their minimum wage.  In 1993, Congress cut the taxes of 15 million hard-pressed working families to make sure that no parents who work full-time would have to raise their children in poverty, and to encourage people to move from welfare to work. This expanded earned income tax credit is now worth about $1,800 a year to a family of four living on $20,000. The budget bill I vetoed would have reversed this achievement and raised taxes on nearly 8 million of these people. We should not do that.  I also agree that the people who are helped under this initiative are not all those in our country who are working hard to do a good job raising their children and at work. I agree that we need a tax credit for working families with children. That\\'s one of the things most of us in this Chamber, I hope, can agree on. I know it is strongly supported by the Republican majority. And it should be part of any final budget agreement.  I want to challenge every business that can possibly afford it to provide pensions for your employees. And I challenge Congress to pass a proposal recommended by the White House Conference on Small Business that would make it easier for small businesses and farmers to establish their own pension plans. That is something we should all agree on.  We should also protect existing pension plans. Two years ago, with bipartisan support that was almost unanimous on both sides of the aisle, we moved to protect the pensions of 8 million working people and to stabilize the pensions of 32 million more. Congress should not now let companies endanger those workers\\' pension funds. I know the proposal to liberalize the ability of employers to take money out of pension funds for other purposes would raise money for the treasury. But I believe it is false economy. I vetoed that proposal last year, and I would have to do so again.  Health Care  Finally, if our working families are going to succeed in the new economy, they must be able to buy health insurance policies that they do not lose when they change jobs or when someone in their family gets sick. Over the past two years, over one million Americans in working families have lost their health insurance. We have to do more to make health care available to every American. And Congress should start by passing the bipartisan bill sponsored by Senator Kennedy and Senator Kassebaum that would require insurance companies to stop dropping people when they switch jobs, and stop denying coverage for preexisting conditions. Let\\'s all do that.  And even as we enact savings in these programs, we must have a common commitment to preserve the basic protections of Medicare and Medicaid--not just to the poor, but to people in working families, including children, people with disabilities, people with AIDS, and senior citizens in nursing homes.  In the past three years, we\\'ve saved $15 billion just by fighting health care fraud and abuse. We have all agreed to save much more. We have all agreed to stabilize the Medicare Trust Fund. But we must not abandon our fundamental obligations to the people who need Medicare and Medicaid. America cannot become stronger if they become weaker.  The G.I. Bill for workers, tax relief for education and child rearing, pension availability and protection, access to health care, preservation of Medicare and Medicaid--these things, along with the Family and Medical Leave Act passed in 1993--these things will help responsible, hard-working American families to make the most of their own lives.  But employers and employees must do their part, as well, as they are doing in so many of our finest companies--working together, putting the long-term prosperity ahead of the short-term gain. As workers increase their hours and their productivity, employers should make sure they get the skills they need and share the benefits of the good years, as well as the burdens of the bad ones. When companies and workers work as a team they do better, and so does America.  Crime  Our fourth great challenge is to take our streets back from crime and gangs and drugs. At last we have begun to find a way to reduce crime, forming community partnerships with local police forces to catch criminals and prevent crime. This strategy, called community policing, is clearly working. Violent crime is coming down all across America. In New York City murders are down 25 percent; in St. Louis, 18 percent; in Seattle, 32 percent. But we still have a long way to go before our streets are safe and our people are free from fear.  The Crime Bill of 1994 is critical to the success of community policing. It provides funds for 100,000 new police in communities of all sizes. We\\'re already a third of the way there. And I challenge the Congress to finish the job. Let us stick with a strategy that\\'s working and keep the crime rate coming down.  Community policing also requires bonds of trust between citizens and police. I ask all Americans to respect and support our law enforcement officers. And to our police, I say, our children need you as role models and heroes. Don\\'t let them down.  The Brady Bill has already stopped 44,000 people with criminal records from buying guns. The assault weapons ban is keeping 19 kinds of assault weapons out of the hands of violent gangs. I challenge the Congress to keep those laws on the books.  Our next step in the fight against crime is to take on gangs the way we once took on the mob. I\\'m directing the FBI and other investigative agencies to target gangs that involve juveniles in violent crime, and to seek authority to prosecute as adults teenagers who maim and kill like adults.  And I challenge local housing authorities and tenant associations: Criminal gang members and drug dealers are destroying the lives of decent tenants. From now on, the rule for residents who commit crime and peddle drugs should be one strike and you\\'re out.  I challenge every state to match federal policy to assure that serious violent criminals serve at least 85 percent of their sentence.  More police and punishment are important, but they\\'re not enough. We have got to keep more of our young people out of trouble, with prevention strategies not dictated by Washington, but developed in communities. I challenge all of our communities, all of our adults, to give our children futures to say yes to. And I challenge Congress not to abandon the Crime Bill\\'s support of these grass-roots prevention efforts.  Finally, to reduce crime and violence we have to reduce the drug problem. The challenge begins in our homes, with parents talking to their children openly and firmly. It embraces our churches and synagogues, our youth groups and our schools.  I challenge Congress not to cut our support for drug-free schools. People like the D.A.R.E. officers are making a real impression on grade schoolchildren that will give them the strength to say no when the time comes.  Meanwhile, we continue our efforts to cut the flow of drugs into America. For the last two years, one man in particular has been on the front lines of that effort. Tonight I am nominating him--a hero of the Persian Gulf War and the Commander in Chief of the United States Military Southern Command--General Barry McCaffrey, as America\\'s new Drug Czar.  General McCaffrey has earned three Purple Hearts and two Silver Stars fighting for this country. Tonight I ask that he lead our nation\\'s battle against drugs at home and abroad. To succeed, he needs a force far larger than he has ever commanded before. He needs all of us. Every one of us has a role to play on this team.  Thank you, General McCaffrey, for agreeing to serve your country one more time.  Environment  Our fifth challenge: to leave our environment safe and clean for the next generation. Because of a generation of bipartisan effort we do have cleaner water and air, lead levels in children\\'s blood has been cut by 70 percent, toxic emissions from factories cut in half. Lake Erie was dead, and now it\\'s a thriving resource. But 10 million children under 12 still live within four miles of a toxic waste dump. A third of us breathe air that endangers our health. And in too many communities, the water is not safe to drink. We still have much to do.  Yet Congress has voted to cut environmental enforcement by 25 percent. That means more toxic chemicals in our water, more smog in our air, more pesticides in our food. Lobbyists for polluters have been allowed to write their own loopholes into bills to weaken laws that protect the health and safety of our children. Some say that the taxpayer should pick up the tab for toxic waste and let polluters who can afford to fix it off the hook. I challenge Congress to reexamine those policies and to reverse them.  This issue has not been a partisan issue. The most significant environmental gains in the last 30 years were made under a Democratic Congress and President Richard Nixon. We can work together. We have to believe some basic things. Do you believe we can expand the economy without hurting the environment? I do. Do you believe we can create more jobs over the long run by cleaning the environment up? I know we can. That should be our commitment.  We must challenge businesses and communities to take more initiative in protecting the environment, and we have to make it easier for them to do it. To businesses this administration is saying: If you can find a cheaper, more efficient way than government regulations require to meet tough pollution standards, do it--as long as you do it right. To communities we say: We must strengthen community right-to-know laws requiring polluters to disclose their emissions, but you have to use the information to work with business to cut pollution. People do have a right to know that their air and their water are safe.  Foreign Policy  Our sixth challenge is to maintain America\\'s leadership in the fight for freedom and peace throughout the world. Because of American leadership, more people than ever before live free and at peace. And Americans have known 50 years of prosperity and security.  We owe thanks especially to our veterans of World War II. I would like to say to Senator Bob Dole and to all others in this Chamber who fought in World War II, and to all others on both sides of the aisle who have fought bravely in all our conflicts since: I salute your service, and so do the American people.  All over the world, even after the Cold War, people still look to us and trust us to help them seek the blessings of peace and freedom. But as the Cold War fades into memory, voices of isolation say America should retreat from its responsibilities. I say they are wrong.  The threats we face today as Americans respect no nation\\'s borders. Think of them: terrorism, the spread of weapons of mass destruction, organized crime, drug trafficking, ethnic and religious hatred, aggression by rogue states, environmental degradation. If we fail to address these threats today, we will suffer the consequences in all our tomorrows.  Of course, we can\\'t be everywhere. Of course, we can\\'t do everything. But where our interests and our values are at stake, and where we can make a difference, America must lead. We must not be isolationist.  We must not be the world\\'s policeman. But we can and should be the world\\'s very best peacemaker. By keeping our military strong, by using diplomacy where we can and force where we must, by working with others to share the risk and the cost of our efforts, America is making a difference for people here and around the world. For the first time since the dawn of the nuclear age, there is not a single Russian missile pointed at America\\'s children.  North Korea  North Korea has now frozen its dangerous nuclear weapons program. In Haiti, the dictators are gone, democracy has a new day, the flow of desperate refugees to our shores has subsided. Through tougher trade deals for America--over 80 of them--we have opened markets abroad, and now exports are at an all-time high, growing faster than imports and creating good American jobs.  Northern Ireland  We stood with those taking risks for peace: In Northern Ireland, where Catholic and Protestant children now tell their parents, violence must never return. In the Middle East, where Arabs and Jews who once seemed destined to fight forever now share knowledge and resources, and even dreams.  Bosnia  And we stood up for peace in Bosnia. Remember the skeletal prisoners, the mass graves, the campaign to rape and torture, the endless lines of refugees, the threat of a spreading war. All these threats, all these horrors have now begun to give way to the promise of peace. Now, our troops and a strong NATO, together with our new partners from Central Europe and elsewhere, are helping that peace to take hold.  As all of you know, I was just there with a bipartisan congressional group, and I was so proud not only of what our troops were doing, but of the pride they evidenced in what they were doing. They knew what America\\'s mission in this world is, and they were proud to be carrying it out.  Through these efforts, we have enhanced the security of the American people. But make no mistake about it: important challenges remain.  Russia  The START II Treaty with Russia will cut our nuclear stockpiles by another 25 percent. I urge the Senate to ratify it--now. We must end the race to create new nuclear weapons by signing a truly comprehensive nuclear test ban treaty--this year.  As we remember what happened in the Japanese subway, we can outlaw poison gas forever if the Senate ratifies the Chemical Weapons Convention--this year. We can intensify the fight against terrorists and organized criminals at home and abroad if Congress passes the anti-terrorism legislation I proposed after the Oklahoma City bombing--now. We can help more people move from hatred to hope all across the world in our own interest if Congress gives us the means to remain the world\\'s leader for peace.  My fellow Americans, the six challenges I have just discussed are for all of us. Our seventh challenge is really America\\'s challenge to those of us in this hallowed hall tonight: to reinvent our government and make our democracy work for them.  Reform  Last year this Congress applied to itself the laws it applies to everyone else. This Congress banned gifts and meals from lobbyists. This Congress forced lobbyists to disclose who pays them and what legislation they are trying to pass or kill. This Congress did that, and I applaud you for it.  Now I challenge Congress to go further--to curb special interest influence in politics by passing the first truly bipartisan campaign reform bill in a generation. You, Republicans and Democrats alike, can show the American people that we can limit spending and open the airwaves to all candidates.  I also appeal to Congress to pass the line-item veto you promised the American people.  Our administration is working hard to give the American people a government that works better and costs less. Thanks to the work of Vice President Gore, we are eliminating 16,000 pages of unnecessary rules and regulations, shifting more decision-making out of Washington, back to states and local communities.  As we move into the era of balanced budgets and smaller government, we must work in new ways to enable people to make the most of their own lives. We are helping America\\'s communities, not with more bureaucracy, but with more opportunities. Through our successful Empowerment Zones and Community Development Banks, we are helping people to find jobs, to start businesses. And with tax incentives for companies that clean up abandoned industrial property, we can bring jobs back to places that desperately, desperately need them.  But there are some areas that the federal government should not leave and should address and address strongly. One of these areas is the problem of illegal immigration. After years of neglect, this administration has taken a strong stand to stiffen the protection of our borders. We are increasing border controls by 50 percent. We are increasing inspections to prevent the hiring of illegal immigrants. And tonight, I announce I will sign an executive order to deny federal contracts to businesses that hire illegal immigrants.  Let me be very clear about this: We are still a nation of immigrants; we should be proud of it. We should honor every legal immigrant here, working hard to become a new citizen. But we are also a nation of laws.  I want to say a special word now to those who work for our federal government. Today our federal government is 200,000 employees smaller than it was the day I took office as President.  Our federal government today is the smallest it has been in 30 years, and it\\'s getting smaller every day. Most of our fellow Americans probably don\\'t know that. And there is a good reason: The remaining federal work force is composed of Americans who are now working harder and working smarter than ever before, to make sure the quality of our services does not decline.  I\\'d like to give you one example. His name is Richard Dean. He is a 49 year-old Vietnam veteran who\\'s worked for the Social Security Administration for 22 years now. Last year he was hard at work in the Federal Building in Oklahoma City when the blast killed 169 people and brought the rubble down all around him. He reentered that building four times. He saved the lives of three women. He\\'s here with us this evening, and I want to recognize Richard and applaud both his public service and his extraordinary personal heroism.  But Richard Dean\\'s story doesn\\'t end there. This last November, he was forced out of his office when the government shut down. And the second time the government shut down he continued helping Social Security recipients, but he was working without pay.  On behalf of Richard Dean and his family, and all the other people who are out there working every day doing a good job for the American people, I challenge all of you in this Chamber: Never, ever shut the federal government down again.  On behalf of all Americans, especially those who need their Social Security payments at the beginning of March, I also challenge the Congress to preserve the full faith and credit of the United States--to honor the obligations of this great nation as we have for 220 years; to rise above partisanship and pass a straightforward extension of the debt limit and show people America keeps its word.  I know that this evening I have asked a lot of Congress, and even more from America. But I am confident: When Americans work together in their homes, their schools, their churches, their synagogues, their civic groups, their workplace, they can meet any challenge.  I say again, the era of big government is over. But we can\\'t go back to the era of fending for yourself. We have to go forward to the era of working together as a community, as a team, as one America, with all of us reaching across these lines that divide us--the division, the discrimination, the rancor--we have to reach across it to find common ground. We have got to work together if we want America to work.  I want you to meet two more people tonight who do just that. Lucius Wright is a teacher in the Jackson, Mississippi, public school system. A Vietnam veteran, he has created groups to help inner-city children turn away from gangs and build futures they can believe in. Sergeant Jennifer Rodgers is a police officer in Oklahoma City. Like Richard Dean, she helped to pull her fellow citizens out of the rubble and deal with that awful tragedy. She reminds us that in their response to that atrocity the people of Oklahoma City lifted all of us with their basic sense of decency and community.  Lucius Wright and Jennifer Rodgers are special Americans. And I have the honor to announce tonight that they are the very first of several thousand Americans who will be chosen to carry the Olympic torch on its long journey from Los Angeles to the centennial of the modern Olympics in Atlanta this summer--not because they are star athletes, but because they are star citizens, community heroes meeting America\\'s challenges. They are our real champions.  Now, each of us must hold high the torch of citizenship in our own lives. None of us can finish the race alone. We can only achieve our destiny together--one hand, one generation, one American connecting to another.  There have always been things we could do together--dreams we could make real--which we could never have done on our own. We Americans have forged our identity, our very union, from every point of view and every point on the planet, every different opinion. But we must be bound together by a faith more powerful than any doctrine that divides us--by our belief in progress, our love of liberty, and our relentless search for common ground.  America has always sought and always risen to every challenge. Who would say that, having come so far together, we will not go forward from here? Who would say that this age of possibility is not for all Americans?  Our country is and always has been a great and good nation. But the best is yet to come, if we all do our part.  Thank you, God bless you and God bless the United States of America. Thank you.\"'"
            ]
          },
          "metadata": {
            "tags": []
          },
          "execution_count": 12
        }
      ]
    },
    {
      "cell_type": "code",
      "metadata": {
        "id": "TMFuJscumkhG",
        "colab_type": "code",
        "colab": {}
      },
      "source": [
        "import spacy\n",
        "nlp = spacy.load('en')\n",
        "\n",
        "\n",
        "# All the processing work is done here, so it may take a while.\n",
        "roosevelt = nlp(roosevelt)\n",
        "clinton= nlp(clinton)"
      ],
      "execution_count": 0,
      "outputs": []
    },
    {
      "cell_type": "markdown",
      "metadata": {
        "id": "0erFEFB-yAt_",
        "colab_type": "text"
      },
      "source": [
        "## Exploration"
      ]
    },
    {
      "cell_type": "code",
      "metadata": {
        "id": "W0sJnwyKmkhL",
        "colab_type": "code",
        "colab": {
          "base_uri": "https://localhost:8080/",
          "height": 87
        },
        "outputId": "fa36c15a-bbd2-44da-d3d8-b780b75fd571"
      },
      "source": [
        "# Let's explore the objects we've built.\n",
        "print(\"The roose object is a {} object.\".format(type(roosevelt)))\n",
        "print(\"It is {} tokens long\".format(len(roosevelt)))\n",
        "print(\"The first three tokens are '{}'\".format(roosevelt[:3]))\n",
        "print(\"The type of each token is {}\".format(type(roosevelt[0])))"
      ],
      "execution_count": 14,
      "outputs": [
        {
          "output_type": "stream",
          "text": [
            "The roose object is a <class 'spacy.tokens.doc.Doc'> object.\n",
            "It is 19245 tokens long\n",
            "The first three tokens are 'To the Senate'\n",
            "The type of each token is <class 'spacy.tokens.token.Token'>\n"
          ],
          "name": "stdout"
        }
      ]
    },
    {
      "cell_type": "code",
      "metadata": {
        "id": "RNQaIjM6mkhR",
        "colab_type": "code",
        "colab": {}
      },
      "source": [
        "#Find the most common words\n",
        "\n",
        "from collections import Counter\n",
        "\n",
        "# Utility function to calculate how frequently words appear in the text.\n",
        "def word_frequencies(text, include_stop=True):\n",
        "    \n",
        "    # Build a list of words.\n",
        "    # Strip out punctuation and, optionally, stop words.\n",
        "    words = []\n",
        "    for token in text:\n",
        "        if not token.is_punct and (not token.is_stop or include_stop):\n",
        "            words.append(token.text)\n",
        "            \n",
        "    # Build and return a Counter object containing word counts.\n",
        "    return Counter(words)\n",
        "    \n",
        "# The most frequent words:\n",
        "roose_freq = word_frequencies(roosevelt).most_common(10)\n",
        "\n",
        "print(roose_freq)\n"
      ],
      "execution_count": 0,
      "outputs": []
    },
    {
      "cell_type": "markdown",
      "metadata": {
        "id": "mOZYHYb9fNBN",
        "colab_type": "text"
      },
      "source": [
        "## Code still including stop words (?) based on caps. Including spaces as well"
      ]
    },
    {
      "cell_type": "code",
      "metadata": {
        "id": "Gkgahn7ge4r0",
        "colab_type": "code",
        "colab": {}
      },
      "source": [
        "# Use our optional keyword argument to remove stop words.\n",
        "roose_freq = word_frequencies(roosevelt, include_stop=False).most_common(10)\n",
        "\n",
        "print('Roose:', roose_freq)\n"
      ],
      "execution_count": 0,
      "outputs": []
    },
    {
      "cell_type": "code",
      "metadata": {
        "id": "JC9og66ggaaW",
        "colab_type": "code",
        "colab": {}
      },
      "source": [
        "# Utility function to calculate how frequently lemas appear in the text.\n",
        "def lemma_frequencies(text, include_stop=True):\n",
        "    \n",
        "    # Build a list of lemas.\n",
        "    # Strip out punctuation and, optionally, stop words.\n",
        "    lemmas = []\n",
        "    for token in text:\n",
        "        if not token.is_punct and (not token.is_stop or include_stop):\n",
        "            lemmas.append(token.lemma_)\n",
        "            \n",
        "    # Build and return a Counter object containing word counts.\n",
        "    return Counter(lemmas)\n",
        "\n",
        "# Instantiate our list of most common lemmas.\n",
        "roose_lemma_freq = lemma_frequencies(roosevelt, include_stop=False).most_common(10)\n",
        "\n",
        "print('Roose Lemmas:', roose_lemma_freq)\n"
      ],
      "execution_count": 0,
      "outputs": []
    },
    {
      "cell_type": "code",
      "metadata": {
        "id": "XkIXyrMWg7aa",
        "colab_type": "code",
        "colab": {}
      },
      "source": [
        "# Initial exploration of sentences.\n",
        "sentences = list(roosevelt.sents)\n",
        "print(\"Roosevelt's State of the Union Address has {} sentences.\".format(len(sentences)))\n",
        "\n",
        "example_sentence = sentences[2]\n",
        "print(\"Here is an example: \\n{}\\n\".format(example_sentence))\n",
        "print('\\nParts of speech:')\n",
        "for token in example_sentence[:9]:\n",
        "    print(token.orth_, token.pos_)\n",
        "    print('\\nDependencies:')\n",
        "for token in example_sentence[:9]:\n",
        "    print(token.orth_, token.dep_, token.head.orth_)"
      ],
      "execution_count": 0,
      "outputs": []
    },
    {
      "cell_type": "code",
      "metadata": {
        "id": "usKtynxWhfE-",
        "colab_type": "code",
        "colab": {}
      },
      "source": [
        "# Extract the first ten entities.\n",
        "entities = list(roosevelt.ents)[0:10]\n",
        "for entity in entities:\n",
        "    print(entity.label_, ' '.join(t.orth_ for t in entity))"
      ],
      "execution_count": 0,
      "outputs": []
    },
    {
      "cell_type": "code",
      "metadata": {
        "id": "YlH3Q2X_hn7j",
        "colab_type": "code",
        "colab": {}
      },
      "source": [
        "people = [entity.text for entity in list(roosevelt.ents) if entity.label_ == \"PERSON\"]\n",
        "print(set(people))"
      ],
      "execution_count": 0,
      "outputs": []
    },
    {
      "cell_type": "code",
      "metadata": {
        "id": "L14AiuDjhI15",
        "colab_type": "code",
        "colab": {}
      },
      "source": [
        "# Look at some metrics around this sentence.\n",
        "example_words = [token for token in example_sentence if not token.is_punct]\n",
        "unique_words = set([token.text for token in example_words])\n",
        "\n",
        "print((\"There are {} words in this sentence, and {} of them are\"\n",
        "       \" unique.\").format(len(example_words), len(unique_words)))"
      ],
      "execution_count": 0,
      "outputs": []
    },
    {
      "cell_type": "markdown",
      "metadata": {
        "id": "jyyVm7FagY13",
        "colab_type": "text"
      },
      "source": [
        ""
      ]
    },
    {
      "cell_type": "markdown",
      "metadata": {
        "id": "kna7OdUhh2Ok",
        "colab_type": "text"
      },
      "source": [
        "##Getting ready to model"
      ]
    },
    {
      "cell_type": "code",
      "metadata": {
        "id": "uW85YFaCjrvD",
        "colab_type": "code",
        "colab": {
          "base_uri": "https://localhost:8080/",
          "height": 197
        },
        "outputId": "db732245-82b0-4d51-fe3f-0ba227393685"
      },
      "source": [
        "roose_sents = [[sent, \"Roosevelt\", 56.4] for sent in roosevelt.sents]\n",
        "clint_sents = [[sent, \"Clinton\", 49.2] for sent in clinton.sents]\n",
        "\n",
        "\n",
        "sentences = pd.DataFrame(roose_sents + clint_sents)\n",
        "sentences.head()"
      ],
      "execution_count": 32,
      "outputs": [
        {
          "output_type": "execute_result",
          "data": {
            "text/html": [
              "<div>\n",
              "<style scoped>\n",
              "    .dataframe tbody tr th:only-of-type {\n",
              "        vertical-align: middle;\n",
              "    }\n",
              "\n",
              "    .dataframe tbody tr th {\n",
              "        vertical-align: top;\n",
              "    }\n",
              "\n",
              "    .dataframe thead th {\n",
              "        text-align: right;\n",
              "    }\n",
              "</style>\n",
              "<table border=\"1\" class=\"dataframe\">\n",
              "  <thead>\n",
              "    <tr style=\"text-align: right;\">\n",
              "      <th></th>\n",
              "      <th>0</th>\n",
              "      <th>1</th>\n",
              "      <th>2</th>\n",
              "    </tr>\n",
              "  </thead>\n",
              "  <tbody>\n",
              "    <tr>\n",
              "      <th>0</th>\n",
              "      <td>(To, the, Senate, and, House, of, Representati...</td>\n",
              "      <td>Roosevelt</td>\n",
              "      <td>56.4</td>\n",
              "    </tr>\n",
              "    <tr>\n",
              "      <th>1</th>\n",
              "      <td>(Such, prosperity, is, of, course, primarily, ...</td>\n",
              "      <td>Roosevelt</td>\n",
              "      <td>56.4</td>\n",
              "    </tr>\n",
              "    <tr>\n",
              "      <th>2</th>\n",
              "      <td>(The, people, have, emphatically, expressed, t...</td>\n",
              "      <td>Roosevelt</td>\n",
              "      <td>56.4</td>\n",
              "    </tr>\n",
              "    <tr>\n",
              "      <th>3</th>\n",
              "      <td>(The, enlargement, of, scope, of, the, functio...</td>\n",
              "      <td>Roosevelt</td>\n",
              "      <td>56.4</td>\n",
              "    </tr>\n",
              "    <tr>\n",
              "      <th>4</th>\n",
              "      <td>(Battle, ships, and, forts, ,, public, buildin...</td>\n",
              "      <td>Roosevelt</td>\n",
              "      <td>56.4</td>\n",
              "    </tr>\n",
              "  </tbody>\n",
              "</table>\n",
              "</div>"
            ],
            "text/plain": [
              "                                                   0          1     2\n",
              "0  (To, the, Senate, and, House, of, Representati...  Roosevelt  56.4\n",
              "1  (Such, prosperity, is, of, course, primarily, ...  Roosevelt  56.4\n",
              "2  (The, people, have, emphatically, expressed, t...  Roosevelt  56.4\n",
              "3  (The, enlargement, of, scope, of, the, functio...  Roosevelt  56.4\n",
              "4  (Battle, ships, and, forts, ,, public, buildin...  Roosevelt  56.4"
            ]
          },
          "metadata": {
            "tags": []
          },
          "execution_count": 32
        }
      ]
    },
    {
      "cell_type": "code",
      "metadata": {
        "id": "AisRCcQvkQmA",
        "colab_type": "code",
        "colab": {}
      },
      "source": [
        "def bag_of_words(text):\n",
        "    \n",
        "    # Filter out punctuation and stop words.\n",
        "    allwords = [token.lemma_\n",
        "                for token in text\n",
        "                if not token.is_punct\n",
        "                and not token.is_stop]\n",
        "    \n",
        "    # Return the most common words.\n",
        "    return [item[0] for item in Counter(allwords).most_common(2000)]\n",
        "    \n",
        "\n",
        "# Creates a data frame with features for each word in our common word set.\n",
        "# Each value is the count of the times the word appears in each sentence.\n",
        "def bow_features(sentences, common_words):\n",
        "    \n",
        "    # Scaffold the data frame and initialize counts to zero.\n",
        "    df = pd.DataFrame(columns=common_words)\n",
        "    df['text_sentence'] = sentences[0]\n",
        "    df['text_source'] = sentences[1]\n",
        "    df['Popular_vote'] = sentences[2]\n",
        "    df.loc[:, common_words] = 0\n",
        "    \n",
        "    # Process each row, counting the occurrence of words in each sentence.\n",
        "    for i, sentence in enumerate(df['text_sentence']):\n",
        "        \n",
        "        # Convert the sentence to lemmas, then filter out punctuation,\n",
        "        # stop words, and uncommon words.\n",
        "        words = [token.lemma_\n",
        "                 for token in sentence\n",
        "                 if (\n",
        "                     not token.is_punct\n",
        "                     and not token.is_stop\n",
        "                     and token.lemma_ in common_words\n",
        "                 )]\n",
        "        \n",
        "        # Populate the row with word counts.\n",
        "        for word in words:\n",
        "            df.loc[i, word] += 1\n",
        "        \n",
        "        # This counter is just to make sure the kernel didn't hang.\n",
        "        if i % 50 == 0:\n",
        "            print(\"Processing row {}\".format(i))\n",
        "            \n",
        "    return df\n",
        "\n",
        "# Set up the bags.\n",
        "roose_words = bag_of_words(roosevelt)\n",
        "clint_words = bag_of_words(clinton)\n",
        "\n",
        "# Combine bags to create a set of unique words.\n",
        "common_words = set(roose_words + clint_words)\n"
      ],
      "execution_count": 0,
      "outputs": []
    },
    {
      "cell_type": "code",
      "metadata": {
        "id": "eIu-5YddJ8Ku",
        "colab_type": "code",
        "colab": {
          "base_uri": "https://localhost:8080/",
          "height": 796
        },
        "outputId": "396ff6f6-ee5b-4ed0-a153-654e181dbb5d"
      },
      "source": [
        "word_counts = bow_features(sentences, common_words)\n",
        "word_counts.head()"
      ],
      "execution_count": 17,
      "outputs": [
        {
          "output_type": "stream",
          "text": [
            "Processing row 0\n",
            "Processing row 50\n",
            "Processing row 100\n",
            "Processing row 150\n",
            "Processing row 200\n",
            "Processing row 250\n",
            "Processing row 300\n",
            "Processing row 350\n",
            "Processing row 400\n",
            "Processing row 450\n",
            "Processing row 500\n",
            "Processing row 550\n",
            "Processing row 600\n",
            "Processing row 650\n",
            "Processing row 700\n",
            "Processing row 750\n",
            "Processing row 800\n",
            "Processing row 850\n",
            "Processing row 900\n"
          ],
          "name": "stdout"
        },
        {
          "output_type": "execute_result",
          "data": {
            "text/html": [
              "<div>\n",
              "<style scoped>\n",
              "    .dataframe tbody tr th:only-of-type {\n",
              "        vertical-align: middle;\n",
              "    }\n",
              "\n",
              "    .dataframe tbody tr th {\n",
              "        vertical-align: top;\n",
              "    }\n",
              "\n",
              "    .dataframe thead th {\n",
              "        text-align: right;\n",
              "    }\n",
              "</style>\n",
              "<table border=\"1\" class=\"dataframe\">\n",
              "  <thead>\n",
              "    <tr style=\"text-align: right;\">\n",
              "      <th></th>\n",
              "      <th>education</th>\n",
              "      <th>respective</th>\n",
              "      <th>independent</th>\n",
              "      <th>equal</th>\n",
              "      <th>partnership</th>\n",
              "      <th>worker</th>\n",
              "      <th>wide</th>\n",
              "      <th>troop</th>\n",
              "      <th>protection</th>\n",
              "      <th>most</th>\n",
              "      <th>abroad</th>\n",
              "      <th>switch</th>\n",
              "      <th>money</th>\n",
              "      <th>comprehensive</th>\n",
              "      <th>utility</th>\n",
              "      <th>continuation</th>\n",
              "      <th>federal</th>\n",
              "      <th>full</th>\n",
              "      <th>decorate</th>\n",
              "      <th>an</th>\n",
              "      <th>attitude</th>\n",
              "      <th>numerous</th>\n",
              "      <th>avenue</th>\n",
              "      <th>flexibility</th>\n",
              "      <th>resistance</th>\n",
              "      <th>engage</th>\n",
              "      <th>smoking</th>\n",
              "      <th>vice</th>\n",
              "      <th>significant</th>\n",
              "      <th>locality</th>\n",
              "      <th>mississippi</th>\n",
              "      <th>arrangement</th>\n",
              "      <th>approve</th>\n",
              "      <th>service</th>\n",
              "      <th>act</th>\n",
              "      <th>tendency</th>\n",
              "      <th>vocation</th>\n",
              "      <th>change</th>\n",
              "      <th>mark</th>\n",
              "      <th>belong</th>\n",
              "      <th>...</th>\n",
              "      <th>identify</th>\n",
              "      <th>achieve</th>\n",
              "      <th>distinguished</th>\n",
              "      <th>creature</th>\n",
              "      <th>sailing</th>\n",
              "      <th>office</th>\n",
              "      <th>co</th>\n",
              "      <th>essential</th>\n",
              "      <th>programming</th>\n",
              "      <th>america</th>\n",
              "      <th>rim</th>\n",
              "      <th>meeting</th>\n",
              "      <th>limited</th>\n",
              "      <th>success</th>\n",
              "      <th>conspicuous</th>\n",
              "      <th>fashioned</th>\n",
              "      <th>among</th>\n",
              "      <th>review</th>\n",
              "      <th>acquaintance</th>\n",
              "      <th>cropping</th>\n",
              "      <th>consider</th>\n",
              "      <th>home</th>\n",
              "      <th>hatred</th>\n",
              "      <th>reach</th>\n",
              "      <th>great</th>\n",
              "      <th>civil</th>\n",
              "      <th>currency</th>\n",
              "      <th>department</th>\n",
              "      <th>cruiser</th>\n",
              "      <th>wife</th>\n",
              "      <th>destine</th>\n",
              "      <th>read</th>\n",
              "      <th>refugee</th>\n",
              "      <th>drug</th>\n",
              "      <th>families</th>\n",
              "      <th>plymouth</th>\n",
              "      <th>judicial</th>\n",
              "      <th>text_sentence</th>\n",
              "      <th>text_source</th>\n",
              "      <th>Popular_vote</th>\n",
              "    </tr>\n",
              "  </thead>\n",
              "  <tbody>\n",
              "    <tr>\n",
              "      <th>0</th>\n",
              "      <td>0</td>\n",
              "      <td>0</td>\n",
              "      <td>0</td>\n",
              "      <td>0</td>\n",
              "      <td>0</td>\n",
              "      <td>0</td>\n",
              "      <td>0</td>\n",
              "      <td>0</td>\n",
              "      <td>0</td>\n",
              "      <td>0</td>\n",
              "      <td>0</td>\n",
              "      <td>0</td>\n",
              "      <td>0</td>\n",
              "      <td>0</td>\n",
              "      <td>0</td>\n",
              "      <td>0</td>\n",
              "      <td>0</td>\n",
              "      <td>0</td>\n",
              "      <td>0</td>\n",
              "      <td>0</td>\n",
              "      <td>0</td>\n",
              "      <td>0</td>\n",
              "      <td>0</td>\n",
              "      <td>0</td>\n",
              "      <td>0</td>\n",
              "      <td>0</td>\n",
              "      <td>0</td>\n",
              "      <td>0</td>\n",
              "      <td>0</td>\n",
              "      <td>0</td>\n",
              "      <td>0</td>\n",
              "      <td>0</td>\n",
              "      <td>0</td>\n",
              "      <td>0</td>\n",
              "      <td>0</td>\n",
              "      <td>0</td>\n",
              "      <td>0</td>\n",
              "      <td>0</td>\n",
              "      <td>0</td>\n",
              "      <td>0</td>\n",
              "      <td>...</td>\n",
              "      <td>0</td>\n",
              "      <td>0</td>\n",
              "      <td>0</td>\n",
              "      <td>0</td>\n",
              "      <td>0</td>\n",
              "      <td>0</td>\n",
              "      <td>0</td>\n",
              "      <td>0</td>\n",
              "      <td>0</td>\n",
              "      <td>0</td>\n",
              "      <td>0</td>\n",
              "      <td>0</td>\n",
              "      <td>0</td>\n",
              "      <td>0</td>\n",
              "      <td>0</td>\n",
              "      <td>0</td>\n",
              "      <td>0</td>\n",
              "      <td>0</td>\n",
              "      <td>0</td>\n",
              "      <td>0</td>\n",
              "      <td>0</td>\n",
              "      <td>0</td>\n",
              "      <td>0</td>\n",
              "      <td>0</td>\n",
              "      <td>0</td>\n",
              "      <td>0</td>\n",
              "      <td>0</td>\n",
              "      <td>0</td>\n",
              "      <td>0</td>\n",
              "      <td>0</td>\n",
              "      <td>0</td>\n",
              "      <td>0</td>\n",
              "      <td>0</td>\n",
              "      <td>0</td>\n",
              "      <td>0</td>\n",
              "      <td>0</td>\n",
              "      <td>0</td>\n",
              "      <td>(To, the, Senate, and, House, of, Representati...</td>\n",
              "      <td>Roosevelt</td>\n",
              "      <td>56.4</td>\n",
              "    </tr>\n",
              "    <tr>\n",
              "      <th>1</th>\n",
              "      <td>0</td>\n",
              "      <td>0</td>\n",
              "      <td>0</td>\n",
              "      <td>0</td>\n",
              "      <td>0</td>\n",
              "      <td>0</td>\n",
              "      <td>0</td>\n",
              "      <td>0</td>\n",
              "      <td>0</td>\n",
              "      <td>0</td>\n",
              "      <td>0</td>\n",
              "      <td>0</td>\n",
              "      <td>0</td>\n",
              "      <td>0</td>\n",
              "      <td>0</td>\n",
              "      <td>0</td>\n",
              "      <td>0</td>\n",
              "      <td>0</td>\n",
              "      <td>0</td>\n",
              "      <td>0</td>\n",
              "      <td>0</td>\n",
              "      <td>0</td>\n",
              "      <td>0</td>\n",
              "      <td>0</td>\n",
              "      <td>0</td>\n",
              "      <td>0</td>\n",
              "      <td>0</td>\n",
              "      <td>0</td>\n",
              "      <td>0</td>\n",
              "      <td>0</td>\n",
              "      <td>0</td>\n",
              "      <td>0</td>\n",
              "      <td>0</td>\n",
              "      <td>0</td>\n",
              "      <td>0</td>\n",
              "      <td>0</td>\n",
              "      <td>0</td>\n",
              "      <td>0</td>\n",
              "      <td>0</td>\n",
              "      <td>0</td>\n",
              "      <td>...</td>\n",
              "      <td>0</td>\n",
              "      <td>0</td>\n",
              "      <td>0</td>\n",
              "      <td>0</td>\n",
              "      <td>0</td>\n",
              "      <td>0</td>\n",
              "      <td>0</td>\n",
              "      <td>0</td>\n",
              "      <td>0</td>\n",
              "      <td>0</td>\n",
              "      <td>0</td>\n",
              "      <td>0</td>\n",
              "      <td>0</td>\n",
              "      <td>0</td>\n",
              "      <td>0</td>\n",
              "      <td>0</td>\n",
              "      <td>0</td>\n",
              "      <td>0</td>\n",
              "      <td>0</td>\n",
              "      <td>0</td>\n",
              "      <td>0</td>\n",
              "      <td>0</td>\n",
              "      <td>0</td>\n",
              "      <td>0</td>\n",
              "      <td>1</td>\n",
              "      <td>0</td>\n",
              "      <td>0</td>\n",
              "      <td>0</td>\n",
              "      <td>0</td>\n",
              "      <td>0</td>\n",
              "      <td>0</td>\n",
              "      <td>0</td>\n",
              "      <td>0</td>\n",
              "      <td>0</td>\n",
              "      <td>0</td>\n",
              "      <td>0</td>\n",
              "      <td>0</td>\n",
              "      <td>(Such, prosperity, is, of, course, primarily, ...</td>\n",
              "      <td>Roosevelt</td>\n",
              "      <td>56.4</td>\n",
              "    </tr>\n",
              "    <tr>\n",
              "      <th>2</th>\n",
              "      <td>0</td>\n",
              "      <td>0</td>\n",
              "      <td>0</td>\n",
              "      <td>0</td>\n",
              "      <td>0</td>\n",
              "      <td>0</td>\n",
              "      <td>0</td>\n",
              "      <td>0</td>\n",
              "      <td>0</td>\n",
              "      <td>0</td>\n",
              "      <td>0</td>\n",
              "      <td>0</td>\n",
              "      <td>0</td>\n",
              "      <td>0</td>\n",
              "      <td>0</td>\n",
              "      <td>0</td>\n",
              "      <td>0</td>\n",
              "      <td>0</td>\n",
              "      <td>0</td>\n",
              "      <td>0</td>\n",
              "      <td>0</td>\n",
              "      <td>0</td>\n",
              "      <td>0</td>\n",
              "      <td>0</td>\n",
              "      <td>0</td>\n",
              "      <td>0</td>\n",
              "      <td>0</td>\n",
              "      <td>0</td>\n",
              "      <td>0</td>\n",
              "      <td>0</td>\n",
              "      <td>0</td>\n",
              "      <td>0</td>\n",
              "      <td>0</td>\n",
              "      <td>0</td>\n",
              "      <td>0</td>\n",
              "      <td>0</td>\n",
              "      <td>0</td>\n",
              "      <td>1</td>\n",
              "      <td>0</td>\n",
              "      <td>0</td>\n",
              "      <td>...</td>\n",
              "      <td>0</td>\n",
              "      <td>0</td>\n",
              "      <td>0</td>\n",
              "      <td>0</td>\n",
              "      <td>0</td>\n",
              "      <td>0</td>\n",
              "      <td>0</td>\n",
              "      <td>0</td>\n",
              "      <td>0</td>\n",
              "      <td>0</td>\n",
              "      <td>0</td>\n",
              "      <td>0</td>\n",
              "      <td>0</td>\n",
              "      <td>0</td>\n",
              "      <td>0</td>\n",
              "      <td>0</td>\n",
              "      <td>0</td>\n",
              "      <td>0</td>\n",
              "      <td>0</td>\n",
              "      <td>0</td>\n",
              "      <td>0</td>\n",
              "      <td>0</td>\n",
              "      <td>0</td>\n",
              "      <td>0</td>\n",
              "      <td>0</td>\n",
              "      <td>0</td>\n",
              "      <td>0</td>\n",
              "      <td>0</td>\n",
              "      <td>0</td>\n",
              "      <td>0</td>\n",
              "      <td>0</td>\n",
              "      <td>0</td>\n",
              "      <td>0</td>\n",
              "      <td>0</td>\n",
              "      <td>0</td>\n",
              "      <td>0</td>\n",
              "      <td>0</td>\n",
              "      <td>(The, people, have, emphatically, expressed, t...</td>\n",
              "      <td>Roosevelt</td>\n",
              "      <td>56.4</td>\n",
              "    </tr>\n",
              "    <tr>\n",
              "      <th>3</th>\n",
              "      <td>0</td>\n",
              "      <td>0</td>\n",
              "      <td>0</td>\n",
              "      <td>0</td>\n",
              "      <td>0</td>\n",
              "      <td>0</td>\n",
              "      <td>0</td>\n",
              "      <td>0</td>\n",
              "      <td>0</td>\n",
              "      <td>0</td>\n",
              "      <td>0</td>\n",
              "      <td>0</td>\n",
              "      <td>0</td>\n",
              "      <td>0</td>\n",
              "      <td>0</td>\n",
              "      <td>0</td>\n",
              "      <td>0</td>\n",
              "      <td>0</td>\n",
              "      <td>0</td>\n",
              "      <td>0</td>\n",
              "      <td>0</td>\n",
              "      <td>0</td>\n",
              "      <td>0</td>\n",
              "      <td>0</td>\n",
              "      <td>0</td>\n",
              "      <td>0</td>\n",
              "      <td>0</td>\n",
              "      <td>0</td>\n",
              "      <td>0</td>\n",
              "      <td>0</td>\n",
              "      <td>0</td>\n",
              "      <td>0</td>\n",
              "      <td>0</td>\n",
              "      <td>0</td>\n",
              "      <td>0</td>\n",
              "      <td>0</td>\n",
              "      <td>0</td>\n",
              "      <td>0</td>\n",
              "      <td>0</td>\n",
              "      <td>0</td>\n",
              "      <td>...</td>\n",
              "      <td>0</td>\n",
              "      <td>0</td>\n",
              "      <td>0</td>\n",
              "      <td>0</td>\n",
              "      <td>0</td>\n",
              "      <td>0</td>\n",
              "      <td>0</td>\n",
              "      <td>0</td>\n",
              "      <td>0</td>\n",
              "      <td>0</td>\n",
              "      <td>0</td>\n",
              "      <td>0</td>\n",
              "      <td>0</td>\n",
              "      <td>0</td>\n",
              "      <td>0</td>\n",
              "      <td>0</td>\n",
              "      <td>0</td>\n",
              "      <td>0</td>\n",
              "      <td>0</td>\n",
              "      <td>0</td>\n",
              "      <td>0</td>\n",
              "      <td>0</td>\n",
              "      <td>0</td>\n",
              "      <td>0</td>\n",
              "      <td>1</td>\n",
              "      <td>0</td>\n",
              "      <td>0</td>\n",
              "      <td>0</td>\n",
              "      <td>0</td>\n",
              "      <td>0</td>\n",
              "      <td>0</td>\n",
              "      <td>0</td>\n",
              "      <td>0</td>\n",
              "      <td>0</td>\n",
              "      <td>0</td>\n",
              "      <td>0</td>\n",
              "      <td>0</td>\n",
              "      <td>(The, enlargement, of, scope, of, the, functio...</td>\n",
              "      <td>Roosevelt</td>\n",
              "      <td>56.4</td>\n",
              "    </tr>\n",
              "    <tr>\n",
              "      <th>4</th>\n",
              "      <td>0</td>\n",
              "      <td>0</td>\n",
              "      <td>0</td>\n",
              "      <td>0</td>\n",
              "      <td>0</td>\n",
              "      <td>0</td>\n",
              "      <td>0</td>\n",
              "      <td>0</td>\n",
              "      <td>0</td>\n",
              "      <td>0</td>\n",
              "      <td>0</td>\n",
              "      <td>0</td>\n",
              "      <td>1</td>\n",
              "      <td>0</td>\n",
              "      <td>0</td>\n",
              "      <td>0</td>\n",
              "      <td>0</td>\n",
              "      <td>0</td>\n",
              "      <td>0</td>\n",
              "      <td>0</td>\n",
              "      <td>0</td>\n",
              "      <td>0</td>\n",
              "      <td>0</td>\n",
              "      <td>0</td>\n",
              "      <td>0</td>\n",
              "      <td>0</td>\n",
              "      <td>0</td>\n",
              "      <td>0</td>\n",
              "      <td>0</td>\n",
              "      <td>0</td>\n",
              "      <td>0</td>\n",
              "      <td>0</td>\n",
              "      <td>0</td>\n",
              "      <td>0</td>\n",
              "      <td>0</td>\n",
              "      <td>0</td>\n",
              "      <td>0</td>\n",
              "      <td>0</td>\n",
              "      <td>0</td>\n",
              "      <td>0</td>\n",
              "      <td>...</td>\n",
              "      <td>0</td>\n",
              "      <td>0</td>\n",
              "      <td>0</td>\n",
              "      <td>0</td>\n",
              "      <td>0</td>\n",
              "      <td>0</td>\n",
              "      <td>0</td>\n",
              "      <td>0</td>\n",
              "      <td>0</td>\n",
              "      <td>0</td>\n",
              "      <td>0</td>\n",
              "      <td>0</td>\n",
              "      <td>0</td>\n",
              "      <td>0</td>\n",
              "      <td>0</td>\n",
              "      <td>0</td>\n",
              "      <td>0</td>\n",
              "      <td>0</td>\n",
              "      <td>0</td>\n",
              "      <td>0</td>\n",
              "      <td>0</td>\n",
              "      <td>0</td>\n",
              "      <td>0</td>\n",
              "      <td>0</td>\n",
              "      <td>0</td>\n",
              "      <td>0</td>\n",
              "      <td>0</td>\n",
              "      <td>0</td>\n",
              "      <td>0</td>\n",
              "      <td>0</td>\n",
              "      <td>0</td>\n",
              "      <td>0</td>\n",
              "      <td>0</td>\n",
              "      <td>0</td>\n",
              "      <td>0</td>\n",
              "      <td>0</td>\n",
              "      <td>0</td>\n",
              "      <td>(Battle, ships, and, forts, ,, public, buildin...</td>\n",
              "      <td>Roosevelt</td>\n",
              "      <td>56.4</td>\n",
              "    </tr>\n",
              "  </tbody>\n",
              "</table>\n",
              "<p>5 rows × 2541 columns</p>\n",
              "</div>"
            ],
            "text/plain": [
              "   education  respective  ...  text_source  Popular_vote\n",
              "0          0           0  ...    Roosevelt          56.4\n",
              "1          0           0  ...    Roosevelt          56.4\n",
              "2          0           0  ...    Roosevelt          56.4\n",
              "3          0           0  ...    Roosevelt          56.4\n",
              "4          0           0  ...    Roosevelt          56.4\n",
              "\n",
              "[5 rows x 2541 columns]"
            ]
          },
          "metadata": {
            "tags": []
          },
          "execution_count": 17
        }
      ]
    },
    {
      "cell_type": "markdown",
      "metadata": {
        "id": "_oCNgKufKeko",
        "colab_type": "text"
      },
      "source": [
        "# Random Forest"
      ]
    },
    {
      "cell_type": "code",
      "metadata": {
        "id": "JMHPHgBok02E",
        "colab_type": "code",
        "colab": {
          "base_uri": "https://localhost:8080/",
          "height": 104
        },
        "outputId": "d4ab1a2f-5506-497a-8579-89c4199d55ba"
      },
      "source": [
        "from sklearn import ensemble\n",
        "from sklearn.model_selection import train_test_split\n",
        "\n",
        "rfc = ensemble.RandomForestClassifier()\n",
        "Y = word_counts['text_source']\n",
        "X = np.array(word_counts.drop(['text_sentence','text_source', 'Popular_vote'], 1))\n",
        "\n",
        "X_train, X_test, y_train, y_test = train_test_split(X, \n",
        "                                                    Y,\n",
        "                                                    test_size=0.4,\n",
        "                                                    random_state=0)\n",
        "train = rfc.fit(X_train, y_train)\n",
        "\n",
        "print('Training set score:', rfc.score(X_train, y_train))\n",
        "print('\\nTest set score:', rfc.score(X_test, y_test))"
      ],
      "execution_count": 18,
      "outputs": [
        {
          "output_type": "stream",
          "text": [
            "Training set score: 0.9908088235294118\n",
            "\n",
            "Test set score: 0.7445054945054945\n"
          ],
          "name": "stdout"
        },
        {
          "output_type": "stream",
          "text": [
            "/usr/local/lib/python3.6/dist-packages/sklearn/ensemble/forest.py:245: FutureWarning: The default value of n_estimators will change from 10 in version 0.20 to 100 in 0.22.\n",
            "  \"10 in version 0.20 to 100 in 0.22.\", FutureWarning)\n"
          ],
          "name": "stderr"
        }
      ]
    },
    {
      "cell_type": "markdown",
      "metadata": {
        "id": "fXi9iioeKa-n",
        "colab_type": "text"
      },
      "source": [
        "## Super overfit!"
      ]
    },
    {
      "cell_type": "markdown",
      "metadata": {
        "id": "ZMg5TxEyKtLy",
        "colab_type": "text"
      },
      "source": [
        "#Trying Log Regression with Bag of Words"
      ]
    },
    {
      "cell_type": "code",
      "metadata": {
        "id": "YonM2iqKoSeY",
        "colab_type": "code",
        "colab": {}
      },
      "source": [
        "from sklearn.linear_model import LogisticRegression\n",
        "\n",
        "lr = LogisticRegression(penalty='l2') # No need to specify l2 as it's the default. But we put it for demonstration.\n",
        "train = lr.fit(X_train, y_train)\n",
        "print(X_train.shape, y_train.shape)\n",
        "print('Training set score:', lr.score(X_train, y_train))\n",
        "print('\\nTest set score:', lr.score(X_test, y_test))"
      ],
      "execution_count": 0,
      "outputs": []
    },
    {
      "cell_type": "markdown",
      "metadata": {
        "id": "WMFCeecnNl0V",
        "colab_type": "text"
      },
      "source": [
        "##Increase the training set to make more accurate for test set"
      ]
    },
    {
      "cell_type": "code",
      "metadata": {
        "id": "-36kPnPKNvpk",
        "colab_type": "code",
        "colab": {}
      },
      "source": [
        "rfc = ensemble.RandomForestClassifier()\n",
        "Y = word_counts['text_source']\n",
        "X = np.array(word_counts.drop(['text_sentence','text_source', 'Popular_vote'], 1))\n",
        "\n",
        "X_train, X_test, y_train, y_test = train_test_split(X, \n",
        "                                                    Y,\n",
        "                                                    test_size=0.2,\n",
        "                                                    random_state=0)\n",
        "train = rfc.fit(X_train, y_train)\n",
        "\n",
        "lr = LogisticRegression(penalty='l2') # No need to specify l2 as it's the default. But we put it for demonstration.\n",
        "train = lr.fit(X_train, y_train)\n",
        "print(X_train.shape, y_train.shape)\n",
        "print('Training set score:', lr.score(X_train, y_train))\n",
        "print('\\nTest set score:', lr.score(X_test, y_test))"
      ],
      "execution_count": 0,
      "outputs": []
    },
    {
      "cell_type": "markdown",
      "metadata": {
        "id": "2ONo04kSN65q",
        "colab_type": "text"
      },
      "source": [
        "#Huge improvement to the test set!"
      ]
    },
    {
      "cell_type": "markdown",
      "metadata": {
        "id": "brR_hu7uLAae",
        "colab_type": "text"
      },
      "source": [
        "#Gradient Boost"
      ]
    },
    {
      "cell_type": "code",
      "metadata": {
        "id": "bs_AKcrpK_Dv",
        "colab_type": "code",
        "colab": {}
      },
      "source": [
        "clf = ensemble.GradientBoostingClassifier()\n",
        "train = clf.fit(X_train, y_train)\n",
        "\n",
        "print('Training set score:', clf.score(X_train, y_train))\n",
        "print('\\nTest set score:', clf.score(X_test, y_test))"
      ],
      "execution_count": 0,
      "outputs": []
    },
    {
      "cell_type": "markdown",
      "metadata": {
        "id": "mAZXBVoALzH0",
        "colab_type": "text"
      },
      "source": [
        "Not great, better than random forest though"
      ]
    },
    {
      "cell_type": "markdown",
      "metadata": {
        "id": "k1I1gSnoOKfB",
        "colab_type": "text"
      },
      "source": [
        "#Unsupervised model"
      ]
    },
    {
      "cell_type": "code",
      "metadata": {
        "id": "BAzQ6l1mPAex",
        "colab_type": "code",
        "colab": {
          "base_uri": "https://localhost:8080/",
          "height": 87
        },
        "outputId": "21c88eac-2094-465e-80cf-f0d997b4edb4"
      },
      "source": [
        "for each in sentences[0]:\n",
        "  str(each)\n"
      ],
      "execution_count": 59,
      "outputs": [
        {
          "output_type": "stream",
          "text": [
            "0    object\n",
            "1    object\n",
            "2    object\n",
            "dtype: object\n"
          ],
          "name": "stdout"
        }
      ]
    },
    {
      "cell_type": "code",
      "metadata": {
        "id": "uyyeL88ImkhW",
        "colab_type": "code",
        "colab": {}
      },
      "source": [
        "from sklearn.feature_extraction.text import TfidfVectorizer\n",
        "from sklearn.model_selection import train_test_split\n",
        "\n",
        "X_train, X_test = train_test_split(sentences, test_size=0.4, random_state=0)\n",
        "\n",
        "vectorizer = TfidfVectorizer(max_df=0.1, # drop words that occur in more than .1 the paragraphs\n",
        "                             min_df=2, # only use words that appear at least twice\n",
        "                             stop_words='english', \n",
        "                             lowercase=True, #convert everything to lower case (since Alice in Wonderland has the HABIT of CAPITALIZING WORDS for EMPHASIS)\n",
        "                             use_idf=True,#we definitely want to use inverse document frequencies in our weighting\n",
        "                             norm=u'l2', #Applies a correction factor so that longer paragraphs and shorter paragraphs get treated equally\n",
        "                             smooth_idf=True #Adds 1 to all document frequencies, as if an extra document existed that used every word once.  Prevents divide-by-zero errors\n",
        "                            )\n",
        "\n",
        "\n"
      ],
      "execution_count": 0,
      "outputs": []
    },
    {
      "cell_type": "code",
      "metadata": {
        "id": "jbBBzNkIPn2t",
        "colab_type": "code",
        "colab": {
          "base_uri": "https://localhost:8080/",
          "height": 1907
        },
        "outputId": "0e8aa2f1-9578-4078-95ea-d346ac5f1b8e"
      },
      "source": [
        "sentences"
      ],
      "execution_count": 65,
      "outputs": [
        {
          "output_type": "execute_result",
          "data": {
            "text/html": [
              "<div>\n",
              "<style scoped>\n",
              "    .dataframe tbody tr th:only-of-type {\n",
              "        vertical-align: middle;\n",
              "    }\n",
              "\n",
              "    .dataframe tbody tr th {\n",
              "        vertical-align: top;\n",
              "    }\n",
              "\n",
              "    .dataframe thead th {\n",
              "        text-align: right;\n",
              "    }\n",
              "</style>\n",
              "<table border=\"1\" class=\"dataframe\">\n",
              "  <thead>\n",
              "    <tr style=\"text-align: right;\">\n",
              "      <th></th>\n",
              "      <th>0</th>\n",
              "      <th>1</th>\n",
              "      <th>2</th>\n",
              "    </tr>\n",
              "  </thead>\n",
              "  <tbody>\n",
              "    <tr>\n",
              "      <th>0</th>\n",
              "      <td>To the Senate and House of Representatives:  T...</td>\n",
              "      <td>Roosevelt</td>\n",
              "      <td>56.4</td>\n",
              "    </tr>\n",
              "    <tr>\n",
              "      <th>1</th>\n",
              "      <td>Such prosperity is of course primarily due to ...</td>\n",
              "      <td>Roosevelt</td>\n",
              "      <td>56.4</td>\n",
              "    </tr>\n",
              "    <tr>\n",
              "      <th>2</th>\n",
              "      <td>The people have emphatically expressed their a...</td>\n",
              "      <td>Roosevelt</td>\n",
              "      <td>56.4</td>\n",
              "    </tr>\n",
              "    <tr>\n",
              "      <th>3</th>\n",
              "      <td>The enlargement of scope of the functions of t...</td>\n",
              "      <td>Roosevelt</td>\n",
              "      <td>56.4</td>\n",
              "    </tr>\n",
              "    <tr>\n",
              "      <th>4</th>\n",
              "      <td>Battle ships and forts, public buildings, and ...</td>\n",
              "      <td>Roosevelt</td>\n",
              "      <td>56.4</td>\n",
              "    </tr>\n",
              "    <tr>\n",
              "      <th>5</th>\n",
              "      <td>The cost of doing Government business should b...</td>\n",
              "      <td>Roosevelt</td>\n",
              "      <td>56.4</td>\n",
              "    </tr>\n",
              "    <tr>\n",
              "      <th>6</th>\n",
              "      <td>In the vast and complicated mechanism of our m...</td>\n",
              "      <td>Roosevelt</td>\n",
              "      <td>56.4</td>\n",
              "    </tr>\n",
              "    <tr>\n",
              "      <th>7</th>\n",
              "      <td>Our peculiar form of government, with its shar...</td>\n",
              "      <td>Roosevelt</td>\n",
              "      <td>56.4</td>\n",
              "    </tr>\n",
              "    <tr>\n",
              "      <th>8</th>\n",
              "      <td>But it is undoubtedly responsible for much of ...</td>\n",
              "      <td>Roosevelt</td>\n",
              "      <td>56.4</td>\n",
              "    </tr>\n",
              "    <tr>\n",
              "      <th>9</th>\n",
              "      <td>In actual practice it has proved exceedingly d...</td>\n",
              "      <td>Roosevelt</td>\n",
              "      <td>56.4</td>\n",
              "    </tr>\n",
              "    <tr>\n",
              "      <th>10</th>\n",
              "      <td>From the very nature of the case this is espec...</td>\n",
              "      <td>Roosevelt</td>\n",
              "      <td>56.4</td>\n",
              "    </tr>\n",
              "    <tr>\n",
              "      <th>11</th>\n",
              "      <td>With regard to labor the problem is no less im...</td>\n",
              "      <td>Roosevelt</td>\n",
              "      <td>56.4</td>\n",
              "    </tr>\n",
              "    <tr>\n",
              "      <th>12</th>\n",
              "      <td>As long as the States retain the primary contr...</td>\n",
              "      <td>Roosevelt</td>\n",
              "      <td>56.4</td>\n",
              "    </tr>\n",
              "    <tr>\n",
              "      <th>13</th>\n",
              "      <td>If there is resistance to the Federal courts, ...</td>\n",
              "      <td>Roosevelt</td>\n",
              "      <td>56.4</td>\n",
              "    </tr>\n",
              "    <tr>\n",
              "      <th>14</th>\n",
              "      <td>In the District of Columbia and in the Territo...</td>\n",
              "      <td>Roosevelt</td>\n",
              "      <td>56.4</td>\n",
              "    </tr>\n",
              "    <tr>\n",
              "      <th>15</th>\n",
              "      <td>Nevertheless, both in the enactment and in the...</td>\n",
              "      <td>Roosevelt</td>\n",
              "      <td>56.4</td>\n",
              "    </tr>\n",
              "    <tr>\n",
              "      <th>16</th>\n",
              "      <td>I believe that under modern industrial conditi...</td>\n",
              "      <td>Roosevelt</td>\n",
              "      <td>56.4</td>\n",
              "    </tr>\n",
              "    <tr>\n",
              "      <th>17</th>\n",
              "      <td>All encouragement should be given to any such ...</td>\n",
              "      <td>Roosevelt</td>\n",
              "      <td>56.4</td>\n",
              "    </tr>\n",
              "    <tr>\n",
              "      <th>18</th>\n",
              "      <td>There are in this country some labor unions wh...</td>\n",
              "      <td>Roosevelt</td>\n",
              "      <td>56.4</td>\n",
              "    </tr>\n",
              "    <tr>\n",
              "      <th>19</th>\n",
              "      <td>But when any labor union seeks improper ends, ...</td>\n",
              "      <td>Roosevelt</td>\n",
              "      <td>56.4</td>\n",
              "    </tr>\n",
              "    <tr>\n",
              "      <th>20</th>\n",
              "      <td>Of course any violence, brutality, or corrupti...</td>\n",
              "      <td>Roosevelt</td>\n",
              "      <td>56.4</td>\n",
              "    </tr>\n",
              "    <tr>\n",
              "      <th>21</th>\n",
              "      <td>Wage-workers have an entire right to organize ...</td>\n",
              "      <td>Roosevelt</td>\n",
              "      <td>56.4</td>\n",
              "    </tr>\n",
              "    <tr>\n",
              "      <th>22</th>\n",
              "      <td>They have a legal right, which, according to c...</td>\n",
              "      <td>Roosevelt</td>\n",
              "      <td>56.4</td>\n",
              "    </tr>\n",
              "    <tr>\n",
              "      <th>23</th>\n",
              "      <td>They have under no circumstances the right to ...</td>\n",
              "      <td>Roosevelt</td>\n",
              "      <td>56.4</td>\n",
              "    </tr>\n",
              "    <tr>\n",
              "      <th>24</th>\n",
              "      <td>The wage-workers are peculiarly entitled to th...</td>\n",
              "      <td>Roosevelt</td>\n",
              "      <td>56.4</td>\n",
              "    </tr>\n",
              "    <tr>\n",
              "      <th>25</th>\n",
              "      <td>From the very nature of their occupation railr...</td>\n",
              "      <td>Roosevelt</td>\n",
              "      <td>56.4</td>\n",
              "    </tr>\n",
              "    <tr>\n",
              "      <th>26</th>\n",
              "      <td>The Administration has been zealous in enforci...</td>\n",
              "      <td>Roosevelt</td>\n",
              "      <td>56.4</td>\n",
              "    </tr>\n",
              "    <tr>\n",
              "      <th>27</th>\n",
              "      <td>That law should be amended and strengthened.</td>\n",
              "      <td>Roosevelt</td>\n",
              "      <td>56.4</td>\n",
              "    </tr>\n",
              "    <tr>\n",
              "      <th>28</th>\n",
              "      <td>Wherever the National Government has power the...</td>\n",
              "      <td>Roosevelt</td>\n",
              "      <td>56.4</td>\n",
              "    </tr>\n",
              "    <tr>\n",
              "      <th>29</th>\n",
              "      <td>In my Message to the Fifty-seventh Congress, a...</td>\n",
              "      <td>Roosevelt</td>\n",
              "      <td>56.4</td>\n",
              "    </tr>\n",
              "    <tr>\n",
              "      <th>...</th>\n",
              "      <td>...</td>\n",
              "      <td>...</td>\n",
              "      <td>...</td>\n",
              "    </tr>\n",
              "    <tr>\n",
              "      <th>878</th>\n",
              "      <td>I know that this evening I have asked a lot of...</td>\n",
              "      <td>Clinton</td>\n",
              "      <td>49.2</td>\n",
              "    </tr>\n",
              "    <tr>\n",
              "      <th>879</th>\n",
              "      <td>But I am confident: When Americans work togeth...</td>\n",
              "      <td>Clinton</td>\n",
              "      <td>49.2</td>\n",
              "    </tr>\n",
              "    <tr>\n",
              "      <th>880</th>\n",
              "      <td>I say again, the era of big government is over.</td>\n",
              "      <td>Clinton</td>\n",
              "      <td>49.2</td>\n",
              "    </tr>\n",
              "    <tr>\n",
              "      <th>881</th>\n",
              "      <td>But we can't go back to the era of fending for...</td>\n",
              "      <td>Clinton</td>\n",
              "      <td>49.2</td>\n",
              "    </tr>\n",
              "    <tr>\n",
              "      <th>882</th>\n",
              "      <td>We have to go forward to the era of working to...</td>\n",
              "      <td>Clinton</td>\n",
              "      <td>49.2</td>\n",
              "    </tr>\n",
              "    <tr>\n",
              "      <th>883</th>\n",
              "      <td>We have got to work together if we want Americ...</td>\n",
              "      <td>Clinton</td>\n",
              "      <td>49.2</td>\n",
              "    </tr>\n",
              "    <tr>\n",
              "      <th>884</th>\n",
              "      <td>I want you to meet two more people tonight who...</td>\n",
              "      <td>Clinton</td>\n",
              "      <td>49.2</td>\n",
              "    </tr>\n",
              "    <tr>\n",
              "      <th>885</th>\n",
              "      <td>Lucius Wright is a teacher in the Jackson, Mis...</td>\n",
              "      <td>Clinton</td>\n",
              "      <td>49.2</td>\n",
              "    </tr>\n",
              "    <tr>\n",
              "      <th>886</th>\n",
              "      <td>A Vietnam veteran, he has created groups to he...</td>\n",
              "      <td>Clinton</td>\n",
              "      <td>49.2</td>\n",
              "    </tr>\n",
              "    <tr>\n",
              "      <th>887</th>\n",
              "      <td>Sergeant Jennifer Rodgers is a police officer ...</td>\n",
              "      <td>Clinton</td>\n",
              "      <td>49.2</td>\n",
              "    </tr>\n",
              "    <tr>\n",
              "      <th>888</th>\n",
              "      <td>Like Richard Dean, she helped to pull her fell...</td>\n",
              "      <td>Clinton</td>\n",
              "      <td>49.2</td>\n",
              "    </tr>\n",
              "    <tr>\n",
              "      <th>889</th>\n",
              "      <td>She reminds us that in their response to that ...</td>\n",
              "      <td>Clinton</td>\n",
              "      <td>49.2</td>\n",
              "    </tr>\n",
              "    <tr>\n",
              "      <th>890</th>\n",
              "      <td>Lucius Wright and Jennifer Rodgers are special...</td>\n",
              "      <td>Clinton</td>\n",
              "      <td>49.2</td>\n",
              "    </tr>\n",
              "    <tr>\n",
              "      <th>891</th>\n",
              "      <td>And I have the honor to announce tonight that ...</td>\n",
              "      <td>Clinton</td>\n",
              "      <td>49.2</td>\n",
              "    </tr>\n",
              "    <tr>\n",
              "      <th>892</th>\n",
              "      <td>They are our real champions.</td>\n",
              "      <td>Clinton</td>\n",
              "      <td>49.2</td>\n",
              "    </tr>\n",
              "    <tr>\n",
              "      <th>893</th>\n",
              "      <td>Now, each of us must hold high the torch of ci...</td>\n",
              "      <td>Clinton</td>\n",
              "      <td>49.2</td>\n",
              "    </tr>\n",
              "    <tr>\n",
              "      <th>894</th>\n",
              "      <td>None of us can finish the race alone.</td>\n",
              "      <td>Clinton</td>\n",
              "      <td>49.2</td>\n",
              "    </tr>\n",
              "    <tr>\n",
              "      <th>895</th>\n",
              "      <td>We can only achieve our destiny together--one ...</td>\n",
              "      <td>Clinton</td>\n",
              "      <td>49.2</td>\n",
              "    </tr>\n",
              "    <tr>\n",
              "      <th>896</th>\n",
              "      <td>There have always been things we could do toge...</td>\n",
              "      <td>Clinton</td>\n",
              "      <td>49.2</td>\n",
              "    </tr>\n",
              "    <tr>\n",
              "      <th>897</th>\n",
              "      <td>dreams we could make real--which we could neve...</td>\n",
              "      <td>Clinton</td>\n",
              "      <td>49.2</td>\n",
              "    </tr>\n",
              "    <tr>\n",
              "      <th>898</th>\n",
              "      <td>We Americans have forged our identity, our ver...</td>\n",
              "      <td>Clinton</td>\n",
              "      <td>49.2</td>\n",
              "    </tr>\n",
              "    <tr>\n",
              "      <th>899</th>\n",
              "      <td>But we must be bound together by a faith more ...</td>\n",
              "      <td>Clinton</td>\n",
              "      <td>49.2</td>\n",
              "    </tr>\n",
              "    <tr>\n",
              "      <th>900</th>\n",
              "      <td>America has always sought and always risen to ...</td>\n",
              "      <td>Clinton</td>\n",
              "      <td>49.2</td>\n",
              "    </tr>\n",
              "    <tr>\n",
              "      <th>901</th>\n",
              "      <td>Who would say that, having come so far togethe...</td>\n",
              "      <td>Clinton</td>\n",
              "      <td>49.2</td>\n",
              "    </tr>\n",
              "    <tr>\n",
              "      <th>902</th>\n",
              "      <td>Who would say that this age of possibility is ...</td>\n",
              "      <td>Clinton</td>\n",
              "      <td>49.2</td>\n",
              "    </tr>\n",
              "    <tr>\n",
              "      <th>903</th>\n",
              "      <td>Our country is and always has been a great and...</td>\n",
              "      <td>Clinton</td>\n",
              "      <td>49.2</td>\n",
              "    </tr>\n",
              "    <tr>\n",
              "      <th>904</th>\n",
              "      <td>But the best is yet to come, if we all do our ...</td>\n",
              "      <td>Clinton</td>\n",
              "      <td>49.2</td>\n",
              "    </tr>\n",
              "    <tr>\n",
              "      <th>905</th>\n",
              "      <td>Thank you,</td>\n",
              "      <td>Clinton</td>\n",
              "      <td>49.2</td>\n",
              "    </tr>\n",
              "    <tr>\n",
              "      <th>906</th>\n",
              "      <td>God bless you and God bless the United States ...</td>\n",
              "      <td>Clinton</td>\n",
              "      <td>49.2</td>\n",
              "    </tr>\n",
              "    <tr>\n",
              "      <th>907</th>\n",
              "      <td>Thank you.\"</td>\n",
              "      <td>Clinton</td>\n",
              "      <td>49.2</td>\n",
              "    </tr>\n",
              "  </tbody>\n",
              "</table>\n",
              "<p>908 rows × 3 columns</p>\n",
              "</div>"
            ],
            "text/plain": [
              "                                                     0          1     2\n",
              "0    To the Senate and House of Representatives:  T...  Roosevelt  56.4\n",
              "1    Such prosperity is of course primarily due to ...  Roosevelt  56.4\n",
              "2    The people have emphatically expressed their a...  Roosevelt  56.4\n",
              "3    The enlargement of scope of the functions of t...  Roosevelt  56.4\n",
              "4    Battle ships and forts, public buildings, and ...  Roosevelt  56.4\n",
              "5    The cost of doing Government business should b...  Roosevelt  56.4\n",
              "6    In the vast and complicated mechanism of our m...  Roosevelt  56.4\n",
              "7    Our peculiar form of government, with its shar...  Roosevelt  56.4\n",
              "8    But it is undoubtedly responsible for much of ...  Roosevelt  56.4\n",
              "9    In actual practice it has proved exceedingly d...  Roosevelt  56.4\n",
              "10   From the very nature of the case this is espec...  Roosevelt  56.4\n",
              "11   With regard to labor the problem is no less im...  Roosevelt  56.4\n",
              "12   As long as the States retain the primary contr...  Roosevelt  56.4\n",
              "13   If there is resistance to the Federal courts, ...  Roosevelt  56.4\n",
              "14   In the District of Columbia and in the Territo...  Roosevelt  56.4\n",
              "15   Nevertheless, both in the enactment and in the...  Roosevelt  56.4\n",
              "16   I believe that under modern industrial conditi...  Roosevelt  56.4\n",
              "17   All encouragement should be given to any such ...  Roosevelt  56.4\n",
              "18   There are in this country some labor unions wh...  Roosevelt  56.4\n",
              "19   But when any labor union seeks improper ends, ...  Roosevelt  56.4\n",
              "20   Of course any violence, brutality, or corrupti...  Roosevelt  56.4\n",
              "21   Wage-workers have an entire right to organize ...  Roosevelt  56.4\n",
              "22   They have a legal right, which, according to c...  Roosevelt  56.4\n",
              "23   They have under no circumstances the right to ...  Roosevelt  56.4\n",
              "24   The wage-workers are peculiarly entitled to th...  Roosevelt  56.4\n",
              "25   From the very nature of their occupation railr...  Roosevelt  56.4\n",
              "26   The Administration has been zealous in enforci...  Roosevelt  56.4\n",
              "27        That law should be amended and strengthened.  Roosevelt  56.4\n",
              "28   Wherever the National Government has power the...  Roosevelt  56.4\n",
              "29   In my Message to the Fifty-seventh Congress, a...  Roosevelt  56.4\n",
              "..                                                 ...        ...   ...\n",
              "878  I know that this evening I have asked a lot of...    Clinton  49.2\n",
              "879  But I am confident: When Americans work togeth...    Clinton  49.2\n",
              "880    I say again, the era of big government is over.    Clinton  49.2\n",
              "881  But we can't go back to the era of fending for...    Clinton  49.2\n",
              "882  We have to go forward to the era of working to...    Clinton  49.2\n",
              "883  We have got to work together if we want Americ...    Clinton  49.2\n",
              "884  I want you to meet two more people tonight who...    Clinton  49.2\n",
              "885  Lucius Wright is a teacher in the Jackson, Mis...    Clinton  49.2\n",
              "886  A Vietnam veteran, he has created groups to he...    Clinton  49.2\n",
              "887  Sergeant Jennifer Rodgers is a police officer ...    Clinton  49.2\n",
              "888  Like Richard Dean, she helped to pull her fell...    Clinton  49.2\n",
              "889  She reminds us that in their response to that ...    Clinton  49.2\n",
              "890  Lucius Wright and Jennifer Rodgers are special...    Clinton  49.2\n",
              "891  And I have the honor to announce tonight that ...    Clinton  49.2\n",
              "892                     They are our real champions.      Clinton  49.2\n",
              "893  Now, each of us must hold high the torch of ci...    Clinton  49.2\n",
              "894              None of us can finish the race alone.    Clinton  49.2\n",
              "895  We can only achieve our destiny together--one ...    Clinton  49.2\n",
              "896  There have always been things we could do toge...    Clinton  49.2\n",
              "897  dreams we could make real--which we could neve...    Clinton  49.2\n",
              "898  We Americans have forged our identity, our ver...    Clinton  49.2\n",
              "899  But we must be bound together by a faith more ...    Clinton  49.2\n",
              "900  America has always sought and always risen to ...    Clinton  49.2\n",
              "901  Who would say that, having come so far togethe...    Clinton  49.2\n",
              "902  Who would say that this age of possibility is ...    Clinton  49.2\n",
              "903  Our country is and always has been a great and...    Clinton  49.2\n",
              "904  But the best is yet to come, if we all do our ...    Clinton  49.2\n",
              "905                                         Thank you,    Clinton  49.2\n",
              "906  God bless you and God bless the United States ...    Clinton  49.2\n",
              "907                                        Thank you.\"    Clinton  49.2\n",
              "\n",
              "[908 rows x 3 columns]"
            ]
          },
          "metadata": {
            "tags": []
          },
          "execution_count": 65
        }
      ]
    },
    {
      "cell_type": "code",
      "metadata": {
        "id": "eJ-wyAMFmkhc",
        "colab_type": "code",
        "colab": {
          "base_uri": "https://localhost:8080/",
          "height": 89
        },
        "outputId": "cb93f750-6c75-4bbf-eca5-193b994606e9"
      },
      "source": [
        "\n",
        "#Applying the vectorizer\n",
        "pres_vec =vectorizer.fit_transform(sentences[0])\n",
        "print(\"Number of features: %d\" % pres_vec.get_shape()[1])\n",
        "\n",
        "#splitting into training and test sets\n",
        "X_train_vec, X_test_vec= train_test_split(pres_vec, test_size=0.4, random_state=0)\n",
        "\n",
        "\n",
        "#Reshapes the vectorizer output into something people can read\n",
        "X_train_vec_read = X_train_vec.tocsr()\n",
        "\n",
        "#number of sentences\n",
        "n = X_train_vec_read.shape[0]\n",
        "#A list of dictionaries, one per sentence\n",
        "tfidf_bysent = [{} for _ in range(0,n)]\n",
        "#List of features\n",
        "terms = vectorizer.get_feature_names()\n",
        "#for each sentence, lists the feature words and their tf-idf scores\n",
        "for i, j in zip(*X_train_vec_read.nonzero()):\n",
        "    tfidf_bysent[i][terms[j]] = X_train_vec_read[i, j]\n",
        "\n",
        "#Keep in mind that the log base 2 of 1 is 0, so a tf-idf score of 0 indicates that the word was present once in that sentence.\n",
        "print(n)\n",
        "print(tfidf_bysent)\n"
      ],
      "execution_count": 64,
      "outputs": [
        {
          "output_type": "stream",
          "text": [
            "Number of features: 1621\n",
            "544\n",
            "[{'challenge': array(0.34835951), 'businesses': array(0.46547672), 'force': array(0.4370508), 'american': array(0.33655211), 'work': array(0.2919398), 'welfare': array(0.43122213), 'people': array(0.29413427)}, {'tuition': array(0.1957226), 'expand': array(0.3914452), '2000': array(0.18733593), 'percent': array(0.16369522), 'challenge': array(0.12020964), 'tax': array(0.1671289), 'americans': array(0.12859632), 'merit': array(0.18733593), '000': array(0.16369522), '10': array(0.18733593), 'deserving': array(0.1957226), 'year': array(0.26782292), 'million': array(0.15530855), 'students': array(0.18733593), 'college': array(0.35103115), 'school': array(0.1671289), 'provide': array(0.1529751), 'young': array(0.17102169), 'grant': array(0.18083072), 'united': array(0.12764041), 'study': array(0.17102169), 'congress': array(0.10561075), 'make': array(0.11613522), 'work': array(0.20148139), 'help': array(0.14880334), 'way': array(0.13510152), 'states': array(0.11256105), 'high': array(0.14515451)}, {'opponents': array(0.25996519), 'ship': array(0.49765148), 'war': array(0.18849218), 'duties': array(0.2219861), 'best': array(0.21334567), 'hand': array(0.20965513), 'poor': array(0.2219861), 'fairly': array(0.25996519), 'officers': array(0.40063398), 'unless': array(0.23312556), 'men': array(0.32967385), 'good': array(0.15102597), 'modern': array(0.21742538)}, {'appointed': array(0.35362185), 'indians': array(0.33443989), 'extent': array(0.36634306), 'advance': array(0.35362185), 'immediate': array(0.34322787), 'charge': array(0.35362185), 'character': array(0.30867265), 'men': array(0.24268736), 'true': array(0.32682739)}, {'ago': array(0.37488084), 'training': array(0.39638231), 'farmer': array(0.41064178), 'years': array(0.27579353), 'opportunity': array(0.38473148), 'special': array(0.31452722), 'congress': array(0.23149958), 'provision': array(0.39638231)}, {'wagon': array(0.44481326), 'construction': array(0.39888932), 'possible': array(0.3261016), 'aid': array(0.38867618), 'needed': array(0.39888932), 'roads': array(0.4109689), 'congress': array(0.24001859)}, {'group': array(0.35648058), 'bipartisan': array(0.29814731), 'troops': array(0.31967638), 'proud': array(0.31149141), 'know': array(0.26437807), 'congressional': array(0.32935715), 'just': array(0.25315815), 'doing': array(0.58510592)}, {'appeal': array(0.47514217), 'stop': array(0.415182), 'children': array(0.29140818), 'steps': array(0.45864294), 'administration': array(0.38251288), 'taken': array(0.40034441)}, {'dean': array(0.50932073), 'richard': array(0.481693), 'doesn': array(0.55126463), 'end': array(0.45240641)}, {'row': array(0.6232871), 'sure': array(0.53222922), 'americans': array(0.40952053), 'years': array(0.40067216)}, {'application': array(0.39936179), 'local': array(0.35628455), 'mass': array(0.38549402), 'insurance': array(0.37416322), 'united': array(0.27210318), 'states': array(0.23995708), 'business': array(0.31320732), 'national': array(0.29630737), 'people': array(0.21637282), 'great': array(0.24623993)}, {'champions': array(0.76047118), 'real': array(0.64937168)}, {'spending': array(0.40159434), 'deficit': array(0.37103836), 'bipartisan': array(0.33587881), 'agreement': array(0.37103836), 'end': array(0.32957648), 'broad': array(0.37103836), 'come': array(0.29441693), 'permanent': array(0.34292422)}, {'scrip': array(0.26256647), 'called': array(0.22942961), 'selection': array(0.26256647), 'june': array(0.25131555), 'past': array(0.21548046), 'limits': array(0.24258866), 'wagon': array(0.26256647), 'reserves': array(0.19709915), 'forest': array(0.18124187), 'years': array(0.16878751), 'usually': array(0.25131555), 'issue': array(0.23545827), 'making': array(0.20521969), 'grant': array(0.24258866), 'managed': array(0.25131555), 'act': array(0.19962318), 'prevent': array(0.22942961), 'land': array(0.21548046), 'railroad': array(0.22420735)}, {'constitution': array(0.25430267), 'naturalization': array(0.20199589), 'numerous': array(0.26568732), 'application': array(0.25430267), 'enacted': array(0.26568732), 'uniform': array(0.24547205), 'having': array(0.22221115), 'establish': array(0.24547205), 'special': array(0.19478075), 'congress': array(0.1433633), 'purpose': array(0.22687226), 'rule': array(0.25430267), 'time': array(0.34653573), 'state': array(0.1833961), 'power': array(0.18683946), 'laws': array(0.36356124), 'states': array(0.15279811)}, {'deficit': array(1.)}, {'northern': array(0.47044294), 'ireland': array(0.45028456), 'parents': array(0.35766682), 'return': array(0.45028456), 'children': array(0.27616282), 'violence': array(0.4110713)}, {'challenge': array(0.34638643), 'independence': array(0.49280233), 'opportunity': array(0.50575156), 'make': array(0.33464591), 'welfare': array(0.42877973), 'people': array(0.29246832)}, {'forced': array(0.37125424), 'disclose': array(0.37125424), 'lobbyists': array(0.35534607), 'kill': array(0.37125424), 'pays': array(0.37125424), 'pass': array(0.3170166), 'trying': array(0.33292477), 'congress': array(0.20032658), 'legislation': array(0.2663478)}, {'hatred': array(0.36377229), 'remain': array(0.34818472), 'peace': array(0.25110126), 'world': array(0.50220251), 'gives': array(0.33609406), 'hope': array(0.31062771), 'congress': array(0.19628937), 'means': array(0.26668882), 'help': array(0.27656761), 'people': array(0.18864526)}, {'settlers': array(0.17098419), 'users': array(0.55519556), 'principal': array(0.18506519), 'domestic': array(0.17098419), 'irrigation': array(0.17098419), 'towns': array(0.17098419), 'cities': array(0.14685175), 'purposes': array(0.15478175), 'manufacturing': array(0.17713518), 'municipal': array(0.17098419), 'water': array(0.60750988), 'mining': array(0.16170928), 'power': array(0.13014351), 'importance': array(0.14925023)}, {'russia': array(1.)}, {'stated': array(0.71948849), 'message': array(0.69450437)}, {'proposal': array(0.61987478), 'vetoed': array(0.6476254), 'year': array(0.44309886)}, {'generation': array(0.53987236), 'hand': array(0.49827737), 'american': array(0.36660962), 'achieve': array(0.570837)}, {'vital': array(0.3010402), 'matter': array(0.26638158), 'governments': array(0.28665557), 'example': array(0.3010402), 'set': array(0.28665557), 'enforcement': array(0.29333238), 'enactment': array(0.31015661), 'law': array(0.20618076), 'state': array(0.23172297), 'federal': array(0.24340413), 'affecting': array(0.32131419), 'especially': array(0.24083937), 'labor': array(0.22968179), 'government': array(0.17819895)}, {'hitherto': array(0.27417761), 'useful': array(0.25030072), 'widely': array(0.28645202), 'office': array(0.23508262), 'instead': array(0.24460339), 'easily': array(0.28645202), 'reserves': array(0.21502917), 'west': array(0.23957799), 'handled': array(0.28645202), 'man': array(0.40685338), 'point': array(0.25030072), 'view': array(0.23101606), 'field': array(0.21502917), 'case': array(0.21778281), 'people': array(0.14854847)}, {'treaty': array(0.391342), 'nuclear': array(0.36156608), 'ii': array(0.37457307), 'start': array(0.37457307), 'percent': array(0.32730413), 'cut': array(0.30586953), 'russia': array(0.3509386), '25': array(0.33416968)}, {'family': array(0.18011623), 'questions': array(0.19833925), 'importance': array(0.18305802), 'second': array(0.18011623), 'come': array(0.1664078), 'organized': array(0.43451879), 'especially': array(0.16284565), 'labor': array(0.3106027), 'capital': array(0.37968505), 'relations': array(0.20355096), 'industrialism': array(0.22698569), 'life': array(0.35482011), 'civilized': array(0.18305802), 'modern': array(0.18984252), 'vast': array(0.20355096), 'large': array(0.16834028), 'public': array(0.14297307)}, {'cruisers': array(0.20933676), 'armed': array(0.20933676), 'destroyers': array(0.20933676), 'torpedo': array(0.18772416), 'going': array(0.18772416), 'fashion': array(0.20036672), 'worthy': array(0.20036672), 'navy': array(0.16611157), 'reliance': array(0.20036672), 'war': array(0.15178318), 'useful': array(0.18291769), 'indispensable': array(0.20036672), 'keeping': array(0.18772416), 'experiences': array(0.20933676), 'main': array(0.41867352), 'fast': array(0.20933676), 'shown': array(0.19340902), 'sea': array(0.36583538), 'ships': array(0.18291769), 'battle': array(0.18772416), 'great': array(0.12354283)}, {'gangs': array(0.38525873), 'took': array(0.41120454), 'fight': array(0.38525873), 'crime': array(0.32249523), 'step': array(0.39692553), 'mob': array(0.42961338), 'way': array(0.29654942)}, {'challenge': array(0.25029125), 'economic': array(0.40751851), 'willing': array(0.35608817), 'age': array(0.34798292), 'security': array(0.32865302), 'american': array(0.24180781), 'work': array(0.20975451), 'achieve': array(0.37651178), 'help': array(0.30982685), 'new': array(0.27414864)}, {'heed': array(0.41200103), 'mines': array(0.39434687), 'extensive': array(0.39434687), 'pay': array(0.38065324), 'use': array(0.32692843), 'present': array(0.30204629), 'development': array(0.3132348), 'important': array(0.27948016)}, {'enforced': array(0.18987779), 'named': array(0.18987779), 'rate': array(0.15067061), 'transportation': array(0.18174156), 'discrimination': array(0.18174156), 'accept': array(0.17543062), 'person': array(0.18174156), 'car': array(0.18987779), 'stopped': array(0.37975557), 'difference': array(0.16213797), 'makes': array(0.18987779), 'foreign': array(0.14631092), 'grant': array(0.17543062), 'systems': array(0.18174156), 'respect': array(0.15582703), 'shall': array(0.14253439), 'abuses': array(0.1702742), 'receive': array(0.15880683), 'congress': array(0.10245693), 'railroad': array(0.16213797), 'corporation': array(0.17543062), 'property': array(0.35086123), 'commerce': array(0.14253439), 'interstate': array(0.14840684), 'legislation': array(0.13622344), 'private': array(0.31165405)}, {'printing': array(0.38985264), 'say': array(0.28642978), 'benefit': array(0.4073056), 'harm': array(0.4073056), 'accrue': array(0.4073056), 'caused': array(0.37631507), 'half': array(0.35590213)}, {'communities': array(0.22221603), 'improve': array(0.26373345), 'program': array(0.24709263), 'neighbors': array(0.27554029), '25': array(0.23528579), '000': array(0.23045182), 'serving': array(0.27554029), 'earn': array(0.27554029), 'friends': array(0.27554029), 'year': array(0.18852193), 'college': array(0.24709263), 'young': array(0.24076609), 'local': array(0.23528579), 'service': array(0.19019732), 'lives': array(0.21231843), 'money': array(0.24076609), 'national': array(0.19567762), 'people': array(0.14288986)}, {'ultimately': array(0.44109884), 'economy': array(0.40767611), 'funds': array(0.41717175), 'used': array(0.45696694), 'fact': array(0.39930037), 'time': array(0.31135216)}, {'volume': array(0.5421788), 'number': array(0.456828), 'constant': array(0.56645112), 'increase': array(0.42009934)}, {'different': array(0.43623948), 'kind': array(0.45576413), 'bureau': array(0.39153936), 'excellent': array(0.49924076), 'work': array(0.26846885), 'labor': array(0.35686726)}, {'preliminary': array(0.41745041), 'careful': array(0.35646384), 'corporations': array(0.63475568), 'bureau': array(0.31336492), 'investigation': array(0.34258909), 'important': array(0.28317673)}, {'constitution': array(0.36375962), 'appointed': array(0.35112813), 'absolutely': array(0.36375962), 'bring': array(0.33208143), 'place': array(0.31189113), 'justice': array(0.30157045), 'impossible': array(0.36375962), 'cases': array(0.27555769), 'proved': array(0.32452262)}, {'tax': array(0.19845085), 'using': array(0.23240334), 'savings': array(0.22244491), 'significant': array(0.22244491), 'remain': array(0.22244491), 'differences': array(0.23240334), 'balance': array(0.23240334), 'cut': array(0.18164445), 'budget': array(0.39690169), 'combined': array(0.23240334), 'office': array(0.19072648), 'plans': array(0.20840928), 'numbers': array(0.23240334), 'seven': array(0.22244491), 'congressional': array(0.21472054), 'years': array(0.14939753), 'provide': array(0.18164445), 'common': array(0.18441522), 'proposed': array(0.20840928), 'total': array(0.20840928)}, {'decline': array(0.31250272), 'men': array(0.19814955), 'company': array(0.29911204), 'work': array(0.16084878), 'refuse': array(0.27306372), 'moral': array(0.27306372), 'according': array(0.31250272), 'legal': array(0.28872542), 'organizations': array(0.28023894), 'join': array(0.28023894), 'right': array(0.44385369), 'circumstances': array(0.25202526)}, {'fall': array(0.18235753), 'governor': array(0.1626875), 'clerks': array(0.19052133), 'judges': array(0.33295366), 'including': array(0.19052133), 'powers': array(0.325375), 'alaska': array(0.15365046), 'indian': array(0.14890983), 'administrative': array(0.18235753), 'annual': array(0.17602519), 'code': array(0.18235753), 'duties': array(0.325375), 'stands': array(0.18235753), 'court': array(0.15365046), 'issue': array(0.1708513), 'day': array(0.15635516), 'direction': array(0.18235753), 'acting': array(0.19052133), 'reports': array(0.1708513), 'appoint': array(0.19052133), 'make': array(0.11304896), 'district': array(0.30730093), 'public': array(0.12000501), 'far': array(0.13398044), 'important': array(0.1292398)}, {'extraordinary': array(0.46331345), 'navy': array(0.36764553), 'remains': array(0.46331345), 'years': array(0.29783514), 'degree': array(0.38749842), 'improved': array(0.44346056)}, {'preserve': array(0.58367441), 'supply': array(0.59901146), 'water': array(0.54818743)}, {'employers': array(0.30726161), 'burdens': array(0.32101713), 'sure': array(0.27411878), 'share': array(0.26344917), 'ones': array(0.32101713), 'benefits': array(0.30726161), 'bad': array(0.296592), 'years': array(0.20636177), 'hours': array(0.30726161), 'need': array(0.21595684), 'make': array(0.19048079), 'workers': array(0.24736075), 'good': array(0.1864939), 'increase': array(0.23807718)}, {'minimum': array(0.339346), 'fixed': array(0.37841474), 'army': array(0.30027725), 'thousand': array(0.64626201), 'maximum': array(0.34962242), 'men': array(0.23994259), 'law': array(0.23241619)}, {'reform': array(1.)}, {'seas': array(0.44398702), 'learn': array(0.44398702), 'trade': array(0.36436689), 'officers': array(0.34211558), 'men': array(0.2815202), 'practice': array(0.41020552), 'high': array(0.32927582)}, {'insist': array(0.24545944), 'firmly': array(0.23494155), 'born': array(0.46988311), 'creed': array(0.23494155), 'nations': array(0.19184898), 'possible': array(0.17995128), 'race': array(0.20959954), 'observance': array(0.24545944), 'accept': array(0.22678325), 'abroad': array(0.19795662), 'citizens': array(0.1726146), 'secure': array(0.1866171), 'necessary': array(0.19184898), 'rights': array(0.17995128), 'regard': array(0.40288246), 'principles': array(0.22011742)}, {'considered': array(0.33986388), 'details': array(0.33986388), 'practical': array(0.30477525), 'consulting': array(0.33986388), 'engineers': array(0.32530079), 'selected': array(0.32530079), 'carefully': array(0.31400477), 'knowledge': array(0.31400477), 'experience': array(0.31400477), 'important': array(0.23054605)}, {'bipartisan': array(0.50506273), 'pass': array(0.51565695), 'urge': array(0.52766769), 'support': array(0.44785751)}, {'lessons': array(0.38262646), 'reclamation': array(0.33433758), 'methods': array(0.38262646), 'lands': array(0.64002954), 'object': array(0.38262646), 'people': array(0.19842267)}, {'alaska': array(0.46894529), 'purchase': array(0.58147614), 'like': array(0.44208279), 'proved': array(0.49652656)}, {'television': array(0.35291345), 'movies': array(0.35291345), 'media': array(0.33779118), 'create': array(0.32606144), 'grandchildren': array(0.33779118), 'say': array(0.24817956), 'shows': array(0.32606144), 'want': array(0.28461547), 'children': array(0.20716981), 'enjoy': array(0.35291345)}, {'governor': array(0.25635947), 'clerks': array(0.30021942), 'judges': array(0.26233062), 'alaska': array(0.2421191), 'exercise': array(0.26233062), 'executive': array(0.27737672), 'administrative': array(0.28735508), 'essential': array(0.27737672), 'recommend': array(0.26233062), 'congress': array(0.16199662), 'good': array(0.17441153), 'believe': array(0.23464891), 'district': array(0.2421191), 'courts': array(0.2382282), 'government': array(0.15936543), 'functions': array(0.30021942)}, {'brought': array(0.31689776), 'check': array(0.41126011), 'weevil': array(0.3936377), 'cotton': array(0.3936377), 'agriculture': array(0.3263405), 'home': array(0.31689776), 'department': array(0.30871809), 'kept': array(0.34396291)}, {'peace': array(0.25376558), 'steady': array(0.35187915), 'nations': array(0.28733809), 'bring': array(0.32123558), 'strive': array(0.35187915), 'world': array(0.25376558), 'day': array(0.3017047), 'prevail': array(0.36763211), 'justice': array(0.29172109), 'shall': array(0.27596813), 'nation': array(0.22444155)}, {'keeping': array(0.44623495), 'california': array(0.45974829), 'scale': array(0.45974829), 'industry': array(0.40837347), 'worst': array(0.45974829)}, {'prevention': array(0.4032716), 'communities': array(0.32522799), 'got': array(0.3859915), 'developed': array(0.4032716), 'young': array(0.35237724), 'washington': array(0.29907988), 'trouble': array(0.4032716), 'people': array(0.20912884)}, {'expression': array(0.17120598), 'assume': array(0.16386984), 'willing': array(0.14959915), 'fundamental': array(0.14619399), 'navy': array(0.27170855), 'army': array(0.27170855), 'effort': array(0.14050363), 'attitude': array(0.31635897), 'absolutely': array(0.16386984), 'mind': array(0.15817949), 'foreign': array(0.2638466), 'fact': array(0.14319042), 'world': array(0.11817843), 'consider': array(0.14619399), 'shape': array(0.15817949), 'justice': array(0.27170855), 'policy': array(0.39049177), 'save': array(0.15817949), 'congress': array(0.09238173), 'secure': array(0.13016392), 'necessary': array(0.13381312), 'takes': array(0.15353013), 'impossible': array(0.16386984), 'especially': array(0.12282778), 'large': array(0.12697216), 'great': array(0.10103945), 'nation': array(0.2090445)}, {'unjust': array(0.4477029), 'russia': array(0.40148063), 'wisdom': array(0.41363868), 'standpoint': array(0.41363868), 'conduct': array(0.40148063), 'difficult': array(0.3674164)}, {'strategy': array(0.48996748), 'coming': array(0.46897247), 'let': array(0.38295436), 'crime': array(0.36780086), 'rate': array(0.38879587), 'working': array(0.32696016)}, {'juvenile': array(0.31707329), 'taking': array(0.28946081), 'careful': array(0.28287212), 'advantage': array(0.30606297), 'accomplished': array(0.30606297), 'children': array(0.19446338), 'colorado': array(0.31707329), 'study': array(0.28946081), 'vital': array(0.29706689), 'matter': array(0.26286572), 'courts': array(0.26286572), 'states': array(0.19051392), 'care': array(0.2518554)}, {'preparation': array(0.31460139), 'examination': array(0.31460139), 'detailed': array(0.31460139), 'disposal': array(0.31460139), 'reserve': array(0.30112079), 'forest': array(0.21716004), 'ground': array(0.2631211), 'method': array(0.28212094), 'careful': array(0.26864034), 'created': array(0.25818397), 'present': array(0.23064065), 'land': array(0.25818397), 'administration': array(0.24241709)}, {'stock': array(0.58723716), 'annual': array(0.54255624), 'live': array(0.481928), 'nation': array(0.35851171)}, {'class': array(0.4254948), 'wheat': array(0.46053541), 'year': array(0.31509375), 'million': array(0.36544113), 'grown': array(0.40241415), 'experimental': array(0.46053541)}, {'enterprise': array(0.24241032), 'lost': array(0.24241032), 'steadily': array(0.23202309), 'stated': array(0.23202309), 'called': array(0.21181724), 'studying': array(0.24241032), 'annual': array(0.22396612), 'grown': array(0.21181724), 'trade': array(0.19893891), 'subject': array(0.19549758), 'attention': array(0.17215005), 'american': array(0.14383815), 'recommendation': array(0.42363448), 'renew': array(0.24241032), 'message': array(0.22396612), 'field': array(0.18196866), 'time': array(0.15808778), 'importance': array(0.19549758), 'resources': array(0.20699587), 'great': array(0.14306163)}, {'empire': array(0.25133182), 'consular': array(0.2405623), 'china': array(0.23220881), 'export': array(0.2405623), 'products': array(0.214614), 'center': array(0.25133182), 'trade': array(0.41252103), 'place': array(0.20626052), 'prominent': array(0.2405623), 'american': array(0.14913186), 'urged': array(0.2405623), 'means': array(0.18425644), 'effective': array(0.23220881), 'control': array(0.23220881), 'strongly': array(0.22538352), 'permanent': array(0.214614), 'government': array(0.13341443), 'representatives': array(0.22538352)}, {'mankind': array(0.42876617), 'powers': array(0.39627791), 'free': array(0.38085347), 'evil': array(0.42876617), 'sink': array(0.44419062), 'people': array(0.24066092), 'great': array(0.27388065)}, {'god': array(0.28345646), 'synagogues': array(0.27131041), 'churches': array(0.27131041), 'communities': array(0.22860022), 'media': array(0.27131041), 'businesses': array(0.23262425), 'parents': array(0.21550536), 'teachers': array(0.24768321), 'just': array(0.20129937), 'schools': array(0.22154713), 'children': array(0.16639667), 'responsibility': array(0.23707262), 'lives': array(0.21841826), 'make': array(0.3363871), 'given': array(0.21278051), 'governments': array(0.24204546), 'help': array(0.21550536)}, {'shut': array(0.72904937), 'federal': array(0.55227449), 'government': array(0.40432648)}, {'chamber': array(0.54592297), 'agree': array(0.48703688), 'hope': array(0.48703688), 'things': array(0.47703067)}, {'treasury': array(0.32426542), 'homes': array(0.31300536), 'prosperous': array(0.33878217), 'construction': array(0.30380522), 'promptly': array(0.33878217), 'ground': array(0.28334501), 'creation': array(0.30380522), 'standpoint': array(0.31300536), 'men': array(0.21481264), 'cost': array(0.28928847), 'taken': array(0.27321895)}, {'cut': array(0.21702241), '1993': array(0.25654057), 'democrats': array(0.26576936), 'deficit': array(0.51308113), 'thank': array(0.2371021), 'reduction': array(0.26576936), 'history': array(0.26576936), 'largest': array(0.27766735), 'nearly': array(0.2278733), 'years': array(0.17849492), 'plan': array(0.27766735), 'half': array(0.24262471), 'passing': array(0.24262471)}, {'join': array(1.)}, {'investigations': array(0.40030056), 'method': array(0.35897226), 'making': array(0.31287147), 'results': array(0.31764395), 'protection': array(0.32851472), 'means': array(0.29346844), 'law': array(0.2458581), 'rights': array(0.29346844), 'private': array(0.32851472), 'public': array(0.25214013)}, {'economy': array(1.)}, {'issue': array(1.)}, {'fortifications': array(0.36124436), 'guns': array(0.34576512), 'manned': array(0.36124436), 'mounted': array(0.36124436), 'coast': array(0.34576512), 'thousand': array(0.3084691), 'adequately': array(0.36124436), 'men': array(0.22905532), 'require': array(0.30213157)}, {'realize': array(0.57187205), 'leaders': array(0.54736745), 'industry': array(0.46931831), 'labor': array(0.39126917)}, {'standpoint': array(0.27535258), 'financial': array(0.29802859), 'satisfactory': array(0.27535258), 'efficient': array(0.26041628), 'intent': array(0.29802859), 'created': array(0.24458316), 'result': array(0.2544887), 'operated': array(0.29802859), 'publicity': array(0.29802859), 'letter': array(0.27535258), 'service': array(0.20572032), 'laws': array(0.2039082), 'public': array(0.37544273)}, {'causes': array(0.32448781), 'man': array(0.23043818), 'officer': array(0.31058358), 'punishment': array(0.29098666), 'weakness': array(0.31058358), 'prevent': array(0.28353625), 'accidents': array(0.31058358), 'human': array(0.29979861), 'railroad': array(0.27708242), 'caused': array(0.29979861), 'wrong': array(0.2574855), 'course': array(0.25361688)}, {'india': array(0.30966325), 'spain': array(0.30966325), 'turkey': array(0.29639424), 'fig': array(0.30966325), 'old': array(0.286102), 'soils': array(0.29639424), 'imported': array(0.27769263), 'countries': array(0.24572201), 'date': array(0.29639424), 'suitable': array(0.29639424), 'fruits': array(0.30966325), 'world': array(0.21375138)}, {'political': array(0.41452294), 'remember': array(0.39676504), 'needs': array(0.38258563), 'prime': array(0.45406546), 'moral': array(0.41452294), 'industrial': array(0.38258563)}, {'prosperity': array(0.33945751), 'enjoy': array(0.4277904), 'continues': array(0.4277904), 'nation': array(0.26116854), 'representatives': array(0.38362396), 'house': array(0.38362396), 'senate': array(0.39524125)}, {'body': array(0.35895893), 'excellent': array(0.41865495), 'rural': array(0.39223904), 'municipal': array(0.40411722), 'letter': array(0.40411722), 'servants': array(0.37349665), 'public': array(0.27550654)}, {'extent': array(0.31597634), 'accounts': array(0.330122), 'food': array(0.30500411), 'cheap': array(0.330122), 'successful': array(0.29603915), 'depends': array(0.330122), 'direction': array(0.31597634), 'growth': array(0.30500411), 'manufacturing': array(0.31597634), 'primarily': array(0.31597634)}, {'destitution': array(0.31633924), 'spread': array(0.31633924), 'establishment': array(0.31633924), 'areas': array(0.29227003), 'brought': array(0.24375619), 'central': array(0.30278416), 'diseases': array(0.29227003), 'death': array(0.28367936), 'allowed': array(0.29227003), 'points': array(0.30278416), 'continually': array(0.29227003), 'great': array(0.18669175)}, {'32': array(0.31668079), 'percent': array(0.79458068), '25': array(0.27041595), 'york': array(0.30311108), 'city': array(0.24076504), 'new': array(0.21303967)}, {'filipinos': array(0.25417246), 'independent': array(0.29088296), 'islands': array(0.43145732), 'ground': array(0.24328387), 'bring': array(0.25417246), 'stop': array(0.24328387), 'strive': array(0.27841869), 'continue': array(0.248387), 'make': array(0.17260019), 'capitalists': array(0.27841869), 'laws': array(0.19901923), 'case': array(0.22115155), 'industrial': array(0.2345895), 'development': array(0.22115155), 'long': array(0.20657337)}, {'way': array(1.)}, {'reversed': array(0.16958906), 'obtain': array(0.16958906), 'immediately': array(0.15668559), 'review': array(0.33917811), 'decide': array(0.16958906), 'hearing': array(0.16958906), 'security': array(0.13676914), 'rates': array(0.14183808), 'fix': array(0.16958906), 'undesirable': array(0.1623222), 'finally': array(0.15668559), 'court': array(0.13676914), 'reasonable': array(0.15668559), 'challenged': array(0.16958906), 'rate': array(0.26914245), 'subject': array(0.13676914), 'judicial': array(0.15208014), 'fair': array(0.15668559), 'opinion': array(0.15668559), 'unreasonable': array(0.14818629), 'place': array(0.13917667), 'present': array(0.12432917), 'general': array(0.12296343), 'effect': array(0.14818629), 'shall': array(0.12730437), 'commission': array(0.41030741), 'unless': array(0.15208014), 'railroad': array(0.14481329), 'given': array(0.12730437), 'believe': array(0.13254935), 'power': array(0.11926022), 'authority': array(0.14481329)}, {'classroom': array(0.63658299), 'visit': array(0.6650816), 'children': array(0.39042102)}, {'building': array(0.38056766), 'really': array(0.4204052), 'juvenile': array(0.43552887), 'court': array(0.3669671), 'character': array(0.3669671), 'work': array(0.46841502)}, {'sacrifice': array(0.75302217), 'require': array(0.65799515)}, {'commercial': array(0.18261524), 'pass': array(0.15593644), 'mines': array(0.17479022), 'danger': array(0.17479022), 'miners': array(0.18261524), 'absolutely': array(0.17479022), 'accessible': array(0.18261524), 'settlers': array(0.16872066), 'domestic': array(0.16872066), 'timber': array(0.49128439), 'reclamation': array(0.15956853), 'lands': array(0.15273271), 'export': array(0.17479022), 'supply': array(0.32752293), 'cheap': array(0.18261524), 'transportation': array(0.17479022), 'acts': array(0.17479022), 'general': array(0.13240829), 'interests': array(0.14071475), 'act': array(0.13883812), 'companies': array(0.29973375), 'necessary': array(0.1427305), 'private': array(0.14986688), 'important': array(0.12387672)}, {'values': array(0.42623496), 'supporting': array(0.45494037), 'instead': array(0.40586814), 'work': array(0.24464613), 'welfare': array(0.361365), 'family': array(0.37716273), 'long': array(0.33754402)}, {'cordial': array(0.26349967), 'worthy': array(0.26349967), 'grandchildren': array(0.52699933), 'assured': array(0.26349967), 'rest': array(0.2468736), 'fellow': array(0.22592724), 'mind': array(0.25434968), 'sound': array(0.26349967), 'character': array(0.22201906), 'children': array(0.32321256), 'body': array(0.22592724), 'citizens': array(0.19359661), 'good': array(0.15993238)}, {'behalf': array(0.52801319), 'peace': array(0.38078861), 'attention': array(0.39176056), 'receive': array(0.461381), 'make': array(0.32733139), 'good': array(0.32048012)}, {'urge': array(0.30117087), 'transactions': array(0.34466943), 'insurance': array(0.30908466), 'carefully': array(0.31844467), 'consider': array(0.29431564), 'corporations': array(0.26204415), 'bureau': array(0.25873087), 'cover': array(0.34466943), 'extended': array(0.29431564), 'congress': array(0.18598158), 'interstate': array(0.26939065), 'power': array(0.2423821)}, {'families': array(0.36617122), 'stay': array(0.47638644), 'children': array(0.30268188), 'better': array(0.73983665)}, {'evils': array(0.32306071), 'supervision': array(0.29848009), 'degree': array(0.27019616), 'regulate': array(0.32306071), 'hand': array(0.26054001), 'present': array(0.23684234), 'policy': array(0.24561554), 'increased': array(0.27586381), 'engaged': array(0.29848009), 'increasing': array(0.26512628), 'commerce': array(0.24250999), 'interstate': array(0.25250147), 'increase': array(0.23959277), 'government': array(0.17149027)}, {'western': array(0.35470875), 'reserves': array(0.28819482), 'forest': array(0.26500859), 'future': array(0.32783194), 'value': array(0.36746906), 'present': array(0.28145948), 'land': array(0.31507163), 'welfare': array(0.29188541), 'extreme': array(0.32783194), 'states': array(0.22079428), 'public': array(0.24182236)}, {'begin': array(0.50236977), 'strong': array(0.40514807), 'taking': array(0.43896885), 'families': array(0.35676278), 'children': array(0.29490474), 'responsibility': array(0.42016369)}, {'formidable': array(0.47498616), 'cruisers': array(0.47498616), 'type': array(0.42594708), 'field': array(0.35655493), 'especially': array(0.34076787), 'large': array(0.35226583)}, {'troops': array(0.37224825), 'peace': array(0.28653472), 'strong': array(0.33477133), 'hold': array(0.37224825), 'europe': array(0.41510501), 'central': array(0.39731785), 'helping': array(0.34717865), 'new': array(0.27925228)}, {}, {'evening': array(0.49094341), 'lot': array(0.46990659), 'america': array(0.30723043), 'asked': array(0.49094341), 'know': array(0.36410027), 'congress': array(0.26491015)}, {'bureaucratic': array(0.48700415), 'worked': array(0.48700415), 'smaller': array(0.42554243), 'washington': array(0.36117878), 'american': array(0.28897192), 'government': array(0.25851635), 'people': array(0.25255092)}, {'factories': array(0.57219056), 'desirable': array(0.55232134), 'women': array(0.52236107), 'work': array(0.30769792)}, {'code': array(0.18654415), 'provide': array(0.15232854), 'experiences': array(0.19489537), 'aid': array(0.17029886), 'offenders': array(0.38979075), 'greatest': array(0.38979075), 'furnish': array(0.19489537), 'needs': array(0.15717802), 'juvenile': array(0.18654415), 'number': array(0.31435604), 'cities': array(0.15465213), 'classes': array(0.18006643), 'earnest': array(0.19489537), 'easy': array(0.18654415), 'children': array(0.11440889), 'women': array(0.17029886), 'special': array(0.14288174), 'different': array(0.16300336), 'matters': array(0.15232854), 'study': array(0.17029886), 'men': array(0.1235779), 'work': array(0.10031491), 'good': array(0.11322386), 'columbia': array(0.17029886), 'district': array(0.15717802), 'states': array(0.11208531)}, {'thank': array(1.)}, {'challenge': array(0.20390557), 'values': array(0.29771824), 'teach': array(0.66398879), 'education': array(0.26774479), 'schools': array(0.25948396), 'character': array(0.26774479), 'good': array(0.38574221), 'citizenship': array(0.26344208)}, {'associations': array(0.31399136), 'workplace': array(0.31399136), 'religious': array(0.28157389), 'smaller': array(0.27436449), 'old': array(0.2901008), 'civic': array(0.2901008), 'local': array(0.26811943), 'american': array(0.18631194), 'work': array(0.161615), 'citizens': array(0.22080835), 'believe': array(0.24541294), 'governments': array(0.26811943), 'state': array(0.21673895), 'way': array(0.21673895), 'new': array(0.21123042), 'government': array(0.16667599)}, {'reality': array(0.4007641), 'willing': array(0.37902494), 'fundamental': array(0.3703976), 'americans': array(0.28500018), 'opportunity': array(0.38898448), 'american': array(0.25738342), 'make': array(0.25738342), 'work': array(0.22326547), 'questions': array(0.37902494)}, {'orderly': array(0.43643352), 'stable': array(0.43643352), 'prosperous': array(0.45597182), 'countries': array(0.36181985), 'desires': array(0.43643352), 'country': array(0.29958878)}, {'steady': array(0.37513168), 'beginning': array(0.37513168), 'products': array(0.33466803), 'know': array(0.29066532), 'grown': array(0.34246316), 'material': array(0.33466803), 'small': array(0.33466803), 'wealth': array(0.35146197), 'nation': array(0.23927287)}, {'guns': array(0.49505093), 'criminal': array(0.47786036), '000': array(0.43257838), 'stopped': array(0.51721341), 'people': array(0.26821686)}, {'heartily': array(0.37810965), 'wisdom': array(0.34934054), 'reserves': array(0.28383324), 'forest': array(0.26099791), 'nearly': array(0.3103033), 'localities': array(0.34934054), 'complaint': array(0.36190773), 'creating': array(0.34934054), 'recognized': array(0.3390724)}, {'purpose': array(0.4689411), 'existing': array(0.45930666), 'enforcing': array(0.52563928), 'administration': array(0.42316555), 'law': array(0.337292)}, {'philippine': array(0.30161106), 'americans': array(0.22679036), 'highest': array(0.33038259), 'standard': array(0.31891011), 'individuals': array(0.31891011), 'islands': array(0.25599213), 'remember': array(0.28869023), 'conduct': array(0.30953641), 'need': array(0.23220727), 'servants': array(0.29474581), 'private': array(0.28327333), 'public': array(0.21741667), 'people': array(0.17900013)}, {'tomorrow': array(0.61424876), 'ready': array(0.61424876), 'meet': array(0.49537555)}, {'applies': array(0.27043153), 'strong': array(0.21809595), 'injustice': array(0.49971059), 'weak': array(0.27043153), 'remember': array(0.22617904), 'moral': array(0.23630207), 'right': array(0.19204958), 'law': array(0.16609465), 'duty': array(0.20838186), 'case': array(0.2056028), 'individual': array(0.4361919), 'nation': array(0.33020005)}, {'legislature': array(0.38207243), 'philippine': array(0.36134719), 'lower': array(0.35312223), 'experiment': array(0.39581712), 'years': array(0.26583705), 'trying': array(0.37084221), 'shall': array(0.31042734), 'house': array(0.37084221)}, {'parent': array(0.37733393), 'going': array(0.33837677), 'sure': array(0.32220809), 'love': array(0.34862385), 'admit': array(0.37733393), 'let': array(0.29492095), 'check': array(0.37733393), 'make': array(0.22389729), 'doing': array(0.30966669)}, {'expand': array(0.57080457), 'environment': array(0.48741403), 'economy': array(0.48741403), 'believe': array(0.44613594)}, {'strong': array(0.3744332), 'borders': array(0.42895852), 'stand': array(0.41635018), 'years': array(0.29845929), 'administration': array(0.35775577), 'protection': array(0.38102432), 'taken': array(0.3744332)}, {'times': array(0.21753191), 'hard': array(0.1975455), 'wise': array(0.21753191), 'greater': array(0.21258046), 'far': array(0.17506952), 'permanent': array(0.21258046), 'expenditures': array(0.23000856), 'passing': array(0.21753191), 'country': array(0.16356874), 'period': array(0.23000856), 'expense': array(0.23828289), 'increase': array(0.18463003), 'involves': array(0.24895036), 'development': array(0.18927117), 'required': array(0.21753191), 'government': array(0.13215029), 'national': array(0.17679452), 'functions': array(0.24895036), 'scope': array(0.24895036), 'enlargement': array(0.23828289), 'course': array(0.19457746), 'prosperity': array(0.1975455), 'nation': array(0.15198565)}, {'developed': array(0.30699085), 'end': array(0.25193822), 'reformation': array(0.30699085), 'criminals': array(0.26824747), 'treated': array(0.29383635), 'young': array(0.53649494), 'generally': array(0.29383635), 'necessarily': array(0.28363293), 'recognized': array(0.27529613), 'wrong': array(0.24360142)}, {'immigrants': array(0.47792935), 'danger': array(0.49512239), 'having': array(0.43264083), 'kind': array(0.45200441), 'right': array(0.36735716)}, {'bringing': array(0.28795155), 'instead': array(0.26613303), 'criminality': array(0.31166512), 'years': array(0.20034995), 'criminals': array(0.27233183), 'person': array(0.29831033), 'complaint': array(0.29831033), 'recent': array(0.27948782), 'justice': array(0.24731052), 'grave': array(0.29831033), 'increasing': array(0.25577425), 'persons': array(0.27233183), 'difficulty': array(0.29831033)}, {'ii': array(0.33830845), 'senator': array(0.35345388), 'aisle': array(0.35345388), 'sides': array(0.35345388), 'chamber': array(0.33830845), 'say': array(0.2485596), 'war': array(0.25627774), 'world': array(0.24397876), 'like': array(0.26872276), 'service': array(0.24397876), 'american': array(0.20972767), 'people': array(0.18329433)}, {'hoped': array(0.58121825), 'serve': array(0.51852503), 'purpose': array(0.51852503), 'good': array(0.35277319)}, {'agree': array(1.)}, {'french': array(0.29313912), 'say': array(0.20614441), 'appointment': array(0.29313912), 'competitive': array(0.29313912), 'places': array(0.27083514), 'possess': array(0.27083514), 'examinations': array(0.27083514), 'prepared': array(0.26287451), 'provided': array(0.23640903), 'united': array(0.19117055), 'apply': array(0.29313912), 'work': array(0.15088211), 'according': array(0.29313912), 'law': array(0.18004129), 'states': array(0.16858578), 'resources': array(0.25031355)}, {'lead': array(0.40758612), 'drugs': array(0.39343275), 'tonight': array(0.34342315), 'home': array(0.32812692), 'ask': array(0.3494684), 'abroad': array(0.34342315), 'battle': array(0.38186862), 'nation': array(0.25997351)}, {'disclose': array(0.29270584), 'pollution': array(0.29270584), 'polluters': array(0.28016345), 'emissions': array(0.29270584), 'communities': array(0.2360596), 'strengthen': array(0.28016345), 'cut': array(0.22877636), 'say': array(0.20583971), 'know': array(0.21708057), 'use': array(0.23226607), 'community': array(0.21708057), 'information': array(0.24480845), 'requiring': array(0.27043482), 'work': array(0.1506591), 'right': array(0.2078679), 'laws': array(0.20026643), 'business': array(0.21972368)}, {'fish': array(0.3433698), 'salmon': array(0.35874182), 'prohibited': array(0.35874182), 'fisheries': array(0.35874182), 'indians': array(0.31346727), 'dwell': array(0.35874182), 'live': array(0.29440869), 'mass': array(0.33144634), 'certain': array(0.2692945)}, {'challenges': array(0.46298966), 'america': array(0.36513183), 'built': array(0.55846633), 'promises': array(0.58346781)}, {'using': array(0.33484078), 'military': array(0.32049292), 'america': array(0.20954203), 'strong': array(0.27004033), 'share': array(0.27479383), 'keeping': array(0.30027075), 'efforts': array(0.26570072), 'difference': array(0.28592289), 'world': array(0.23113069), 'making': array(0.26170867), 'force': array(0.25801261), 'cost': array(0.28592289), 'people': array(0.17364194), 'working': array(0.22344258)}, {'rodgers': array(0.45243335), 'jennifer': array(0.45243335), 'lucius': array(0.45243335), 'wright': array(0.43304667), 'americans': array(0.29726389), 'special': array(0.33168804)}, {'peace': array(0.47009088), 'stood': array(0.65184246), 'taking': array(0.59507644)}, {'scrupulously': array(0.17088251), 'mankind': array(0.15788063), 'peoples': array(0.17088251), 'respecting': array(0.17088251), 'exercise': array(0.1493165), 'render': array(0.17088251), 'war': array(0.12390127), 'advanced': array(0.15324005), 'nations': array(0.1335603), 'just': array(0.12135388), 'exceptional': array(0.15788063), 'provide': array(0.1335603), 'aid': array(0.1493165), 'international': array(0.28047634), 'prepared': array(0.15324005), 'sentiment': array(0.17088251), 'follows': array(0.17088251), 'hand': array(0.27562454), 'head': array(0.16356023), 'general': array(0.12390127), 'tend': array(0.31576125), 'stage': array(0.16356023), 'self': array(0.1355976), 'endeavor': array(0.14591777), 'wrongdoing': array(0.15324005), 'means': array(0.12527742), 'wrong': array(0.1355976), 'seeing': array(0.16356023), 'police': array(0.13167405), 'various': array(0.13781227), 'action': array(0.1355976), 'cases': array(0.12390127), 'come': array(0.12527742), 'relations': array(0.15324005), 'civilized': array(0.13781227), 'far': array(0.12016982), 'development': array(0.129918), 'nation': array(0.10432477)}, {'statement': array(0.37406069), 'reserve': array(0.35803227), 'forest': array(0.25820304), 'following': array(0.37406069), 'west': array(0.31285068), 'successful': array(0.33544147), 'desirable': array(0.34559966), 'policy': array(0.28438964), 'support': array(0.27741608), 'people': array(0.19398063)}, {'percent': array(0.34394262), 'challenge': array(0.25257438), 'assure': array(0.41123585), 'criminals': array(0.35933636), 'violent': array(0.35933636), 'serve': array(0.35115717), 'policy': array(0.31265305), 'state': array(0.28386395), 'federal': array(0.29817354)}, {'naturalization': array(0.42795722), 'similarly': array(0.56289663), 'greatest': array(0.56289663), 'care': array(0.42795722)}, {'army': array(0.39734328), 'corps': array(0.4626395), 'efficient': array(0.43754395), 'signal': array(0.50073907), 'work': array(0.25773622), 'way': array(0.34564538)}, {'tough': array(0.38660665), 'agree': array(0.33012613), 'requirements': array(0.37004064), 'limits': array(0.35719104), 'possible': array(0.28342916), 'child': array(0.31178815), 'support': array(0.2867206), 'work': array(0.19899094), 'enforcement': array(0.33781547), 'time': array(0.25212536)}, {'wording': array(0.33082147), 'issued': array(0.33082147), 'certificates': array(0.31664583), 'naturalization': array(0.25151587), 'furthermore': array(0.31664583), 'widely': array(0.33082147), 'brought': array(0.25491551), 'countries': array(0.26251134), 'foreign': array(0.25491551), 'use': array(0.26251134), 'subject': array(0.26679885), 'courts': array(0.26251134)}, {'remedy': array(0.45340313), 'individuals': array(0.41890519), 'right': array(0.32198864), 'law': array(0.27847284), 'state': array(0.31297078), 'wrong': array(0.35978156), 'individual': array(0.36565776), 'nation': array(0.27680526)}, {'things': array(1.)}, {'took': array(0.37332873), '000': array(0.32621682), 'office': array(0.32009578), 'smaller': array(0.34081722), 'today': array(0.32621682), 'day': array(0.32009578), 'president': array(0.33305956), 'employees': array(0.30485343), 'federal': array(0.28280655), 'government': array(0.20704591)}, {'cuba': array(0.37015081), 'stop': array(0.34522246), 'necessarily': array(0.3813601), 'force': array(0.3180582), 'intolerable': array(0.4127661), 'interfere': array(0.39507915), 'cases': array(0.29928308), 'conditions': array(0.28492023)}, {'harmful': array(0.31589784), 'accomplished': array(0.60985667), 'mean': array(0.30492834), 'destructive': array(0.31589784), 'try': array(0.30492834), 'deal': array(0.27603337), 'nature': array(0.28838772), 'spirit': array(0.28838772)}, {'warrants': array(0.54030591), 'subject': array(0.43574258), 'attention': array(0.3837035), 'united': array(0.35236026), 'better': array(0.38763002), 'states': array(0.31073264)}, {'merely': array(1.)}, {'classes': array(0.27068677), 'usually': array(0.28042446), 'competition': array(0.29297853), 'international': array(0.24043873), 'leadership': array(0.25600356), 'place': array(0.24043873), 'understand': array(0.29297853), 'clearly': array(0.28042446), 'way': array(0.20223442), 'industrial': array(0.47255904), 'country': array(0.19249672), 'people': array(0.15193299), 'working': array(0.19550748), 'prosperity': array(0.23248246)}, {'resolve': array(0.51845429), 'differences': array(0.51845429), 'ought': array(0.46492742), 'remaining': array(0.49623863)}, {'mother': array(0.33693133), 'woman': array(0.33693133), 'prime': array(0.64498778), 'man': array(0.23927506), 'work': array(0.17342247), 'duty': array(0.51924697)}, {'include': array(0.31123993), 'possible': array(0.23839131), 'california': array(0.30043217), 'trees': array(0.32517355), 'park': array(0.58320319), 'colorado': array(0.31123993), 'national': array(0.46185032)}, {}, {'low': array(0.36007145), 'job': array(0.30746754), 'basic': array(0.32289653), 'ability': array(0.34464246), 'best': array(0.29549989), 'human': array(0.33267481), 'american': array(0.21365431), 'matter': array(0.2857216), 'duty': array(0.27745418), 'life': array(0.28142874), 'high': array(0.26704119)}, {'streets': array(0.41656766), 'opened': array(0.45630523), 'disease': array(0.47673315), 'vice': array(0.45630523), 'grounds': array(0.4275137)}, {'strongly': array(0.34423389), 'states': array(0.2207629), 'authority': array(0.32778534), 'division': array(0.36741682), 'form': array(0.3046024), 'peculiar': array(0.34423389), 'far': array(0.26994589), 'development': array(0.29184391), 'government': array(0.40753441), 'nation': array(0.23435205)}, {'formidable': array(0.5237617), 'hostile': array(0.5237617), 'mines': array(0.50131862), 'proved': array(0.44724379)}, {'limit': array(0.37476797), 'republicans': array(0.37476797), 'democrats': array(0.35870924), 'spending': array(0.37476797), 'candidates': array(0.37476797), 'open': array(0.320017), 'alike': array(0.34625312), 'american': array(0.22237474), 'people': array(0.19434741)}, {'families': array(0.3837504), 'respect': array(0.44346712), 'women': array(0.47217502), 'american': array(0.32063858), 'men': array(0.34263529), 'greater': array(0.4614274)}, {}, {'love': array(0.25321857), 'shortcomings': array(0.26232787), 'sought': array(0.27407179), 'fashion': array(0.26232787), 'misled': array(0.27407179), 'slothful': array(0.27407179), 'peoples': array(0.27407179), 'peace': array(0.18918365), 'false': array(0.26232787), 'minds': array(0.25321857), 'needed': array(0.24577574), 'sacrifice': array(0.26232787), 'self': array(0.2174797), 'duty': array(0.21118687), 'doing': array(0.22492253), 'times': array(0.23948292)}, {'thank': array(1.)}, {'borders': array(0.467534), 'run': array(0.48435308), 'criminal': array(0.467534), 'united': array(0.33001157), 'cases': array(0.36691047), 'states': array(0.29102421)}, {'carry': array(0.44516382), 'annually': array(0.42608864), 'dollars': array(0.39920369), 'millions': array(0.41129278), 'directly': array(0.42608864), 'congress': array(0.24020775), 'work': array(0.22913099)}, {'passport': array(0.2043176), 'expatriation': array(0.2043176), 'citizen': array(0.3664464), 'naturalization': array(0.15533792), 'assumed': array(0.2043176), 'producing': array(0.2043176), 'import': array(0.2043176), 'secured': array(0.18877175), 'degree': array(0.17088377), 'foreign': array(0.15743756), 'intention': array(0.19556263), 'acts': array(0.19556263), 'accomplished': array(0.18877175), 'abroad': array(0.1647768), 'receive': array(0.17088377), 'involving': array(0.2043176), 'personal': array(0.1621288), 'extended': array(0.17446823), 'american': array(0.12123521), 'united': array(0.13324563), 'protection': array(0.33535471), 'governments': array(0.17446823), 'rights': array(0.14978937), 'states': array(0.11750408), 'questions': array(0.17853197), 'government': array(0.10845788), 'long': array(0.14509813)}, {}, {'ideas': array(0.45191448), 'let': array(0.35321246), 'said': array(0.43255004), 'say': array(0.31780011), 'negotiations': array(0.45191448), 'good': array(0.2625383), 'come': array(0.33130765)}, {'prevention': array(0.40291234), 'roots': array(0.38564763), 'grass': array(0.38564763), 'challenge': array(0.24746221), 'abandon': array(0.38564763), 'crime': array(0.30245172), 'efforts': array(0.31971643), 'congress': array(0.2174091), 'support': array(0.29881344)}, {'tends': array(0.25042451), 'worst': array(0.23137054), 'industries': array(0.23969387), 'having': array(0.2094459), 'restriction': array(0.25042451), 'establish': array(0.23137054), 'lack': array(0.23969387), 'met': array(0.25042451), 'actually': array(0.25042451), 'child': array(0.20196082), 'work': array(0.12889641), 'proper': array(0.19039193), 'better': array(0.17966129), 'matter': array(0.19871526), 'state': array(0.34572127), 'cases': array(0.18157455), 'difficult': array(0.20551592), 'problems': array(0.20196082), 'legislation': array(0.17966129), 'states': array(0.14402039), 'labor': array(0.17133796)}, {'governor': array(0.42365845), 'consideration': array(0.42365845), 'ask': array(0.40716826), 'report': array(0.3936948), 'special': array(0.36373115), 'recommendation': array(0.43352635)}, {'military': array(0.50475747), 'taught': array(0.50475747), 'political': array(0.46080042), 'lessons': array(0.5273545)}, {'insist': array(0.37526861), 'doctrine': array(0.34671566), 'monroe': array(0.35918842), 'hemisphere': array(0.35918842), 'steadily': array(0.35918842), 'western': array(0.34671566), 'application': array(0.35918842), 'continue': array(0.3204445)}, {'dreams': array(0.56938293), 'efforts': array(0.47203993), 'common': array(0.47203993), 'individual': array(0.47974961)}, {'telecommunications': array(0.47472834), 'chip': array(0.45438633), 'pending': array(0.43860784), 'requirement': array(0.45438633), 'congress': array(0.25616059), 'important': array(0.32203112)}, {'warrant': array(0.21345337), 'commissioned': array(0.21345337), 'enlisted': array(0.39442482), 'unjust': array(0.21345337), 'navy': array(0.33875631), 'army': array(0.33875631), 'respect': array(0.1751748), 'alike': array(0.19721241), 'officers': array(0.49343147), 'medals': array(0.20430693), 'men': array(0.27069005), 'given': array(0.16023172), 'rights': array(0.15648698)}, {'lot': array(0.53063468), 'learned': array(0.55439018), 'ideas': array(0.55439018), 'good': array(0.32207124)}, {'let': array(1.)}, {'costs': array(0.44340732), 'works': array(0.44340732), 'american': array(0.26310302), 'administration': array(0.3416689), 'better': array(0.31811236), 'hard': array(0.35184975), 'government': array(0.23537385), 'people': array(0.22994245), 'working': array(0.29589011)}, {'forth': array(0.35398896), 'hospital': array(0.35398896), 'marine': array(0.3388206), 'repeatedly': array(0.32705511), 'health': array(0.27667472), 'general': array(0.25666571), 'need': array(0.23813787), 'service': array(0.24434811), 'set': array(0.30227366), 'legislation': array(0.25396122), 'public': array(0.22296952), 'national': array(0.2513887)}, {'market': array(0.50570322), 'say': array(0.3715467), 'year': array(0.36148675), 'million': array(0.41924704), 'children': array(0.31015149), 'make': array(0.31350076), 'law': array(0.32449944)}, {'programs': array(0.35420296), 'sets': array(0.37005995), 'tv': array(0.37005995), 'chip': array(0.35420296), 'parents': array(0.28134797), 'pass': array(0.31599679), 'children': array(0.21723527), 'requirement': array(0.35420296), 'congress': array(0.19968215), 'believe': array(0.28923567)}, {'agricultural': array(0.48134844), 'students': array(0.48134844), 'thousand': array(0.4294277), 'attendance': array(0.48134844), 'state': array(0.34713527)}, {'rules': array(0.39407436), 'naturalization': array(0.29960557), 'varying': array(0.37718836), 'lack': array(0.37718836), 'results': array(0.31270337), 'jurisdiction': array(0.36409055), 'courts': array(0.31270337), 'applied': array(0.37718836)}, {'general': array(0.17095327), 'engaging': array(0.23577583), 'directly': array(0.22567288), 'corporations': array(0.35850975), 'deal': array(0.19719428), 'act': array(0.17925488), 'need': array(0.15861273), 'peculiarly': array(0.22567288), 'field': array(0.17698838), 'commerce': array(0.35397677), 'interstate': array(0.36856071), 'case': array(0.17925488), 'come': array(0.17285203), 'labor': array(0.16131548), 'greater': array(0.20133063), 'far': array(0.16580479), 'government': array(0.2503137), 'great': array(0.27829239)}, {'punishment': array(0.65787342), 'police': array(0.56528862), 'important': array(0.49764579)}, {'groups': array(0.33234618), 'synagogues': array(0.34430201), 'churches': array(0.34430201), 'challenge': array(0.22093157), 'workplace': array(0.35971576), 'americans': array(0.23634532), 'homes': array(0.33234618), 'civic': array(0.33234618), 'schools': array(0.28115074), 'work': array(0.18514988), 'meet': array(0.29010134)}, {'philippines': array(0.51887202), 'army': array(0.45913453), 'maximum': array(0.53458504), 'kept': array(0.48392783)}, {'medicaid': array(0.42044986), 'medicare': array(0.40809161), 'abandon': array(0.43557514), 'obligations': array(0.40809161), 'fundamental': array(0.38859174), 'need': array(0.30614117), 'people': array(0.23599308)}, {'horror': array(0.37653925), 'sympathy': array(0.36040462), 'suffered': array(0.37653925), 'scale': array(0.34788963), 'make': array(0.22342575), 'endeavor': array(0.32152951), 'duty': array(0.2901435), 'peculiar': array(0.33766414), 'vast': array(0.33766414)}, {'challenge': array(0.34093295), 'harder': array(0.5128636), 'america': array(0.3473789), 'families': array(0.39420913), 'stay': array(0.5128636), 'work': array(0.28571603)}, {'fear': array(0.27647841), 'pays': array(0.27647841), 'keeps': array(0.27647841), 'obligations': array(0.2479339), 'political': array(0.24158581), 'efficiency': array(0.2479339), 'shows': array(0.25544209), 'social': array(0.24158581), 'reasonable': array(0.25544209), 'decency': array(0.26463137), 'matters': array(0.21609314), 'act': array(0.2102001), 'need': array(0.18599445), 'united': array(0.18030527), 'order': array(0.23123643), 'interference': array(0.25544209), 'states': array(0.15900412), 'nation': array(0.16879168)}, {'reliance': array(0.76984517), 'self': array(0.63823069)}, {'teenagers': array(0.39958796), 'students': array(0.3824657), 'school': array(0.34121096), 'schools': array(0.31231451), 'stop': array(0.33420075), 'able': array(0.3279299), 'means': array(0.29294602), 'require': array(0.33420075), 'public': array(0.25169128)}, {'best': array(0.76528792), 'world': array(0.64368813)}, {'use': array(0.76011092), 'important': array(0.64979335)}, {'lobbyists': array(0.87110962), 'congress': array(0.49108862)}, {'consideration': array(0.54017604), 'commend': array(0.60548701), 'favorable': array(0.58446157)}, {'corruption': array(0.65799109), 'oppose': array(0.75302571)}, {'step': array(0.76186825), 'make': array(0.48929595), 'work': array(0.42443639)}, {'expenses': array(0.25068936), 'ordinary': array(0.23161524), 'unnecessary': array(0.25068936), 'guard': array(0.22480739), 'care': array(0.19059329), 'constant': array(0.25068936), 'extravagance': array(0.25068936), 'invite': array(0.25068936), 'large': array(0.18591972), 'revenues': array(0.25068936), 'abundant': array(0.25068936), 'money': array(0.21905144), 'improved': array(0.23994737), 'buildings': array(0.25068936), 'public': array(0.15790347), 'ships': array(0.21905144), 'battle': array(0.22480739), 'increase': array(0.18591972), 'government': array(0.1330734), 'taken': array(0.20217441)}, {'urge': array(0.68712691), 'senate': array(0.72653741)}, {'navy': array(0.40847906), 'halt': array(0.51477259), 'earnestly': array(0.44980639), 'american': array(0.30544878), 'recommend': array(0.44980639), 'work': array(0.26495943)}, {'waste': array(0.42963522), 'toxic': array(0.3969457), '12': array(0.42963522), '10': array(0.41122543), 'million': array(0.3409214), 'live': array(0.35258879), 'children': array(0.25220758)}, {'finish': array(0.74620538), 'race': array(0.6657158)}, {'responsibilities': array(0.54816022), 'america': array(0.34303648), 'say': array(0.38548306), 'war': array(0.39745289), 'cold': array(0.52467167)}, {'certainly': array(0.34981794), 'legislature': array(0.32320145), 'filipinos': array(0.30566962), 'foolish': array(0.34981794), 'independence': array(0.30566962), 'misled': array(0.34981794), 'home': array(0.2695533), 'improper': array(0.31370162), 'persons': array(0.30566962), 'action': array(0.2775853)}, {'create': array(0.37998241), 'borrow': array(0.41127496), 'businesses': array(0.33752107), 'jobs': array(0.34397533), 'lower': array(0.35119057), 'easier': array(0.36881362), 'rates': array(0.34397533), 'new': array(0.2766757)}, {'nuclear': array(0.35072608), 'program': array(0.34041722), 'weapons': array(0.3317012), 'north': array(0.72668622), 'dangerous': array(0.35072608)}, {'thank': array(0.21251819), 'bosnia': array(0.23821308), 'saying': array(0.23821308), 'tonight': array(0.20071314), 'begin': array(0.24887743), 'members': array(0.24887743), 'peace': array(0.17179273), 'fellow': array(0.20424628), 'americans': array(0.16352082), 'let': array(0.19452046), 'speaker': array(0.24887743), 'root': array(0.23821308), 'helping': array(0.20815198), 'vice': array(0.23821308), 'families': array(0.17674273), 'world': array(0.17179273), 'president': array(0.21251819), 'uniform': array(0.22994117), 'women': array(0.21746818), 'land': array(0.20424628), 'congress': array(0.13429278), 'men': array(0.15780647), 'especially': array(0.17855138)}, {'bosnia': array(0.62992956), 'peace': array(0.4542879), 'stood': array(0.62992956)}, {'aided': array(0.25646702), 'indian': array(0.40090483), 'constantly': array(0.2369533), 'affairs': array(0.22409993), 'contact': array(0.51293404), 'greatly': array(0.22998855), 'bureau': array(0.19252051), 'certain': array(0.19252051), 'personal': array(0.20351007), 'man': array(0.18213255), 'work': array(0.13200655), 'takes': array(0.22998855), 'authority': array(0.21899899), 'greater': array(0.21899899), 'increase': array(0.19020463)}, {'expenditure': array(0.35189029), 'efficiency': array(0.31556002), 'revenue': array(0.32511613), 'office': array(0.28878586), 'post': array(0.33681187), 'satisfactory': array(0.32511613), 'continue': array(0.30048159), 'department': array(0.26415132), 'increased': array(0.30048159), 'service': array(0.24289947), 'conditions': array(0.24289947)}, {'peace': array(0.68951396), 'war': array(0.72427239)}, {'feels': array(0.21734374), 'advanced': array(0.19490448), 'sufficient': array(0.20080678), 'duties': array(0.18559135), 'international': array(0.53510256), 'purposes': array(0.18177836), 'world': array(0.15002596), 'serve': array(0.18559135), 'respect': array(0.17836752), 'present': array(0.1593391), 'sense': array(0.18177836), 'general': array(0.15758878), 'securing': array(0.19490448), 'force': array(0.1674749), 'work': array(0.11186935), 'good': array(0.12626517), 'duty': array(0.1674749), 'rights': array(0.1593391), 'circumstances': array(0.17528204), 'police': array(0.1674749), 'adequate': array(0.18991416), 'doing': array(0.17836752), 'far': array(0.15284278), 'kept': array(0.18177836), 'nation': array(0.13268962)}, {'begins': array(0.38403902), 'history': array(0.38403902), 'settlement': array(0.38403902), 'really': array(0.37070333), 'held': array(0.40123171), 'roads': array(0.37070333), 'united': array(0.26166308), 'states': array(0.23075037)}, {'consequent': array(0.26483837), 'used': array(0.2534901), 'rooms': array(0.26483837), 'number': array(0.21358522), 'infant': array(0.26483837), 'mortality': array(0.52967674), 'overcrowding': array(0.26483837), 'cities': array(0.21015286), 'city': array(0.20135045), 'different': array(0.22150113), 'given': array(0.19880459), 'cases': array(0.19202556), 'family': array(0.21015286), 'especially': array(0.19000218), 'increase': array(0.19641311)}, {'oklahoma': array(0.38799357), 'basic': array(0.3765893), 'atrocity': array(0.41994585), 'city': array(0.31927506), 'community': array(0.31144607), 'decency': array(0.40195126), 'sense': array(0.35122735), 'people': array(0.21777578)}, {'sink': array(0.13598487), 'violence': array(0.12414256), 'time': array(0.09265262), 'duty': array(0.10947453), 'order': array(0.47529748), 'restoring': array(0.14207265), 'takes': array(0.12740462), 'simply': array(0.12414256), 'question': array(0.11273659), 'connected': array(0.12740462), 'trouble': array(0.14207265), 'things': array(0.11882437), 'condition': array(0.13126282), 'caused': array(0.26252563), 'interfere': array(0.13598487), 'help': array(0.10801453), 'face': array(0.12414256), 'state': array(0.09806855), 'property': array(0.13126282), 'commerce': array(0.1066488), 'interstate': array(0.11104276), 'mails': array(0.14207265), 'courts': array(0.11273659), 'authorities': array(0.13126282), 'federal': array(0.30903658), 'interference': array(0.39378845), 'primary': array(0.13598487), 'regard': array(0.11659478), 'form': array(0.11273659), 'questions': array(0.24828512), 'labor': array(0.0972047), 'government': array(0.07541641)}, {'american': array(0.47018109), 'family': array(0.62877689), 'life': array(0.61932976)}, {'oppression': array(0.31217682), 'jews': array(0.15608841), 'religious': array(0.13997334), 'horror': array(0.15608841), 'orderly': array(0.14940005), 'liberty': array(0.14940005), 'freedom': array(0.13638947), 'shortcomings': array(0.14940005), 'expression': array(0.15608841), 'fundamental': array(0.13328499), 'won': array(0.15608841), 'consistent': array(0.15608841), 'shows': array(0.14421216), 'civil': array(0.14940005), 'individuals': array(0.14421216), 'crime': array(0.23433984), 'victims': array(0.15608841), 'cruelty': array(0.31217682), 'systematic': array(0.15608841), 'classes': array(0.14421216), 'world': array(0.10774321), 'expected': array(0.15608841), 'like': array(0.35601116), 'belief': array(0.14940005), 'worst': array(0.14421216), 'certain': array(0.11716992), 'extended': array(0.13328499), 'rights': array(0.11443157), 'practice': array(0.14421216), 'civilized': array(0.12588122), 'desire': array(0.13328499), 'principles': array(0.13997334), 'people': array(0.16188885), 'long': array(0.1108477), 'nation': array(0.09529288)}, {'resolve': array(0.70213085), 'willing': array(0.61351935), 'work': array(0.36139491)}, {'harder': array(0.27600278), 'sure': array(0.25508963), 'americans': array(0.19627716), 'remaining': array(0.28593171), 'services': array(0.29873233), 'composed': array(0.28593171), 'does': array(0.26789025), 'force': array(0.23018913), 'reason': array(0.24984879), 'make': array(0.17725774), 'decline': array(0.29873233), 'work': array(0.153761), 'good': array(0.17354761), 'federal': array(0.21660095), 'working': array(0.3986941)}, {'college': array(0.38605332), 'lines': array(0.360054), 'activity': array(0.41205264), 'leaders': array(0.41205264), 'trained': array(0.38605332), 'human': array(0.39774418), 'men': array(0.2729681)}, {'lucius': array(0.49739311), 'teacher': array(0.49739311), 'wright': array(0.47607991), 'school': array(0.42472746), 'public': array(0.3132965)}, {'job': array(0.32855087), 'agree': array(0.32855087), 'initiative': array(0.34503784), 'helped': array(0.36827492), 'raising': array(0.35548663), 'children': array(0.22586571), 'work': array(0.19804141), 'good': array(0.22352621), 'hard': array(0.3053138), 'country': array(0.25280147), 'people': array(0.19953006), 'working': array(0.25675543)}, {'ought': array(0.69648234), 'mean': array(0.71757393)}, {'tuition': array(0.28885083), 'programs': array(0.27647363), 'challenge': array(0.17740749), 'job': array(0.24665175), 'simple': array(0.28885083), '70': array(0.27647363), 'worth': array(0.25239679), 'training': array(0.53374625), 'college': array(0.25902895), 'use': array(0.22920707), 'community': array(0.21422156), 'congress': array(0.15586219), 'workers': array(0.22257491)}, {'producing': array(0.57792026), 'preliminary': array(0.57792026), 'careful': array(0.49349017), 'work': array(0.29746227)}, {'enemies': array(0.44104794), 'friends': array(0.44104794), 'insect': array(0.42214913), 'farmer': array(0.42214913), 'getting': array(0.39551275), 'attention': array(0.31321449)}, {'perfect': array(0.28847792), 'responsibilities': array(0.28847792), 'tonight': array(0.23264989), 'forth': array(0.28847792), 'community': array(0.213945), 'report': array(0.22891116), 'american': array(0.17117311), 'union': array(0.47349043), 'set': array(0.24633332), 'duty': array(0.22228756), 'state': array(0.39825556), 'form': array(0.22891116), 'government': array(0.15313269)}, {'annually': array(0.36854743), 'dollars': array(0.34529316), 'millions': array(0.35574969), 'research': array(0.36854743), 'education': array(0.31053001), 'washington': array(0.28556361), 'territories': array(0.36854743), 'federal': array(0.27918459), 'states': array(0.22144223), 'government': array(0.20439423)}, {'particular': array(0.29270065), 'possess': array(0.30156451), 'stands': array(0.312413), 'finally': array(0.30156451), 'court': array(0.26323236), 'supreme': array(0.32639913), 'rate': array(0.25900216), 'unreasonable': array(0.28520636), 'commission': array(0.26323236), 'law': array(0.20046905), 'simply': array(0.28520636), 'question': array(0.25900216), 'power': array(0.22953387)}, {'worker': array(0.29286543), 'wage': array(0.23618831), 'secure': array(0.22265878), 'better': array(0.21010955), 'organization': array(0.28031621), 'necessary': array(0.4578022), 'believe': array(0.2289011), 'order': array(0.24494193), 'rights': array(0.21470557), 'industrial': array(0.23618831), 'labor': array(0.20037562), 'modern': array(0.24494193), 'wise': array(0.25590473), 'conditions': array(0.20215635), 'individual': array(0.23618831)}, {'balance': array(0.51300605), 'job': array(0.43805947), 'finish': array(0.49102385), 'budget': array(0.43805947), 'time': array(0.33455667)}, {'classroom': array(0.41468462), 'america': array(0.27112566), 'teachers': array(0.3785716), 'schools': array(0.33862389), 'information': array(0.36235383), 'trained': array(0.38851922), 'good': array(0.2516948), 'connected': array(0.38851922)}, {'basic': array(0.31469564), 'jobs': array(0.293502), 'construction': array(0.31469564), 'million': array(0.55692976), 'nearly': array(0.28799481), 'created': array(0.28799481), 'like': array(0.26680118), 'industries': array(0.33588927), 'new': array(0.23607761)}, {'lower': array(0.16706067), 'standards': array(0.18725945), 'admit': array(0.3912854), 'grandchildren': array(0.18725945), 'citizen': array(0.17544392), 'say': array(0.13758194), 'standard': array(0.1807569), 'habits': array(0.18725945), 'living': array(0.16706067), 'instead': array(0.16706067), 'concerning': array(0.18725945), 'type': array(0.17544392), 'bad': array(0.1807569), 'tend': array(0.1807569), 'children': array(0.11484759), 'personal': array(0.15524515), 'man': array(0.27787513), 'american': array(0.11608781), 'men': array(0.12405176), 'workers': array(0.15075309), 'good': array(0.11365801), 'worker': array(0.1956427), 'wage': array(0.31556143), 'vital': array(0.17544392), 'masses': array(0.18725945), 'country': array(0.12854382), 'citizenship': array(0.15524515), 'high': array(0.14509525)}, {'enabling': array(0.36500251), 'navy': array(0.28963446), 'highest': array(0.34936222), 'efficiency': array(0.32731848), 'brought': array(0.28125382), 'provided': array(0.29436497), 'point': array(0.31893784), 'ample': array(0.36500251), 'means': array(0.26759072), 'course': array(0.28528281)}, {'ranks': array(0.23951231), 'upper': array(0.23951231), 'higher': array(0.22128861), 'enlisted': array(0.22128861), 'attractive': array(0.23951231), 'promotions': array(0.23951231), 'standard': array(0.44257722), 'selection': array(0.23951231), 'possible': array(0.17559132), 'regards': array(0.22128861), 'best': array(0.1965606), 'officers': array(0.18455695), 'service': array(0.16532826), 'men': array(0.1518683), 'time': array(0.15619784), 'kept': array(0.40063866), 'high': array(0.17763044)}, {'nuclear': array(0.42797483), 'russian': array(0.4433708), 'america': array(0.28988102), 'single': array(0.46321967), 'age': array(0.39554653), 'children': array(0.27192257), 'time': array(0.30208851)}, {'peace': array(0.27786836), 'run': array(0.38530081), 'war': array(0.29187572), 'kinds': array(0.38530081), 'highly': array(0.40254999), 'undesirable': array(0.38530081), 'destructive': array(0.38530081), 'long': array(0.28587479)}, {'workers': array(1.)}, {'able': array(0.25706397), 'inquiry': array(0.31323666), 'open': array(0.26747498), 'gain': array(0.29981453), 'confidence': array(0.28940352), 'policy': array(0.23814655), 'bureau': array(0.23513543), 'engaged': array(0.28940352), 'legitimate': array(0.28940352), 'men': array(0.19861492), 'better': array(0.22472442), 'business': array(0.47027086)}, {'conference': array(0.51169802), 'hague': array(0.53460577), 'desire': array(0.45650362), 'expressed': array(0.49392939)}, {'opinion': array(0.37204441), 'shape': array(0.37204441), 'driven': array(0.38542835), 'measure': array(0.33678953), 'charge': array(0.37204441), 'interests': array(0.31028883), 'loss': array(0.40268324), 'public': array(0.25364093)}, {'leave': array(0.45293483), 'challenge': array(0.29063904), 'environment': array(0.40407893), 'clean': array(0.45293483), 'generation': array(0.41349078), 'safe': array(0.41349078)}, {'available': array(0.58792277), 'health': array(0.45951538), 'american': array(0.34885364), 'make': array(0.34885364), 'care': array(0.44698401)}, {'slothful': array(0.50471361), 'exercise': array(0.44101689), 'hands': array(0.46631163), 'does': array(0.45260537), 'long': array(0.35842728)}, {'veteran': array(0.31518647), 'vietnam': array(0.31518647), 'futures': array(0.31518647), 'gangs': array(0.28264562), 'groups': array(0.29120498), 'turn': array(0.29120498), 'build': array(0.3016808), 'away': array(0.29120498), 'city': array(0.23962895), 'created': array(0.25866413), 'children': array(0.18502305), 'believe': array(0.24634703), 'help': array(0.23962895)}, {'going': array(0.68775675), 'america': array(0.47994665), 'right': array(0.54464838)}, {'proud': array(0.50493888), 'ago': array(0.50493888), 'just': array(0.41037854), 'years': array(0.37147504), 'high': array(0.42856645)}, {'remain': array(0.62331055), 'challenges': array(0.51674796), 'make': array(0.38640911), 'important': array(0.44175051)}, {'americans': array(0.26777645), '25': array(0.34801295), 'living': array(0.34801295), 'dollars': array(0.36547654), 'millions': array(0.37654428), 'trying': array(0.36547654), 'live': array(0.33446714), 'children': array(0.23924512), 'wage': array(0.32868138)}, {'ship': array(0.2383399), 'americans': array(0.16360787), 'proud': array(0.21758395), 'ancestors': array(0.24900992), 'came': array(0.2383399), 'parents': array(0.18931645), 'distinction': array(0.24900992), 'wilderness': array(0.2383399), 'ago': array(0.21758395), 'nearly': array(0.204355), 'water': array(0.204355), 'men': array(0.15789048), 'endeavor': array(0.21263132), 'field': array(0.56076822), 'true': array(0.21263132), 'business': array(0.18692274)}, {'big': array(0.59914283), 'know': array(0.46423709), 'does': array(0.56133866), 'government': array(0.33228108)}, {'subsided': array(0.35607449), 'instances': array(0.34081677), 'minds': array(0.32898197), 'danger': array(0.34081677), 'brought': array(0.27437431), 'generally': array(0.34081677), 'court': array(0.28716476), 'prejudice': array(0.34081677), 'existing': array(0.29780768), 'time': array(0.23221382)}, {'managed': array(0.59770524), 'corporations': array(0.47476497), 'regard': array(0.51247843), 'public': array(0.39333514)}, {'japanese': array(0.26668005), 'natives': array(0.26668005), 'powers': array(0.23791456), 'share': array(0.22865414), 'french': array(0.27861881), 'india': array(0.27861881), 'develop': array(0.27861881), 'points': array(0.26668005), 'shall': array(0.20914906), 'increasing': array(0.22865414), 'endeavoring': array(0.25741963), 'work': array(0.28681668), 'far': array(0.19593329), 'government': array(0.14789919), 'governmental': array(0.27861881), 'representatives': array(0.24985332)}, {'filipinos': array(0.2165145), 'turn': array(0.2289328), 'foolish': array(0.49557202), 'independence': array(0.2165145), 'orderly': array(0.23716843), 'stable': array(0.23716843), 'away': array(0.2289328), 'just': array(0.17596765), 'end': array(0.20335058), 'material': array(0.21158621), 'dangerous': array(0.2289328), 'complete': array(0.23716843), 'attention': array(0.17596765), 'moral': array(0.2165145), 'problems': array(0.19983293), 'government': array(0.13153221), 'people': array(0.12849702), 'working': array(0.16535007), 'prosperity': array(0.19662158)}, {'naturalization': array(0.55891982), 'comprehensive': array(0.65925357), 'laws': array(0.50298446)}, {'reserves': array(0.53672188), 'forest': array(0.49354083), 'directly': array(0.68435888)}, {'truly': array(0.37720583), 'campaign': array(0.36104263), 'reform': array(0.32960106), 'challenge': array(0.23167369), 'bipartisan': array(0.31548115), 'influence': array(0.36104263), 'generation': array(0.32960106), 'special': array(0.27653722), 'congress': array(0.20353802), 'passing': array(0.32960106)}, {'built': array(0.28034781), 'destined': array(0.29289844), 'places': array(0.27061278), 'play': array(0.26265868), 'park': array(0.26265868), 'sections': array(0.29289844), 'grounds': array(0.26265868), 'desirable': array(0.27061278), 'small': array(0.50021607), 'city': array(0.22268387), 'open': array(0.25010804), 'public': array(0.18449001)}, {'establishment': array(0.20378845), 'offices': array(0.20378845), 'remote': array(0.20378845), '000': array(0.34088242), '12': array(0.20378845), 'serving': array(0.20378845), '27': array(0.20378845), 'established': array(0.18828287), 'pending': array(0.18828287), 'brought': array(0.15702983), 'post': array(0.19505616), 'date': array(0.19505616), 'statistics': array(0.20378845), 'districts': array(0.1780696), 'approximately': array(0.20378845), 'rural': array(0.54824605), 'time': array(0.13290055), 'new': array(0.13709396), 'people': array(0.10568074)}, {'passage': array(0.31648869), 'urged': array(0.31648869), 'session': array(0.31648869), 'congress': array(0.17842071), 'seventh': array(0.33065728), 'message': array(0.30549867), 'liability': array(0.31648869), 'employer': array(0.31648869), 'law': array(0.20308433), 'columbia': array(0.28892711), 'district': array(0.26666645), 'second': array(0.26238106)}, {'thing': array(0.30742497), 'rapid': array(0.31848428), 'leadership': array(0.29074892), 'improvement': array(0.29074892), 'hand': array(0.53669578), 'wealth': array(0.29838885), 'moral': array(0.29074892), 'good': array(0.19330555), 'industrial': array(0.26834789), 'development': array(0.25297617)}, {'rise': array(0.24158589), 'higher': array(0.44640884), 'capacity': array(0.24158589), 'firmly': array(0.23123398), 'stand': array(0.21664379), 'relation': array(0.24158589), 'scale': array(0.22320442), 'cuba': array(0.21664379), 'end': array(0.19826232), 'civilization': array(0.20629188), 'stands': array(0.23123398), 'able': array(0.19826232), 'hope': array(0.20629188), 'earnestly': array(0.21109686), 'self': array(0.19170169), 'united': array(0.15755013), 'believe': array(0.18882145), 'help': array(0.18367213), 'states': array(0.13893725), 'government': array(0.128241)}, {'heroes': array(0.51288227), 'role': array(0.49090537), 'say': array(0.36067453), 'children': array(0.30107587), 'need': array(0.34502967), 'police': array(0.39520303)}, {'era': array(0.56754226), 'big': array(0.60576422), 'say': array(0.44506281), 'government': array(0.33595326)}, {'export': array(0.23419045), 'demand': array(0.24467471), 'supply': array(0.21941371), 'orient': array(0.22605822), 'coast': array(0.23419045), 'gulf': array(0.23419045), 'growers': array(0.22605822), 'helping': array(0.20463697), 'countries': array(0.19415271), 'caribbean': array(0.23419045), 'seven': array(0.23419045), 'ago': array(0.21379586), 'growing': array(0.22605822), 'islands': array(0.18145905), 'years': array(0.15728602), 'home': array(0.18853486), 'giving': array(0.22605822), 'sea': array(0.21379586), 'protection': array(0.20079723), 'secure': array(0.18602049), 'adequate': array(0.21379586), 'conditions': array(0.16889172)}, {'accuracy': array(0.54610119), 'caribbean': array(0.52270087), 'increasing': array(0.44816894), 'sea': array(0.4771812)}, {'free': array(0.43419782), 'enemy': array(0.52907716), 'dangerous': array(0.48882143), 'corruption': array(0.46230567), 'government': array(0.28084995)}, {'real': array(0.19199158), 'fundamental': array(0.19199158), 'judges': array(0.19646347), 'alaska': array(0.3626535), 'free': array(0.18451863), 'office': array(0.36903726), 'instead': array(0.19199158), 'leaving': array(0.22483898), 'duties': array(0.19199158), 'judicial': array(0.40325177), 'making': array(0.17573221), 'deal': array(0.18804709), 'attention': array(0.15967159), 'merely': array(0.18451863), 'entire': array(0.20162588), 'time': array(0.14662864), 'simply': array(0.19646347), 'government': array(0.11935124), 'principles': array(0.20162588), 'great': array(0.13269167)}, {'budget': array(0.67873659), 'agreement': array(0.73438181)}, {'challenge': array(0.27727277), 'fight': array(0.40484016), 'america': array(0.28251511), 'freedom': array(0.39447466), 'peace': array(0.31162204), 'maintain': array(0.41709994), 'leadership': array(0.39447466), 'world': array(0.31162204)}, {'bosnia': array(1.)}, {'let': array(0.40653122), 'pension': array(0.45449001), 'funds': array(0.45449001), 'congress': array(0.2806605), 'companies': array(0.42685735), 'workers': array(0.40078986)}, {'amounts': array(0.37154702), 'countries': array(0.30802649), 'paid': array(0.69620697), 'time': array(0.25315173), 'question': array(0.30802649), 'large': array(0.28788779), 'people': array(0.20130287)}, {'systematic': array(0.4163166), 'suggest': array(0.4163166), 'housing': array(0.38464046), 'washington': array(0.3087545), 'improvement': array(0.36377591), 'investigation': array(0.3416586), 'need': array(0.28006735), 'conditions': array(0.28737104)}, {'appeal': array(0.45169787), 'strong': array(0.38059075), 'involved': array(0.47191953), 'greatly': array(0.42319705), 'interests': array(0.36363907), 'cases': array(0.34217328)}, {'possibility': array(0.61367208), 'americans': array(0.40320315), 'say': array(0.43155301), 'age': array(0.52401889)}, {'advanced': array(0.33182422), 'preparation': array(0.37002698), 'past': array(0.3036701), 'season': array(0.37002698), 'investigations': array(0.37002698), 'report': array(0.29362145), 'stage': array(0.3541714), 'commission': array(0.29841708), 'second': array(0.29362145)}, {'threats': array(0.44099942), 'borders': array(0.42568579), 'americans': array(0.30272303), 'today': array(0.38534786), 'respect': array(0.3781173), 'face': array(0.40259477), 'nation': array(0.28128575)}, {'receipts': array(0.44343625), 'facilities': array(0.44343625), 'general': array(0.321521), 'rural': array(0.39765448), 'increased': array(0.37865333), 'service': array(0.30609094), 'increase': array(0.32886735)}, {'illegal': array(0.51794282), 'areas': array(0.49995734), 'immigration': array(0.51794282), 'problem': array(0.46207482)}, {}, {'injustice': array(0.34987327), 'chosen': array(0.36245962), 'boundaries': array(0.37868625), 'settlers': array(0.34987327), 'consequent': array(0.37868625), 'method': array(0.33958948), 'resulted': array(0.36245962), 'action': array(0.3004927)}, {'raise': array(0.51106769), 'decision': array(0.56990668), 'children': array(0.33455075), 'make': array(0.33816349), 'help': array(0.43328679)}, {'concern': array(0.38650536), 'grave': array(0.38650536), 'railroads': array(0.35284635), 'list': array(0.38650536), 'increasing': array(0.33139356), 'congress': array(0.21789265), 'matter': array(0.32042753), 'action': array(0.32042753), 'public': array(0.25434969)}, {'effectively': array(0.26715666), 'solely': array(0.25570905), 'exist': array(0.24682959), 'permitted': array(0.26715666), 'desires': array(0.25570905), 'accrue': array(0.26715666), 'advantage': array(0.24682959), 'prepared': array(0.23957455), 'want': array(0.21545485), 'ask': array(0.21924749), 'confidence': array(0.24682959), 'serve': array(0.22812694), 'make': array(0.15852179), 'given': array(0.20054484), 'power': array(0.18787275), 'money': array(0.2334405), 'public': array(0.33655169)}, {'salaries': array(0.42228182), 'employees': array(0.35723246), 'grave': array(0.43747299), 'purpose': array(0.39028489), 'government': array(0.48523989), 'high': array(0.33896957)}, {'periods': array(0.17610172), 'definitely': array(0.35220344), 'wording': array(0.17610172), 'issued': array(0.17610172), 'certificates': array(0.1685558), 'naturalization': array(0.26777208), 'secretary': array(0.17610172), 'stated': array(0.1685558), 'returns': array(0.17610172), 'advance': array(0.16270272), 'hearing': array(0.17610172), 'court': array(0.14202143), 'conferred': array(0.35220344), 'named': array(0.17610172), 'uniform': array(0.16270272), 'publication': array(0.16270272), 'having': array(0.14728504), 'make': array(0.10449285), 'state': array(0.12155781), 'courts': array(0.27947823), 'power': array(0.12384013), 'authority': array(0.15037449), 'form': array(0.13973911), 'country': array(0.11570474), 'required': array(0.30775407), 'national': array(0.12506035)}, {'ignore': array(0.29159617), 'operated': array(0.29159617), 'terms': array(0.29159617), 'easy': array(0.27910134), 'creating': array(0.26940959), 'policy': array(0.22169379), 'left': array(0.26940959), 'corporations': array(0.22169379), 'matters': array(0.22790906), 'state': array(0.40256043), 'laws': array(0.1995072), 'difficult': array(0.23930427), 'states': array(0.33539684)}, {'don': array(0.53384956), 'fellow': array(0.43811439), 'americans': array(0.35075707), 'know': array(0.39592092), 'probably': array(0.49323072)}, {'possible': array(0.38769835), 'countries': array(0.41963638), 'nearly': array(0.43399765), 'know': array(0.39220065), 'european': array(0.50617284), 'people': array(0.27424267)}, {'mankind': array(0.32349424), 'cordial': array(0.33513163), 'rest': array(0.3139858), 'bring': array(0.30594653), 'friendly': array(0.33513163), 'tend': array(0.32349424), 'endeavoring': array(0.32349424), 'good': array(0.20340974), 'help': array(0.26619937), 'way': array(0.24168772), 'relations': array(0.3139858)}, {'sets': array(0.6034909), 'minimum': array(0.54118457), 'congress': array(0.3256401), 'wage': array(0.48669962)}, {'governor': array(0.30042134), 'indian': array(0.27497927), 'include': array(0.33674433), 'office': array(0.28872795), 'duties': array(0.30042134), 'districts': array(0.30741878), 'supervision': array(0.32505094), 'affairs': array(0.30741878), 'different': array(0.29424915), 'extended': array(0.30042134), 'necessary': array(0.27497927)}, {'quarantine': array(0.48625563), 'enact': array(0.46541968), 'desirable': array(0.44925806), 'proper': array(0.36968885), 'law': array(0.29865031), 'national': array(0.34531917)}, {'community': array(0.11614283), 'broad': array(0.14468852), 'respect': array(0.12852023), 'feeling': array(0.46981201), 'growth': array(0.14468852), 'alike': array(0.14468852), 'merely': array(0.12852023), 'body': array(0.12852023), 'man': array(0.11121386), 'responsibility': array(0.13097786), 'make': array(0.09292356), 'capitalists': array(0.44968066), 'fellows': array(0.14989355), 'workers': array(0.36201511), 'wage': array(0.37889109), 'rights': array(0.11480956), 'legislation': array(0.11235193), 'relations': array(0.28087141), 'important': array(0.10623204)}, {'assure': array(0.32061159), 'changed': array(0.32061159), 'indians': array(0.28014923), 'practical': array(0.28751063), 'training': array(0.29621732), 'educational': array(0.29621732), 'live': array(0.26311636), 'industries': array(0.30687345), 'self': array(0.25440967), 'support': array(0.23777642), 'form': array(0.25440967), 'development': array(0.24375354), 'conditions': array(0.2213087)}, {'possibility': array(0.64514026), 'age': array(0.55088979), 'live': array(0.52944734)}, {'taxes': array(0.30356157), 'medicaid': array(0.29302044), 'medicare': array(0.28440772), 'cuts': array(0.31715144), 'environment': array(0.27081784), 'obligations': array(0.28440772), 'fundamental': array(0.27081784), 'parents': array(0.24112287), 'raising': array(0.29302044), 'education': array(0.25577434), 'future': array(0.27081784), 'families': array(0.22522818), 'children': array(0.18617654), 'working': array(0.21163831)}, {'america': array(0.69237775), 'time': array(0.7215352)}, {'polluters': array(0.37219911), 'lobbyists': array(0.37219911), 'bills': array(0.38886176), 'protect': array(0.32522975), 'health': array(0.303931), 'allowed': array(0.35927456), 'children': array(0.22827245), 'safety': array(0.34871443), 'laws': array(0.26605535)}, {'mccaffrey': array(0.32592337), 'drug': array(0.30535855), 'tonight': array(0.2746159), 'military': array(0.32592337), 'america': array(0.21309251), 'war': array(0.24689571), 'gulf': array(0.32592337), 'southern': array(0.32592337), 'chief': array(0.31460574), 'general': array(0.24689571), 'united': array(0.22206628), 'new': array(0.22907313), 'states': array(0.1958315)}, {'mccaffrey': array(0.49379871), 'thank': array(0.44053502), 'serve': array(0.44053502), 'general': array(0.37406579), 'time': array(0.33644731), 'country': array(0.33896699)}, {'higher': array(0.475911), 'fellow': array(0.42273007), 'americans': array(0.33844029), 'education': array(0.4154175), 'today': array(0.43081373), 'important': array(0.34941954)}, {'principal': array(0.54129447), 'reserves': array(0.40633018), 'forest': array(0.37363957), 'purposes': array(0.4527189), 'created': array(0.44422421)}, {'combined': array(0.56679803), '27': array(0.56679803), 'years': array(0.36435889), 'rates': array(0.47404914)}, {'groups': array(0.4457178), 'synagogues': array(0.46175206), 'churches': array(0.46175206), 'schools': array(0.37705831), 'youth': array(0.48242382)}, {'sign': array(0.73449718), 'immediately': array(0.67861173)}, {'college': array(0.5755159), 'open': array(0.54801599), 'work': array(0.33032893), 'hard': array(0.50925703)}, {'futures': array(0.51414782), 'adults': array(0.49211669), 'communities': array(0.41464676), 'challenge': array(0.31578124), 'say': array(0.3615645), 'children': array(0.30181878)}, {'international': array(0.42368884), 'judicial': array(0.46297024), 'enforcing': array(0.49414965), 'right': array(0.36663543), 'law': array(0.31708575), 'way': array(0.35636715)}, {'commissioners': array(0.43239623), 'years': array(0.29040416), 'number': array(0.36432761), 'endeavor': array(0.38575573), 'citizens': array(0.3176871), 'secure': array(0.34345789), 'district': array(0.36432761), 'laws': array(0.30908545)}, {'forest': array(0.30452618), 'west': array(0.36897793), 'just': array(0.31330073), 'subject': array(0.35579156), 'policy': array(0.33541082), 'general': array(0.31987736), 'united': array(0.28770842), 'states': array(0.25371872), 'public': array(0.27788246), 'government': array(0.23418588), 'people': array(0.22878189)}, {'adults': array(0.37781706), 'saying': array(0.37781706), 'market': array(0.37781706), 'line': array(0.37781706), 'draw': array(0.37781706), 'products': array(0.33706375), 'children': array(0.23171798), 'simply': array(0.34491468)}, {'environment': array(1.)}, {'needs': array(1.)}, {'communities': array(0.34735007), 'challenge': array(0.26453031), 'environment': array(0.36777965), 'businesses': array(0.35346445), 'protecting': array(0.43070222), 'initiative': array(0.38623515), 'easier': array(0.38623515), 'make': array(0.25556424)}, {'forever': array(0.46122183), 'weapons': array(0.40301393), 'japanese': array(0.44145857), 'year': array(0.31556339), 'remember': array(0.38574907), 'senate': array(0.426129)}, {'independent': array(0.3929633), 'repeatedly': array(0.36306402), 'called': array(0.34336988), 'forest': array(0.27125095), 'exists': array(0.3761249), 'attention': array(0.27906671), 'matters': array(0.30713673), 'work': array(0.20226277), 'organizations': array(0.35239251), 'government': array(0.20859665)}, {'decency': array(0.28463163), 'justice': array(0.23597036), 'acts': array(0.28463163), 'alike': array(0.27474784), 'friendly': array(0.28463163), 'contrary': array(0.29737405), 'poor': array(0.25392978), 'rich': array(0.29737405), 'provided': array(0.23982439), 'man': array(0.42236614), 'fellows': array(0.28463163), 'spirit': array(0.25984434)}, {'protection': array(0.37192702), 'entitled': array(0.41871675), 'peculiarly': array(0.43377968), 'workers': array(0.34921403), 'encouragement': array(0.40640944), 'wage': array(0.36549327), 'law': array(0.27834757)}, {'light': array(0.62420361), 'houses': array(0.59745661), 'provided': array(0.50340387)}, {'essential': array(0.52703187), 'west': array(0.4770904), 'interests': array(0.43954995), 'welfare': array(0.43368795), 'great': array(0.3366493)}, {'congress': array(0.26417904), 'columbia': array(0.42780062), 'district': array(0.39484031), 'state': array(0.33794846), 'power': array(0.34429363), 'various': array(0.39484031), 'legislation': array(0.35124398), 'states': array(0.28156479)}, {'elections': array(0.41974878), 'directed': array(0.43854013), 'recommend': array(0.38319475), 'corruption': array(0.38319475), 'enactment': array(0.40517307), 'law': array(0.26934423), 'federal': array(0.31797098)}, {'mind': array(0.33007863), 'points': array(0.34195289), 'municipalities': array(0.35726147), 'washington': array(0.26495721), 'city': array(0.27161758), 'plan': array(0.35726147), 'american': array(0.21198696), 'make': array(0.21198696), 'example': array(0.32037666), 'set': array(0.30506807), 'kept': array(0.29880042)}, {'animal': array(0.4888348), 'concerning': array(0.46788833), 'facts': array(0.45164098), 'relations': array(0.43836594), 'life': array(0.38206907)}, {'range': array(0.39665086), 'possible': array(0.29079277), 'reclamation': array(0.34659206), 'complete': array(0.37965445), 'broad': array(0.36647101), 'act': array(0.30156442), 'provisions': array(0.36647101), 'effective': array(0.36647101)}, {'doctrine': array(0.1996479), 'monroe': array(0.20683004), 'america': array(0.1352279), 'society': array(0.20683004), 'hemisphere': array(0.20683004), 'exercise': array(0.18881814), 'flagrant': array(0.21608942), 'western': array(0.1996479), 'ultimately': array(0.1996479), 'international': array(0.17733814), 'general': array(0.15667931), 'force': array(0.16650838), 'results': array(0.1714699), 'united': array(0.28184525), 'wrongdoing': array(0.38755933), 'require': array(0.18072929), 'power': array(0.1519607), 'police': array(0.16650838), 'cases': array(0.15667931), 'states': array(0.24854822), 'civilized': array(0.34854093), 'nation': array(0.13192385)}, {'role': array(0.87451398), 'government': array(0.4850003)}, {'efforts': array(0.46858626), 'feel': array(0.52955351), 'personal': array(0.46858626), 'takes': array(0.52955351)}, {'communities': array(0.55819432), 'safe': array(0.60479103), 'water': array(0.56802017)}, {'fail': array(0.70726283), 'work': array(0.38033361), 'meet': array(0.59592419)}, {'fear': array(0.47403133), 'free': array(0.38902335), 'streets': array(0.41420682), 'safe': array(0.41420682), 'way': array(0.32720981), 'people': array(0.24582346), 'long': array(0.33663796)}, {'communities': array(0.45369583), '000': array(0.47051074), 'funds': array(0.49156926), 'police': array(0.43348802), 'new': array(0.37845414)}, {'wright': array(0.39877047), 'philippine': array(0.36404335), 'higher': array(0.38492323), 'governor': array(0.35575702), 'islands': array(0.30898148), 'body': array(0.34190978), 'service': array(0.28758231), 'men': array(0.2641692), 'public': array(0.26242105)}, {'preceding': array(0.31291519), 'free': array(0.25680015), 'extension': array(0.31291519), 'continuation': array(0.31291519), '152': array(0.31291519), 'year': array(0.21409347), 'rural': array(0.28060883), 'appropriation': array(0.28910652), 'service': array(0.21599611), 'purpose': array(0.26720048), 'total': array(0.28060883), 'expenditures': array(0.28910652), 'increase': array(0.23206851)}, {'naval': array(0.3840306), 'abandon': array(0.36757497), 'mere': array(0.36757497), 'attitude': array(0.35481099), 'similar': array(0.36757497), 'afford': array(0.33556452), 'matters': array(0.30015501), 'unless': array(0.34438206)}, {'difference': array(0.51983344), 'makes': array(0.60877055), 'come': array(0.446302), 'country': array(0.39998267)}, {'chicago': array(0.33948279), 'york': array(0.32493602), 'dwell': array(0.33948279), 'death': array(0.3044335), 'washington': array(0.25177194), 'merely': array(0.27860338), 'case': array(0.25810087), 'total': array(0.3044335), 'new': array(0.22837918), 'buildings': array(0.33948279), 'great': array(0.20035022), 'high': array(0.25177194)}, {'independence': array(0.47186413), 'building': array(0.45164976), 'civilization': array(0.46112359), 'present': array(0.39589677), 'existing': array(0.45164976)}, {'stake': array(0.31735438), 'considered': array(0.31735438), 'decide': array(0.31735438), 'contrary': array(0.31735438), 'man': array(0.45074461), 'business': array(0.23822646), 'permanent': array(0.54198227), 'country': array(0.20851248)}, {'lifetime': array(0.58157454), 'training': array(0.53732446), 'education': array(0.46902465), 'need': array(0.3912408)}, {'families': array(1.)}, {'east': array(0.27709261), 'doctrine': array(0.26747061), 'monroe': array(0.27709261), 'humanity': array(0.27709261), 'war': array(0.2099051), 'china': array(0.26747061), 'cuba': array(0.25960887), 'taking': array(0.25296186), 'open': array(0.24720396), 'steps': array(0.26747061), 'endeavoring': array(0.26747061), 'secure': array(0.22009823), 'regard': array(0.23758197), 'large': array(0.21470117), 'far': array(0.20358353), 'taken': array(0.23347217)}, {'parks': array(0.25539044), 'center': array(0.26682379), 'area': array(0.26682379), 'limited': array(0.26682379), 'allowed': array(0.24652205), 'towns': array(0.24652205), 'european': array(0.25539044), 'cities': array(0.21172831), 'population': array(0.24652205), 'continually': array(0.24652205), 'broad': array(0.24652205), 'having': array(0.22316165), 'shall': array(0.20029497), 'certain': array(0.20029497), 'provided': array(0.2151864), 'given': array(0.20029497), 'law': array(0.16387884), 'increase': array(0.19788556), 'great': array(0.15746956)}, {'position': array(0.43282521), 'navy': array(0.3434527), 'patriotic': array(0.43282521), 'needs': array(0.3490622), 'duty': array(0.33351482), 'adequate': array(0.37820107), 'country': array(0.28438068), 'people': array(0.22445477)}, {'safety': array(0.26441011), 'provision': array(0.27241725), 'ample': array(0.29485152), 'make': array(0.17495499), 'companies': array(0.24197584), 'unless': array(0.26441011), 'legitimate': array(0.27241725), 'railroad': array(0.50355156), 'men': array(0.1869574), 'work': array(0.1517635), 'law': array(0.18109301), 'nature': array(0.25764017), 'doing': array(0.24197584), 'required': array(0.25764017)}, {'observance': array(0.29627455), 'strict': array(0.29627455), 'held': array(0.29627455), 'trade': array(0.24314368), 'protected': array(0.28357925), 'act': array(0.22525065), 'engaged': array(0.273732), 'companies': array(0.24314368), 'commerce': array(0.44480518), 'interstate': array(0.46313127)}, {'type': array(0.28832876), 'weak': array(0.32152391), 'cruelty': array(0.32152391), 'criminality': array(0.32152391), 'offenders': array(0.32152391), 'shape': array(0.29706023), 'special': array(0.23571569), 'certain': array(0.24135637), 'punishment': array(0.28832876), 'need': array(0.21629777), 'brutality': array(0.29706023), 'takes': array(0.28832876)}, {'sciences': array(0.35393826), 'research': array(0.33877208), 'thousand': array(0.30223036), 'institution': array(0.35393826), 'educational': array(0.32700827), 'grown': array(0.30926995), 'agriculture': array(0.28085483), 'production': array(0.33877208), 'making': array(0.2766351), 'department': array(0.26568865)}, {'champions': array(0.37140179), 'filipinos': array(0.32452951), 'unfortunately': array(0.37140179), 'reality': array(0.34314306), 'hitherto': array(0.3554873), 'enemies': array(0.37140179), 'home': array(0.28618481), 'worst': array(0.34314306), 'people': array(0.19260177)}, {'pensions': array(0.46745265), 'challenge': array(0.28710183), 'provide': array(0.36535697), 'afford': array(0.4084584), 'want': array(0.37698833), 'employees': array(0.36535697), 'business': array(0.3508998)}, {'provide': array(0.39972746), 'child': array(0.41245303), 'children': array(0.30022198), 'work': array(0.26323776), 'believe': array(0.39972746), 'care': array(0.38882656), 'required': array(0.44688361)}, {'difficulties': array(0.46031578), 'turkey': array(0.44059134), 'treated': array(0.44059134), 'citizens': array(0.32370816), 'seeing': array(0.44059134), 'way': array(0.31774237)}, {'stronger': array(0.89640479), 'america': array(0.29303997), 'families': array(0.33254477)}, {'bad': array(0.27364432), 'offset': array(0.29617965), 'sections': array(0.29617965), 'exceptional': array(0.27364432), 'diseases': array(0.27364432), 'suggest': array(0.29617965), 'death': array(0.26560112), 'washington': array(0.21965686), 'rates': array(0.24771382), 'local': array(0.25290988), 'unduly': array(0.29617965), 'better': array(0.21248726), 'especially': array(0.21248726), 'conditions': array(0.20444405), 'high': array(0.21965686)}, {'war': array(0.32970452), 'veterans': array(0.45472284), 'civil': array(0.43523806), 'possess': array(0.42012449), 'body': array(0.37317745), 'citizens': array(0.31977503), 'nation': array(0.27761094)}, {'therefor': array(0.34902344), 'citizen': array(0.31298914), 'fellow': array(0.28643311), 'parents': array(0.2653544), 'birthplace': array(0.33406785), 'entitled': array(0.3224674), 'way': array(0.48184112), 'regard': array(0.28643311), 'peculiar': array(0.31298914)}, {'northern': array(0.72241504), 'ireland': array(0.6914597)}, {'returns': array(0.31737481), 'rapidly': array(0.31737481), 'offset': array(0.31737481), 'continually': array(0.29322681), 'increasing': array(0.26046002), 'proper': array(0.24129268), 'necessary': array(0.24805741), 'exceedingly': array(0.30377536), 'care': array(0.24129268), 'national': array(0.22538681), 'important': array(0.43058126), 'nation': array(0.19375917)}, {'justifiable': array(0.59071739), 'extreme': array(0.50441772), 'cases': array(0.42830969), 'course': array(0.46169962)}, {'peace': array(0.4542879), 'generally': array(0.62992956), 'cause': array(0.62992956)}, {'urge': array(1.)}, {'corporation': array(0.21645778), 'wrongdoing': array(0.42019091), 'oppose': array(0.46856729), 'servants': array(0.20005645), 'honorable': array(0.23428365), 'citizens': array(0.16475544), 'means': array(0.17175808), 'proper': array(0.17812041), 'achieve': array(0.21645778), 'improper': array(0.42019091), 'union': array(0.19226959), 'good': array(0.13610635), 'especially': array(0.1680814), 'labor': array(0.16029454), 'public': array(0.14756989), 'great': array(0.13826557)}, {'country': array(0.63775932), 'citizenship': array(0.77023571)}, {'gift': array(0.27754968), 'said': array(0.26565673), 'statutes': array(0.27754968), 'section': array(0.27754968), 'established': array(0.25643184), 'art': array(0.55509935), 'institution': array(0.27754968), 'revised': array(0.27754968), 'accept': array(0.25643184), 'received': array(0.25643184), 'national': array(0.1971046)}, {'rare': array(0.250033), 'flagrant': array(0.250033), 'shows': array(0.23100882), 'standard': array(0.23100882), 'indian': array(0.39084728), 'years': array(0.16073053), 'fact': array(0.20911845), 'best': array(0.20519462), 'improvement': array(0.21847791), 'paid': array(0.2242188), 'salaries': array(0.23100882), 'employees': array(0.19542364), 'service': array(0.17259039), 'men': array(0.15853919), 'work': array(0.12869489), 'corruption': array(0.21847791), 'agents': array(0.2242188), 'field': array(0.18769073), 'actual': array(0.23100882), 'large': array(0.18543295), 'great': array(0.14756026)}, {'imposed': array(0.60606357), 'safely': array(0.63319589), 'case': array(0.48140411)}, {'production': array(0.41174784), 'getting': array(0.38576775), 'bureau': array(0.32292132), 'congress': array(0.23212312), 'means': array(0.3153744), 'commerce': array(0.32292132), 'various': array(0.34692973), 'cost': array(0.36733458), 'great': array(0.25387697)}, {'exactly': array(0.26677419), 'filipinos': array(0.46621261), 'ranks': array(0.26677419), 'judges': array(0.2331063), 'lower': array(0.22780035), 'americans': array(0.1752796), 'share': array(0.21893361), 'majority': array(0.25534297), 'islands': array(0.39569756), 'commissioners': array(0.25534297), 'servants': array(0.22780035), 'public': array(0.16803494), 'government': array(0.14161171), 'great': array(0.15744029), 'course': array(0.20850841)}, {'challenge': array(0.4175955), 'efforts': array(0.53952536), 'american': array(0.40344139), 'join': array(0.60972242)}, {'reliance': array(0.2111387), 'energy': array(0.22059098), 'branches': array(0.2111387), 'effort': array(0.18103243), 'bringing': array(0.20380694), 'official': array(0.2111387), 'indian': array(0.17241201), 'closer': array(0.2111387), 'secured': array(0.20380694), 'washington': array(0.16359774), 'efficient': array(0.19275158), 'relationship': array(0.22059098), 'measure': array(0.18449422), 'bureau': array(0.33117933), 'man': array(0.15665483), 'operation': array(0.19781646), 'self': array(0.35008389), 'work': array(0.11354074), 'union': array(0.18103243), 'agents': array(0.19781646), 'field': array(0.16558967), 'help': array(0.16771019), 'factor': array(0.2111387)}, {'70': array(0.40831137), '152': array(0.42659069), 'revenue': array(0.39413282), 'year': array(0.29186911), 'cent': array(0.39413282), 'expenditures': array(0.39413282), 'increase': array(0.31637411)}, {'significant': array(0.76984517), 'challenges': array(0.63823069)}, {'appeal': array(0.51355871), 'line': array(0.51355871), 'pass': array(0.4581636), 'american': array(0.31837061), 'congress': array(0.28951906), 'people': array(0.27824431)}, {'separated': array(0.27320105), 'independence': array(0.47744414), 'america': array(0.17096813), 'freedom': array(0.23872207), 'mere': array(0.26149444), 'say': array(0.19212335), 'ultimately': array(0.25241409), 'maintain': array(0.25241409), 'use': array(0.21678876), 'desires': array(0.26149444), 'making': array(0.21353159), 'realize': array(0.27320105), 'responsibility': array(0.22849537), 'right': array(0.19401638), 'good': array(0.1587153), 'nation': array(0.16679083)}, {'insect': array(0.51540305), 'central': array(0.51540305), 'damage': array(0.51540305), 'american': array(0.31951398), 'great': array(0.31778907)}, {'summer': array(0.26481052), 'visit': array(0.26481052), 'alaska': array(0.21356276), 'official': array(0.25346345), 'past': array(0.21732209), 'needed': array(0.23747064), 'judgment': array(0.24466197), 'obtain': array(0.26481052), 'confidence': array(0.24466197), 'present': array(0.19413795), 'justice': array(0.21013076), 'information': array(0.22147784), 'actually': array(0.26481052), 'department': array(0.19878368), 'purpose': array(0.22612356), 'order': array(0.22147784), 'caused': array(0.24466197), 'legislation': array(0.18998221), 'government': array(0.14056933)}, {'peace': array(0.38539136), 'free': array(0.45819604), 'live': array(0.45819604), 'leadership': array(0.48785741), 'american': array(0.33128798), 'people': array(0.28953361)}, {'tonight': array(0.48859682), 'just': array(0.43024556), 'want': array(0.48859682), 'meet': array(0.48859682), 'people': array(0.31417863)}, {'intelligently': array(0.34257159), 'delay': array(0.34257159), 'accounts': array(0.34257159), 'duties': array(0.29252429), 'certain': array(0.2571561), 'matters': array(0.26775101), 'reports': array(0.30720341), 'work': array(0.17632558), 'vital': array(0.30720341), 'way': array(0.23646704), 'required': array(0.29933779), 'long': array(0.24328055)}, {'balanced': array(0.39407011), 'era': array(0.35338505), 'ways': array(0.36408662), 'enable': array(0.35338505), 'smaller': array(0.34433701), 'lives': array(0.30365195), 'make': array(0.23382797), 'work': array(0.20283246), 'new': array(0.26510154), 'government': array(0.20918418), 'people': array(0.20435712)}, {'weevil': array(0.38966157), 'boll': array(0.40710598), 'bollworm': array(0.40710598), 'root': array(0.38966157), 'crop': array(0.37613064), 'cotton': array(0.38966157), 'country': array(0.26748229)}, {'land': array(0.24591791), 'sacrifice': array(0.28681484), 'self': array(0.23778032), 'cover': array(0.299655), 'extended': array(0.25587751), 'recognition': array(0.28681484), 'jurisdiction': array(0.27685524), 'united': array(0.19541987), 'saving': array(0.28681484), 'employments': array(0.299655), 'commerce': array(0.22494017), 'cases': array(0.21726995), 'states': array(0.17233309), 'life': array(0.23420777), 'private': array(0.24591791), 'nation': array(0.18294112)}, {'relationship': array(0.62457366), 'prevail': array(0.62457366), 'shall': array(0.46884485)}, {'marine': array(0.39437064), 'commend': array(0.39437064), 'appropriate': array(0.39437064), 'immediate': array(0.369487), 'attention': array(0.29260418), 'encouragement': array(0.369487), 'legislation': array(0.29559846), 'especially': array(0.29559846)}, {'problem': array(0.5593016), 'regard': array(0.53753173), 'labor': array(0.44813848), 'important': array(0.44431211)}, {'seek': array(0.33159242), 'belonging': array(0.35889993), 'forming': array(0.33159242), 'employed': array(0.34352114), 'employees': array(0.28051309), 'men': array(0.22756877), 'unions': array(0.35889993), 'employment': array(0.35889993), 'government': array(0.38102959)}, {'resulted': array(0.36448679), 'best': array(0.31251461), 'world': array(0.26285786), 'prejudice': array(0.36448679), 'present': array(0.27917524), 'qualities': array(0.38080417), 'continue': array(0.32517135), 'corporations': array(0.28951655), 'work': array(0.19600433), 'representatives': array(0.34148873)}, {'proposed': array(0.39166376), 'signal': array(0.43675583), 'requiring': array(0.40352453), 'adoption': array(0.43675583), 'passage': array(0.41804093), 'congress': array(0.23567085), 'law': array(0.26824834)}, {'rubble': array(0.40897043), 'dean': array(0.37785323), 'richard': array(0.35735685), 'fellow': array(0.33562982), 'helped': array(0.39144613), 'like': array(0.31093071), 'deal': array(0.34204791), 'citizens': array(0.28760054)}, {'character': array(0.28695785), 'uniform': array(0.32874493), 'approximately': array(0.35581793), 'securing': array(0.31908215), 'tend': array(0.32874493), 'publication': array(0.32874493), 'investigation': array(0.29200915), 'proper': array(0.2705201), 'legislation': array(0.25527337), 'states': array(0.20463267), 'government': array(0.18887878), 'national': array(0.25268756)}, {'interests': array(0.34895827), 'deals': array(0.45286725), 'inspection': array(0.43346198), 'service': array(0.62520174), 'important': array(0.30720168)}, {'unrighteous': array(0.75026244), 'shunned': array(0.37513122), 'peace': array(0.25894199), 'rare': array(0.37513122), 'common': array(0.29767173)}, {'forward': array(0.43246178), 'challenges': array(0.35852713), 'america': array(0.28274858), 'instead': array(0.38581421), 'face': array(0.39480064), 'meet': array(0.36438284), 'working': array(0.30150549), 'nation': array(0.27584013)}, {'reserves': array(0.38725187), 'reserve': array(0.49377391), 'forest': array(0.35609618), 'use': array(0.40935719), 'policy': array(0.39221098), 'administration': array(0.39751235)}, {'ground': array(0.29713769), 'corresponding': array(0.35527341), 'streets': array(0.3104366), 'building': array(0.29713769), 'city': array(0.27010611), 'purposes': array(0.29713769), 'largely': array(0.34005002), 'saving': array(0.34005002), 'expenses': array(0.35527341), 'meet': array(0.28651871)}, {'ban': array(0.34930679), 'gangs': array(0.31324325), 'weapons': array(0.61044597), 'hands': array(0.3227292), 'keeping': array(0.31324325), 'kinds': array(0.33433907), 'violent': array(0.30522299)}, {'challenges': array(0.39860918), 'tonight': array(0.40511954), 'speak': array(0.50233438), 'want': array(0.40511954), 'face': array(0.43893793), 'people': array(0.26050088)}, {'degradation': array(0.28019987), 'social': array(0.24483761), 'pay': array(0.25888039), 'youth': array(0.28019987), 'christian': array(0.28019987), 'terrible': array(0.28019987), 'afford': array(0.24483761), 'financial': array(0.28019987), 'day': array(0.22995167), 'community': array(0.41561144), 'lack': array(0.26819336), 'concern': array(0.26819336), 'civilized': array(0.22597386)}, {'policing': array(0.51378227), 'trust': array(0.51378227), 'community': array(0.3980967), 'citizens': array(0.37748248), 'police': array(0.41362006)}, {'credit': array(0.29748607), 'payments': array(0.32198483), 'lower': array(0.2749451), 'brought': array(0.24810641), 'home': array(0.24810641), 'rates': array(0.53859266), 'car': array(0.32198483), 'citizens': array(0.2264296), 'cost': array(0.2749451), 'ordinary': array(0.29748607)}, {'use': array(0.21103249), 'subject': array(0.21447922), 'judicial': array(0.2384897), 'examinations': array(0.24571189), 'systems': array(0.25455113), 'corporate': array(0.50910227), 'bureau': array(0.19963672), 'carried': array(0.24571189), 'legal': array(0.24571189), 'condition': array(0.24571189), 'various': array(0.42895844), 'states': array(0.1529474), 'business': array(0.19963672)}, {'attend': array(0.12319226), 'costs': array(0.12319226), 'constabulary': array(0.12319226), 'mounted': array(0.12319226), 'fee': array(0.12319226), 'fixed': array(0.12319226), 'prohibited': array(0.12319226), 'governor': array(0.10519473), 'judges': array(0.21528988), 'alaska': array(0.19870266), 'delays': array(0.12319226), 'section': array(0.12319226), 'offices': array(0.12319226), 'salary': array(0.12319226), 'appointed': array(0.11381897), 'outside': array(0.11791349), 'living': array(0.10519473), 'wholly': array(0.11791349), 'instead': array(0.10519473), 'limits': array(0.11381897), 'territory': array(0.21528988), 'corresponding': array(0.12319226), 'appeals': array(0.12319226), 'commissioners': array(0.11791349), 'towns': array(0.11381897), 'court': array(0.09935133), 'difference': array(0.10519473), 'equal': array(0.11791349), 'prosecution': array(0.12319226), 'created': array(0.1011002), 'received': array(0.11381897), 'place': array(0.1011002), 'engaging': array(0.12319226), 'salaries': array(0.11381897), 'increased': array(0.10519473), 'provided': array(0.09935133), 'officers': array(0.09492618), 'united': array(0.16067955), 'recommend': array(0.10764494), 'provision': array(0.11381897), 'make': array(0.07309815), 'protection': array(0.1011002), 'district': array(0.49675665), 'police': array(0.18985235), 'practice': array(0.11381897), 'states': array(0.14169697), 'vast': array(0.11047349), 'private': array(0.1011002), 'cost': array(0.10519473)}, {'sharply': array(0.34979546), 'civilization': array(0.2986928), 'highly': array(0.34979546), 'cities': array(0.27756746), 'washington': array(0.25942017), 'city': array(0.26594135), 'evil': array(0.32318069), 'good': array(0.20321258), 'industrial': array(0.28210089), 'problems': array(0.28210089), 'modern': array(0.29255613), 'far': array(0.24598689)}, {'pension': array(0.50730994), 'plans': array(0.52064038), 'protect': array(0.48557709), 'existing': array(0.48557709)}, {'intolerable': array(0.30510999), 'rule': array(0.29203609), 'mob': array(0.30510999), 'support': array(0.22627991), 'capitalists': array(0.29203609), 'commit': array(0.30510999), 'refuse': array(0.26660398), 'organizations': array(0.27360946), 'right': array(0.21667683), 'workers': array(0.23510345), 'wage': array(0.24606322), 'violence': array(0.26660398), 'circumstances': array(0.24606322), 'form': array(0.24210893)}, {'air': array(0.48600712), 'know': array(0.39012247), 'safe': array(0.45964402), 'water': array(0.431698), 'right': array(0.37356609), 'people': array(0.27278953)}, {'challenges': array(0.61372982), 'america': array(0.48401144), 'meet': array(0.62375367)}, {'present': array(0.47225117), 'laws': array(0.88146403)}, {'faith': array(0.28405589), 'hold': array(0.26613279), 'ought': array(0.26613279), 'share': array(0.24355235), 'war': array(0.21517997), 'imposed': array(0.28405589), 'spain': array(0.29677253), 'particular': array(0.26613279), 'chief': array(0.27419209), 'world': array(0.2048533), 'try': array(0.27419209), 'results': array(0.23549305), 'reason': array(0.24820969), 'work': array(0.30550454), 'good': array(0.17240907)}, {'territory': array(0.39743556), 'beneficial': array(0.45483776), 'comfort': array(0.43534806), 'welfare': array(0.34580257), 'development': array(0.34580257), 'people': array(0.23587005), 'resources': array(0.38838916)}, {'available': array(0.30875655), 'plans': array(0.27687954), 'works': array(0.6175131), 'irrigation': array(0.28526429), 'largest': array(0.30875655), 'begun': array(0.27687954), 'construction': array(0.27687954), 'funds': array(0.26979033), 'important': array(0.20944445)}, {'alaska': array(0.43032583), 'lines': array(0.4462746), 'building': array(0.4462746), 'excellent': array(0.51072514), 'work': array(0.27464463), 'government': array(0.28324515)}, {'values': array(0.46123402), 'preserve': array(0.44942462), 'old': array(0.47520159), 'future': array(0.43919485), 'second': array(0.40813237)}, {'chip': array(0.37151258), 'movies': array(0.3881445), 'challenge': array(0.23839204), 'ways': array(0.35861187), 'parents': array(0.29509723), 'protect': array(0.32462986), 'industry': array(0.3185386), 'children': array(0.22785139), 'make': array(0.23031192), 'work': array(0.19978248), 'help': array(0.29509723)}, {'respecting': array(0.26008548), 'intelligent': array(0.24894087), 'influence': array(0.24894087), 'instruction': array(0.26008548), 'supporting': array(0.24894087), 'just': array(0.18470223), 'civilization': array(0.22208881), 'limited': array(0.26008548), 'supervision': array(0.24029644), 'ask': array(0.21344438), 'self': array(0.41276274), 'citizens': array(0.18290008), 'enforcement': array(0.22726173), 'law': array(0.15974028), 'proved': array(0.22208881), 'come': array(0.19067392), 'period': array(0.24029644)}, {'15': array(0.17631798), '25': array(0.1572994), '40': array(0.1842114), 'portion': array(0.1842114), 'beginning': array(0.17631798), 'volume': array(0.17631798), 'mail': array(0.1842114), 'preceding': array(0.36842279), 'june': array(0.17631798), 'year': array(0.12603561), 'cent': array(0.34039073), 'compared': array(0.1842114), 'immediately': array(0.34039073), 'matter': array(0.14617425), 'period': array(0.51058609), 'increase': array(0.13661741), 'average': array(0.17631798)}, {}, {'similarly': array(0.26127632), 'wholly': array(0.25008069), 'creatures': array(0.26127632), 'yellowstone': array(0.26127632), 'portions': array(0.26127632), 'settlement': array(0.25008069), 'successful': array(0.23430132), 'agricultural': array(0.25008069), 'little': array(0.25008069), 'efforts': array(0.20732632), 'park': array(0.23430132), 'regions': array(0.25008069), 'support': array(0.19377137), 'given': array(0.19613068), 'authorities': array(0.24139667), 'large': array(0.19377137), 'public': array(0.16457196), 'expense': array(0.25008069)}, {'enabling': array(0.34193426), 'assume': array(0.32728245), 'parents': array(0.51992934), 'young': array(0.2987809), 'children': array(0.40144946), 'personal': array(0.2713295), 'responsibility': array(0.28598131), 'control': array(0.31591762)}, {'closer': array(0.42699378), 'brought': array(0.34375105), 'crop': array(0.41216649), 'year': array(0.30522367), 'accuracy': array(0.44610948), 'agriculture': array(0.35399395), 'department': array(0.33487825)}, {'facts': array(0.28173337), 'knowledge': array(0.28173337), 'commissioner': array(0.29186845), 'afford': array(0.26645095), 'necessity': array(0.28173337), 'careful': array(0.26038601), 'corporations': array(0.23183487), 'publication': array(0.28173337), 'special': array(0.22355391), 'certain': array(0.22890356), 'investigation': array(0.25025092), 'improper': array(0.2734524), 'rights': array(0.22355391), 'private': array(0.25025092), 'business': array(0.22890356)}, {'evening': array(0.38255707), 'richard': array(0.33427696), 'applaud': array(0.36616458), 'extraordinary': array(0.38255707), 'want': array(0.30852227), 'personal': array(0.30356425), 'service': array(0.26406784), 'heroism': array(0.38255707), 'public': array(0.24096392)}, {'50': array(0.64915863), 'percent': array(0.54293253), 'increasing': array(0.5327451)}, {'southern': array(0.3967806), 'north': array(0.3967806), 'cold': array(0.3967806), 'localities': array(0.38300246), 'farmers': array(0.3967806), 'come': array(0.30391038), 'times': array(0.36222676)}, {'republicans': array(0.4490519), 'lot': array(0.42981012), 'learned': array(0.4490519), 'democrats': array(0.42981012), 'view': array(0.36214861), 'way': array(0.30996725)}, {'consistent': array(0.22133455), 'retirement': array(0.21185041), 'agreement': array(0.20449394), 'committees': array(0.44266909), 'possible': array(0.16226483), 'houses': array(0.21185041), 'world': array(0.15278069), 'consider': array(0.18899912), 'securing': array(0.19848326), 'attention': array(0.15718288), 'congress': array(0.11943081), 'safety': array(0.19848326), 'given': array(0.16614784), 'secure': array(0.16827551), 'matter': array(0.35126396), 'duty': array(0.17055003), 'question': array(0.35126396), 'problem': array(0.18899912), 'especially': array(0.15879137), 'business': array(0.16614784)}, {'era': array(0.63377182), 'big': array(0.67645411), 'government': array(0.37515746)}, {'moved': array(0.41199951), 'attorney': array(0.41199951), 'instances': array(0.41199951), 'needed': array(0.38600354), 'feel': array(0.38600354), 'general': array(0.3121007), 'legislation': array(0.30881208)}, {'employers': array(0.35460743), 'ahead': array(0.37048253), 'gain': array(0.35460743), 'short': array(0.35460743), 'employees': array(0.28956595), 'companies': array(0.30404395), 'doing': array(0.30404395), 'long': array(0.26310177), 'working': array(0.24722667), 'prosperity': array(0.29398293)}, {'foreign': array(0.71183751), 'policy': array(0.70234419)}, {'leaving': array(0.43921773), 'away': array(0.40579911), 'anxious': array(0.43921773), 'forest': array(0.30317901), 'accept': array(0.40579911), 'views': array(0.43921773)}, {}, {'board': array(0.21138425), 'directed': array(0.21138425), 'education': array(0.34095172), 'benefits': array(0.20232647), 'evident': array(0.20232647), 'attendance': array(0.40465295), 'school': array(0.18050249), 'compulsory': array(0.21138425), 'needs': array(0.17047586), 'cities': array(0.16773628), 'enforced': array(0.21138425), 'consider': array(0.18050249), 'child': array(0.17047586), 'children': array(0.12408831), 'urgent': array(0.20232647), 'requiring': array(0.19530072), 'agents': array(0.18956026), 'law': array(0.25965754), 'problems': array(0.17047586), 'capital': array(0.17679405), 'life': array(0.16521611), 'national': array(0.15011658)}, {'handling': array(0.33253655), 'preservation': array(0.30723495), 'methods': array(0.33253655), 'studying': array(0.33253655), 'markets': array(0.31828742), 'crops': array(0.33253655), 'growers': array(0.30723495), 'helping': array(0.2781214), 'successful': array(0.29820441), 'european': array(0.31828742)}, {'schools': array(0.1458645), 'taking': array(0.16307224), 'housing': array(0.17242533), 'model': array(0.18662501), 'easier': array(0.16735725), 'parks': array(0.17862816), 'districts': array(0.16307224), 'small': array(0.1593604), 'washington': array(0.13840743), 'supervision': array(0.17242533), 'creation': array(0.16735725), 'poor': array(0.31872081), 'deal': array(0.15608633), 'children': array(0.10955396), 'matters': array(0.1458645), 'municipal': array(0.17242533), 'providing': array(0.35725633), 'reason': array(0.15608633), 'governments': array(0.1593604), 'columbia': array(0.16307224), 'district': array(0.15050818), 'affecting': array(0.17862816), 'laws': array(0.38306093), 'various': array(0.15050818), 'problems': array(0.15050818), 'labor': array(0.12768698), 'care': array(0.14188665), 'government': array(0.09906613), 'nation': array(0.11393566)}, {'laws': array(0.74614251), 'nation': array(0.66578627)}, {'paid': array(0.66762966), 'amply': array(0.74449355)}, {'toxic': array(0.47572524), 'air': array(0.47572524), 'food': array(0.47572524), 'water': array(0.42256507), 'means': array(0.37748541)}, {'stand': array(0.45751875), 'worth': array(0.44580447), 'solely': array(0.48833101), 'man': array(0.36231828), 'entitled': array(0.4713738)}, {'practical': array(0.26045692), 'composed': array(0.27799777), 'consulting': array(0.2904432), 'engineers': array(0.27799777), 'corps': array(0.26834435), 'irrigation': array(0.26834435), 'affairs': array(0.2537882), 'matters': array(0.22700791), 'largely': array(0.27799777), 'experienced': array(0.27799777), 'lives': array(0.22380192), 'men': array(0.18416221), 'legal': array(0.26834435), 'connected': array(0.26045692), 'various': array(0.23423484)}, {'founded': array(0.28683917), 'today': array(0.23990179), 'activity': array(0.27454817), 'prejudice': array(0.27454817), 'violent': array(0.25063901), 'unreasonable': array(0.25063901), 'measure': array(0.23990179), 'exists': array(0.27454817), 'corporate': array(0.27454817), 'personal': array(0.22761079), 'positions': array(0.26501453), 'reason': array(0.23990179), 'men': array(0.18187699), 'authority': array(0.24493398), 'capital': array(0.23990179), 'large': array(0.21272965)}, {'strengthen': array(0.4363363), 'pregnancy': array(0.4363363), 'teen': array(0.4363363), 'going': array(0.40880475), 'rate': array(0.36173925), 'family': array(0.36173925)}, {'environment': array(0.26084307), 'cleaner': array(0.30547011), 'economic': array(0.30547011), 'stronger': array(0.29238077), 'goal': array(0.30547011), 'enable': array(0.2739324), 'educational': array(0.2822279), 'streets': array(0.26691865), 'families': array(0.21693257), 'security': array(0.24635365), 'world': array(0.21085698), 'opportunity': array(0.2739324), 'lives': array(0.23538094), 'make': array(0.18125571), 'people': array(0.15841088)}, {'white': array(0.29773002), 'television': array(0.29773002), 'media': array(0.28497235), 'improve': array(0.28497235), 'ways': array(0.27507673), 'major': array(0.29773002), 'leaders': array(0.28497235), 'industry': array(0.24433813), 'corporations': array(0.22635721), 'children': array(0.17477563), 'work': array(0.1532451), 'way': array(0.20551423), 'come': array(0.2182719), 'invite': array(0.29773002), 'house': array(0.26699142)}, {}, {'industry': array(0.55421439), 'report': array(0.53587508), 'special': array(0.49509025), 'make': array(0.40071181)}, {'handled': array(0.39787169), 'gone': array(0.39787169), 'day': array(0.32652141), 'unreasonable': array(0.34765882), 'successfully': array(0.39787169), 'corporation': array(0.36759896), 'wrong': array(0.31571661), 'public': array(0.25061024)}, {'willing': array(0.37300158), 'powers': array(0.36451135), 'policy': array(0.32454295), 'lay': array(0.42687475), 'shortly': array(0.42687475), 'shall': array(0.32043944), 'senate': array(0.39439527)}, {'richard': array(0.38963163), '30': array(0.4459067), 'environmental': array(0.42679969), 'significant': array(0.42679969), 'years': array(0.28664544), 'president': array(0.38076286), 'congress': array(0.24060861)}, {'rooms': array(0.28282162), 'home': array(0.21792908), 'number': array(0.22808823), 'live': array(0.23210326), 'houses': array(0.27070277), 'families': array(0.20084852), 'tenements': array(0.27070277), 'death': array(0.25362221), 'cities': array(0.22442281), 'rate': array(0.22442281), 'abroad': array(0.22808823), 'given': array(0.21230396), 'times': array(0.49425697), 'average': array(0.27070277)}, {'privilege': array(0.3386177), 'mail': array(0.3386177), 'classification': array(0.3386177), 'aided': array(0.3386177), 'class': array(0.31285341), 'greatly': array(0.30365773), 'abuses': array(0.30365773), 'matter': array(0.26869776), 'second': array(0.26869776), 'revenues': array(0.3386177)}, {'information': array(0.33582351), 'children': array(0.23570801), 'different': array(0.33582351), 'reason': array(0.33582351), 'comprehensive': array(0.36007317), 'endeavor': array(0.34286776), 'secure': array(0.30527257), 'states': array(0.23092089), 'labor': array(0.27472162), 'conditions': array(0.27716306), 'nation': array(0.24513532)}, {'ireland': array(0.26974267), 'born': array(0.53948533), 'navy': array(0.22362684), 'army': array(0.22362684), 'won': array(0.28181853), 'highest': array(0.26974267), 'countries': array(0.22362684), 'serve': array(0.24064682), 'united': array(0.18378783), 'honor': array(0.24625199), 'men': array(0.35738707), 'states': array(0.16207525), 'great': array(0.1663189)}, {'wilderness': array(0.40275534), 'generations': array(0.42078593), 'owe': array(0.42078593), 'creatures': array(0.42078593), 'future': array(0.35931206), 'character': array(0.33935284), 'american': array(0.24968025)}, {'immigrants': array(0.65496895), 'proud': array(0.61944063), 'nation': array(0.43279207)}, {'sympathy': array(0.3345978), 'society': array(0.3345978), 'cordial': array(0.3345978), 'assured': array(0.3345978), 'rest': array(0.31348565), 'treated': array(0.3345978), 'primary': array(0.3345978), 'laws': array(0.23917718), 'civilized': array(0.28192479), 'spirit': array(0.30545919)}, {'generous': array(0.41440873), 'receive': array(0.3465963), 'stage': array(0.3966514), 'experimental': array(0.41440873), 'passed': array(0.41440873), 'recognition': array(0.3966514), 'congress': array(0.22361249)}, {'say': array(0.34107911), 'welfare': array(0.73749492), 'time': array(0.31630389), 'especially': array(0.34796456), 'long': array(0.34443983)}, {'simple': array(0.34398006), 'remote': array(0.34398006), 'living': array(0.29372699), 'woods': array(0.34398006), 'know': array(0.25510727), 'civilization': array(0.29372699), 'regions': array(0.32924059), 'waters': array(0.34398006), 'century': array(0.32924059), 'life': array(0.26885186)}, {'exercise': array(0.2296917), 'record': array(0.26286642), 'naturalization': array(0.19985122), 'statutes': array(0.26286642), 'nearly': array(0.21572662), 'permit': array(0.25160264), 'court': array(0.42398977), 'common': array(0.20858808), 'having': array(0.21985185), 'jurisdiction': array(0.24286578), 'united': array(0.17142822), 'law': array(0.16144828), 'columbia': array(0.2296917), 'district': array(0.21199489), 'courts': array(0.20858808), 'federal': array(0.19059576), 'police': array(0.20255254), 'states': array(0.15117579), 'important': array(0.17831496)}, {'agent': array(0.3435604), 'touch': array(0.3435604), 'indian': array(0.53704769), 'wholly': array(0.3288389), 'office': array(0.28194976), 'west': array(0.28734135), 'bureau': array(0.25789836), 'existing': array(0.28734135), 'conditions': array(0.23714958)}, {'flow': array(0.48708434), 'drugs': array(0.45002371), 'cut': array(0.38070092), 'america': array(0.30481543), 'efforts': array(0.38650806), 'continue': array(0.41592473)}, {'years': array(0.35491313), 'united': array(0.36005449), 'proper': array(0.41975196), 'example': array(0.49510317), 'set': array(0.47144562), 'states': array(0.31751787)}, {'challenges': array(0.36249867), 'opportunities': array(0.40966298), 'opened': array(0.43725232), 'presented': array(0.43725232), 'new': array(0.30731997), 'vast': array(0.40966298), 'people': array(0.23690178)}, {'abroad': array(0.12518526), 'immigration': array(0.14857407), 'effect': array(0.13563542), 'children': array(0.09112157), 'women': array(0.13563542), 'regions': array(0.14857407), 'manufacturing': array(0.14857407), 'department': array(0.11652213), 'greatly': array(0.13919948), 'report': array(0.12317351), 'bureau': array(0.11652213), 'hours': array(0.14857407), 'list': array(0.14857407), 'congress': array(0.16751746), 'means': array(0.11379891), 'given': array(0.11652213), 'mining': array(0.13563542), 'centers': array(0.15522545), 'commerce': array(0.11652213), 'laws': array(0.10620371), 'various': array(0.25037052), 'states': array(0.08927093), 'labor': array(0.74342595), 'country': array(0.10198833), 'conditions': array(0.10714754)}, {'shut': array(0.56484854), 'forced': array(0.59013574), 'office': array(0.48430678), 'government': array(0.31326167)}, {'material': array(0.21697087), 'grow': array(0.50818384), 'plenty': array(0.25409192), 'does': array(0.22785866), 'unhealthy': array(0.25409192), 'race': array(0.43394175), 'mind': array(0.23475891), 'degree': array(0.21251319), 'wealth': array(0.22785866), 'children': array(0.29831776), 'body': array(0.20852565), 'prosperity': array(0.2016254)}, {'address': array(0.46974887), 'threats': array(0.44962023), 'fail': array(0.44962023), 'suffer': array(0.46974887), 'today': array(0.39288077)}, {'apply': array(0.31684775), 'liability': array(0.30327089), 'employer': array(0.60654178), 'law': array(0.19460274), 'power': array(0.22281705), 'labor': array(0.21678408), 'government': array(0.50457675), 'national': array(0.22501251)}, {'weevil': array(0.34907943), 'boll': array(0.36470705), 'bollworm': array(0.36470705), 'root': array(0.34907943), 'crop': array(0.33695771), 'cotton': array(0.34907943), 'varieties': array(0.34907943), 'disease': array(0.36470705)}, {'accomplished': array(0.84655341), 'good': array(0.53230379)}, {'philippines': array(0.2946102), 'rest': array(0.2946102), 'minds': array(0.30353189), 'steadily': array(0.31445116), 'chiefly': array(0.32852854), 'ultimately': array(0.30353189), 'islands': array(0.24364789), 'stay': array(0.30353189), 'able': array(0.26961356), 'fact': array(0.27476925), 'hand': array(0.26494967), 'good': array(0.19085763), 'people': array(0.17036853)}, {'retirement': array(0.67359895), 'security': array(0.56755975), 'need': array(0.47343467)}, {'crime': array(0.3155656), 'probably': array(0.38839658), 'kind': array(0.36732829), 'punishment': array(0.37698047), 'way': array(0.29017731), 'adequate': array(0.36732829), 'meeting': array(0.37698047), 'form': array(0.33357889)}, {'second': array(1.)}, {'agreed': array(0.73449718), 'save': array(0.67861173)}, {'peace': array(0.32899124), 'strong': array(0.38437519), 'bringing': array(0.44034827), 'leadership': array(0.4164619), 'world': array(0.32899124), 'hope': array(0.40698242), 'new': array(0.32062975)}, {'values': array(0.46664393), 'fundamental': array(0.44434625), 'ground': array(0.43521711), 'restoring': array(0.52036842), 'important': array(0.35299098)}, {'domestic': array(0.55996512), 'end': array(0.49739152), 'violence': array(0.52959021), 'country': array(0.3982147)}, {'proposal': array(0.249803), 'white': array(0.26098621), 'challenge': array(0.16029349), 'businesses': array(0.21418359), 'conference': array(0.249803), 'pension': array(0.22804879), 'recommended': array(0.26098621), 'pass': array(0.22285796), 'plans': array(0.23404116), 'easier': array(0.23404116), 'small': array(0.44571591), 'farmers': array(0.249803), 'establish': array(0.24112864), 'congress': array(0.14082661), 'make': array(0.15486046), 'business': array(0.19591291), 'house': array(0.23404116)}, {'intended': array(0.37989923), 'exercised': array(0.37989923), 'useful': array(0.33195454), 'severe': array(0.35099396), 'judgment': array(0.35099396), 'exist': array(0.35099396), 'community': array(0.28174614), 'policy': array(0.28882854), 'conditions': array(0.2622332)}, {'residents': array(0.32985827), 'free': array(0.27070483), 'expenditure': array(0.32985827), 'wisdom': array(0.30476045), 'districts': array(0.28822894), 'justified': array(0.32985827), 'rural': array(0.29580265), 'results': array(0.26174703), 'extending': array(0.31572391), 'mails': array(0.32985827), 'large': array(0.24463407)}, {'aggression': array(0.37378096), 'stand': array(0.35019647), 'brutality': array(0.36080148), 'necessary': array(0.61044541), 'wrong': array(0.30987851), 'rights': array(0.28629402), 'nation': array(0.23841133)}, {'needs': array(0.50964966), 'immediately': array(0.58386533), 'met': array(0.63194817)}, {'tv': array(0.73449718), 'turn': array(0.67861173)}, {'trust': array(0.36772628), 'look': array(0.38418869), 'freedom': array(0.33570266), 'peace': array(0.26519409), 'war': array(0.27856254), 'cold': array(0.36772628), 'world': array(0.26519409), 'seek': array(0.35495705), 'help': array(0.29208973), 'people': array(0.19923281)}, {'dean': array(0.31246401), 'richard': array(0.29551463), 'chamber': array(0.3237046), 'challenge': array(0.20771464), 'job': array(0.28878815), 'behalf': array(0.3237046), 'day': array(0.27754756), 'american': array(0.2006743), 'good': array(0.19647405), 'family': array(0.26836333), 'doing': array(0.27754756), 'people': array(0.35076404), 'working': array(0.22568171)}, {'extensive': array(0.24459689), 'crops': array(0.25554703), 'west': array(0.21373019), 'lands': array(0.21373019), 'light': array(0.51109406), 'wheat': array(0.25554703), 'imported': array(0.22916354), 'addition': array(0.24459689), 'countries': array(0.20278005), 'grains': array(0.24459689), 'territory': array(0.22329605), 'grown': array(0.22329605), 'home': array(0.19691256), 'area': array(0.25554703), 'making': array(0.19973336)}, {'recommendations': array(0.30351774), 'carefully': array(0.28042408), 'chief': array(0.28042408), 'subject': array(0.24477911), 'commissioner': array(0.29051207), 'ask': array(0.24908794), 'consider': array(0.25917593), 'attention': array(0.21554607), 'report': array(0.48169092), 'special': array(0.22251499), 'bureau': array(0.22783979), 'earnestly': array(0.26521268), 'congress': array(0.16377637)}, {'address': array(0.73613898), 'leave': array(0.35229779), 'areas': array(0.3400643), 'federal': array(0.26687504), 'strongly': array(0.33006882), 'government': array(0.19538228)}, {'humanity': array(0.2618794), 'heart': array(0.27360324), 'war': array(0.19838068), 'civic': array(0.25278568), 'plenty': array(0.27360324), 'home': array(0.21082583), 'race': array(0.23363173), 'stop': array(0.22883174), 'violent': array(0.2390735), 'striving': array(0.2618794), 'general': array(0.19838068), 'corruption': array(0.2390735), 'wrongdoing': array(0.24535557), 'uplifting': array(0.27360324), 'circumstances': array(0.22065385), 'ordinary': array(0.25278568), 'passing': array(0.2390735)}, {'agree': array(0.29167699), 'nations': array(0.26697546), 'possible': array(0.50083743), 'difference': array(0.29167699), 'world': array(0.23578211), 'matters': array(0.53395092), 'period': array(0.31558969), 'development': array(0.25969482)}, {'communities': array(0.50546013), 'america': array(0.39221971), 'opportunities': array(0.56204529), 'helping': array(0.52419353)}, {'senator': array(0.55278121), 'start': array(0.26454732), 'bipartisan': array(0.23116299), 'jobs': array(0.23116299), 'stop': array(0.46232598), 'insurance': array(0.24785516), 'congress': array(0.14913873), 'companies': array(0.22682551), 'require': array(0.23116299), 'passing': array(0.24150909), 'conditions': array(0.19078426), 'people': array(0.14333081)}, {'grade': array(0.37209947), 'comes': array(0.38875765), 'real': array(0.33196289), 'say': array(0.2733863), 'strength': array(0.38875765), 'making': array(0.30384963), 'like': array(0.2955634), 'officers': array(0.29955842), 'time': array(0.25352813), 'people': array(0.20160219)}, {'dangerous': array(0.41364676), 'unhealthy': array(0.44771165), 'districts': array(0.39120879), 'cities': array(0.3552653), 'life': array(0.34992757), 'modern': array(0.37444965), 'country': array(0.29416158)}, {'challenge': array(0.49784151), 'congress': array(0.43738103), 'policies': array(0.74890031)}, {'hand': array(0.35878909), 'head': array(0.42582293), 'sense': array(0.37208655), 'kind': array(0.38873993), 'man': array(0.31594027), 'work': array(0.2289881), 'good': array(0.25845525), 'factor': array(0.42582293)}, {'thanks': array(0.28473335), 'decision': array(0.28473335), 'communities': array(0.22963), 'gore': array(0.28473335), 'rules': array(0.28473335), '000': array(0.23814056), 'vice': array(0.27253259), 'washington': array(0.2111679), 'regulations': array(0.26306894), 'local': array(0.24313581), 'making': array(0.22254514), 'president': array(0.24313581), 'eliminating': array(0.28473335), 'work': array(0.14655556), 'states': array(0.16375158), 'unnecessary': array(0.28473335)}, {'strong': array(0.60104787), 'union': array(0.61162807), 'state': array(0.51444394)}, {'doesn': array(0.5099378), 'lifetime': array(0.5099378), 'americans': array(0.33504624), 'education': array(0.41125149), 'simply': array(0.44558177)}, {'tax': array(0.33258423), 'jobs': array(0.32575126), 'clean': array(0.37279593), 'places': array(0.35985066), 'bring': array(0.34033082), 'need': array(0.26201721), 'companies': array(0.31963895), 'property': array(0.35985066), 'industrial': array(0.3141097)}, {'torch': array(0.28305922), 'heroes': array(0.28305922), 'announce': array(0.27093019), 'challenges': array(0.22461135), 'tonight': array(0.22827985), 'america': array(0.17713733), 'summer': array(0.28305922), 'americans': array(0.1859794), 'chosen': array(0.27093019), 'carry': array(0.28305922), 'thousand': array(0.24170625), 'community': array(0.20992631), 'honor': array(0.2473361), 'citizens': array(0.19905592), 'meeting': array(0.25383528), 'modern': array(0.23674037), 'long': array(0.20101726)}, {'year': array(0.30461051), 'products': array(0.38017076), 'worth': array(0.38902574), 'million': array(0.35328282), 'sell': array(0.4452133), 'dollars': array(0.39924806), 'abroad': array(0.35905287)}, {'open': array(0.62871583), 'corporations': array(0.5597776), 'come': array(0.53978277)}, {'harder': array(0.35426404), 'fellow': array(0.31467662), 'americans': array(0.25193203), 'living': array(0.32742092), 'concerned': array(0.38343861), 'just': array(0.27230266), 'families': array(0.27230266), 'security': array(0.30923321), 'citizens': array(0.26964578), 'better': array(0.27508919), 'working': array(0.25587239)}, {'enlisted': array(0.22599906), 'attractive': array(0.24461068), 'grade': array(0.23412916), 'promotions': array(0.24461068), 'merit': array(0.23412916), 'retirement': array(0.23412916), 'effort': array(0.20074468), 'advanced': array(0.21935629), 'possible': array(0.17932903), 'later': array(0.24461068), 'age': array(0.20887477), 'provide': array(0.1911856), 'method': array(0.21935629), 'shall': array(0.18362039), 'certain': array(0.36724077), 'service': array(0.16884752), 'make': array(0.14514376), 'men': array(0.15510104), 'order': array(0.20458342), 'kept': array(0.20458342), 'long': array(0.17371265)}, {'health': array(0.71681327), 'care': array(0.69726518)}, {'trade': array(0.36804188), 'securing': array(0.4021641), 'information': array(0.37507977), 'view': array(0.36167534), 'proper': array(0.34095756), 'importance': array(0.36167534), 'enlargement': array(0.42924843)}, {'hold': array(0.23108462), 'natives': array(0.24664735), 'alaskan': array(0.25768928), 'privilege': array(0.25768928), 'requirements': array(0.24664735), 'definite': array(0.25768928), 'able': array(0.2114779), 'certain': array(0.19343802), 'right': array(0.18300055), 'given': array(0.58031407), 'property': array(0.23808256), 'conditions': array(0.17787529), 'meet': array(0.20781966), 'citizenship': array(0.20447995)}, {'thank': array(1.)}, {'unfortunately': array(0.43416382), 'naval': array(0.43416382), 'east': array(0.41555999), 'fashion': array(0.41555999), 'war': array(0.31479786), 'new': array(0.29207365), 'far': array(0.3053173)}, {'present': array(0.73108287), 'laws': array(0.68228868)}, {'thank': array(0.48399366), 'taught': array(0.2712559), '25': array(0.24199683), 'wife': array(0.28339951), 'just': array(0.20125892), 'years': array(0.18217976), 'mother': array(0.28339951), 'families': array(0.20125892), 'person': array(0.2712559), 'like': array(0.21546206), 'children': array(0.16636323), 'moment': array(0.28339951), 'family': array(0.22488137), 'importance': array(0.22855429), 'great': array(0.16725194)}, {'course': array(1.)}, {'drug': array(0.45305504), 'challenge': array(0.31029488), 'cut': array(0.39487173), 'free': array(0.4146149), 'schools': array(0.39487173), 'congress': array(0.27261104), 'support': array(0.3746846)}, {'indian': array(0.58531404), 'office': array(0.30728956), 'washington': array(0.27769544), 'chief': array(0.34594767), 'progress': array(0.30197394), 'workers': array(0.28852388), 'agents': array(0.33577926), 'field': array(0.28107659)}, {'drugs': array(0.47965128), 'gangs': array(0.46555293), 'challenge': array(0.31885461), 'crime': array(0.38970849), 'streets': array(0.45363294), 'great': array(0.30638425)}, {'subjects': array(0.3362943), 'various': array(0.27121255), 'action': array(0.26685411), 'impossible': array(0.32188416), 'cases': array(0.2438359), 'difficult': array(0.27598669), 'exceedingly': array(0.32188416), 'proved': array(0.28716406), 'practice': array(0.31070679), 'actual': array(0.31070679), 'states': array(0.19340454), 'wise': array(0.29385272)}, {'warrants': array(0.58118027), 'subject': array(0.46870668), 'attention': array(0.41273082), 'congress': array(0.31360142), 'better': array(0.41695439)}, {'americans': array(0.27983503), 'lost': array(0.42590676), 'past': array(0.34952896), 'million': array(0.33796282), 'health': array(0.33288506), 'years': array(0.27378873), 'families': array(0.30246183), 'insurance': array(0.38193479), 'working': array(0.28421181)}, {'team': array(0.58948217), 'role': array(0.58948217), 'play': array(0.55228756)}, {'democracy': array(0.39830475), 'challenge': array(0.48926461), 'tonight': array(0.32122235), 'america': array(0.24925752), 'really': array(0.36799906), 'seventh': array(0.39830475), 'make': array(0.23634067), 'work': array(0.20501208), 'government': array(0.21143205)}, {'cleaning': array(0.44848638), 'china': array(0.41436254), 'near': array(0.42926883), 'scale': array(0.41436254), 'enemy': array(0.44848638), 'great': array(0.26468012)}, {'groups': array(0.45374824), 'applaud': array(0.47007139), 'religious': array(0.44041125), 'poor': array(0.41936705), 'work': array(0.2527829), 'care': array(0.37338376)}, {'american': array(0.44825774), 'lives': array(0.58211314), 'means': array(0.55383452), 'people': array(0.39176092)}, {'low': array(0.38525115), 'minimum': array(0.34547659), 'fall': array(0.36874322), '40': array(0.38525115), 'year': array(0.52717002), 'wage': array(0.31069497), 'power': array(0.27092041)}]\n"
          ],
          "name": "stdout"
        }
      ]
    },
    {
      "cell_type": "code",
      "metadata": {
        "id": "tYB8pBhKmkhh",
        "colab_type": "code",
        "colab": {
          "base_uri": "https://localhost:8080/",
          "height": 1104
        },
        "outputId": "7f85232f-c92f-45ef-958e-3282bdb979fc"
      },
      "source": [
        "from sklearn.decomposition import TruncatedSVD\n",
        "from sklearn.pipeline import make_pipeline\n",
        "from sklearn.preprocessing import Normalizer\n",
        "\n",
        "#Our SVD data reducer.  We are going to reduce the feature space from 1379 to 130.\n",
        "svd= TruncatedSVD(130)\n",
        "lsa = make_pipeline(svd, Normalizer(copy=False))\n",
        "# Run SVD on the training data, then project the training data.\n",
        "X_train_lsa = lsa.fit_transform(X_train_vec)\n",
        "\n",
        "variance_explained=svd.explained_variance_ratio_\n",
        "total_variance = variance_explained.sum()\n",
        "print(\"Percent variance captured by all components:\",total_variance*100)\n",
        "\n",
        "#Looking at what sorts of sentences our solution considers similar, for the first five identified topics\n",
        "sents_by_component=pd.DataFrame(X_train_lsa,index=X_train)\n",
        "for i in range(5):\n",
        "    print('Component {}:'.format(i))\n",
        "    print(sents_by_component.loc[:,i].sort_values(ascending=False)[0:10])\n",
        "\n",
        "\n"
      ],
      "execution_count": 66,
      "outputs": [
        {
          "output_type": "stream",
          "text": [
            "Percent variance captured by all components: 49.245466039540055\n",
            "Component 0:\n",
            "(I challenge American businesses to give people on welfare the chance to move into the work force., Clinton, 49.2)                                                                                                                                                                                                                                                                                                0.487171\n",
            "(Our seventh challenge is really America's challenge to those of us in this hallowed hall tonight: to reinvent our government and make our democracy work for them.  , Clinton, 49.2)                                                                                                                                                                                                                             0.460080\n",
            "(As we move into the era of balanced budgets and smaller government, we must work in new ways to enable people to make the most of their own lives., Clinton, 49.2)                                                                                                                                                                                                                                               0.432657\n",
            "(We have worked to give the American people a smaller, less bureaucratic government in Washington., Clinton, 49.2)                                                                                                                                                                                                                                                                                                0.379997\n",
            "(To make the V-chip work, I challenge the broadcast industry to do what movies have done--to identify your programming in ways that help parents to protect their children., Clinton, 49.2)                                                                                                                                                                                                                       0.377952\n",
            "(I believe our new, smaller government must work in an old-fashioned American way, together with all of our citizens through state and local governments, in the workplace, in religious, charitable and civic associations., Clinton, 49.2)                                                                                                                                                                      0.374087\n",
            "(We must answer here three fundamental questions: First, how do we make the American Dream of opportunity for all a reality for all Americans who are willing to work for it?, Clinton, 49.2)                                                                                                                                                                                                                     0.371640\n",
            "(I challenge people on welfare to make the most of this opportunity for independence., Clinton, 49.2)                                                                                                                                                                                                                                                                                                             0.369278\n",
            "(I challenge Congress to expand work-study and help one million young Americans work their way through college by the year 2000; to provide a $1000 merit scholarship for the top five percent of graduates in every high school in the United States; to expand Pell Grant scholarships for deserving and needy students; and to make up to $10,000 a year of college tuition tax deductible., Clinton, 49.2)    0.365693\n",
            "(The forest policy of the Government is just now a subject of vivid public interest throughout the West and to the people of the United States in general., Roosevelt, 56.4)                                                                                                                                                                                                                                      0.363072\n",
            "Name: 0, dtype: float64\n",
            "Component 1:\n",
            "(I challenge American businesses to give people on welfare the chance to move into the work force., Clinton, 49.2)                                                                                           0.418676\n",
            "(I challenge people on welfare to make the most of this opportunity for independence., Clinton, 49.2)                                                                                                        0.336717\n",
            "(And I challenge America's families to work harder to stay together., Clinton, 49.2)                                                                                                                         0.335483\n",
            "(Our sixth challenge is to maintain America's leadership in the fight for freedom and peace throughout the world., Clinton, 49.2)                                                                            0.328933\n",
            "(Our third challenge is to help every American who is willing to work for it, achieve economic security in this new age., Clinton, 49.2)                                                                     0.311436\n",
            "(On behalf of Richard Dean and his family, and all the other people who are out there working every day doing a good job for the American people, I challenge all of you in this Chamber:, Clinton, 49.2)    0.293399\n",
            "(We must challenge businesses and communities to take more initiative in protecting the environment, and we have to make it easier for them to do it., Clinton, 49.2)                                        0.271993\n",
            "(To make the V-chip work, I challenge the broadcast industry to do what movies have done--to identify your programming in ways that help parents to protect their children., Clinton, 49.2)                  0.270607\n",
            "(Because of American leadership, more people than ever before live free and at peace., Clinton, 49.2)                                                                                                        0.268518\n",
            "(Our seventh challenge is really America's challenge to those of us in this hallowed hall tonight: to reinvent our government and make our democracy work for them.  , Clinton, 49.2)                        0.267555\n",
            "Name: 1, dtype: float64\n",
            "Component 2:\n",
            "(We have worked to give the American people a smaller, less bureaucratic government in Washington., Clinton, 49.2)                                                                                                                                               0.548790\n",
            "(There is no objection to employees of the Government forming or belonging to unions; but the Government can neither discriminate for nor discriminate against nonunion men who are in its employment, or who seek to be employed under it., Roosevelt, 56.4)    0.443152\n",
            "(Never, ever shut the federal government down again.  , Clinton, 49.2)                                                                                                                                                                                           0.421996\n",
            "(Moreover, it is a very grave impropriety for Government employees to band themselves together for the purpose of extorting improperly high salaries from the Government., Roosevelt, 56.4)                                                                      0.407654\n",
            "(As we move into the era of balanced budgets and smaller government, we must work in new ways to enable people to make the most of their own lives., Clinton, 49.2)                                                                                              0.407328\n",
            "(The era of big government is over., Clinton, 49.2)                                                                                                                                                                                                              0.399731\n",
            "(Wherever the National Government has power there should be a stringent employer\\'s liability law, which should apply to the Government itself where the Government is an employer of labor.  , Roosevelt, 56.4)                                                 0.383091\n",
            "(This last November, he was forced out of his office when the government shut down., Clinton, 49.2)                                                                                                                                                              0.356290\n",
            "(Our administration is working hard to give the American people a government that works better and costs less., Clinton, 49.2)                                                                                                                                   0.350461\n",
            "(We know big government does not have all the answers., Clinton, 49.2)                                                                                                                                                                                           0.350218\n",
            "Name: 2, dtype: float64\n",
            "Component 3:\n",
            "(To make the V-chip work, I challenge the broadcast industry to do what movies have done--to identify your programming in ways that help parents to protect their children., Clinton, 49.2)                                                     0.468112\n",
            "(The next step is to make it work., Clinton, 49.2)                                                                                                                                                                                              0.440680\n",
            "(But I believe we must also provide child care so that mothers who are required to go to work can do so without worrying about what is happening to their children.  , Clinton, 49.2)                                                           0.427834\n",
            "(The work of the juvenile court is really a work of character building., Roosevelt, 56.4)                                                                                                                                                       0.369625\n",
            "(And only you--only you can make the decision to help raise your children., Clinton, 49.2)                                                                                                                                                      0.334009\n",
            "(And I invite the leaders of major media corporations in the entertainment industry to come to the White House next month to work with us in a positive way on concrete ways to improve what our children see on television., Clinton, 49.2)    0.299538\n",
            "(I applaud the work of religious groups and others who care for the poor., Clinton, 49.2)                                                                                                                                                       0.287384\n",
            "(I say to those who make and market cigarettes: every year a million children take up smoking, even though it is against the law., Clinton, 49.2)                                                                                               0.284982\n",
            "(I am willing to work to resolve them., Clinton, 49.2)                                                                                                                                                                                          0.282872\n",
            "(Careful preliminary work is being done towards producing our own silk., Roosevelt, 56.4)                                                                                                                                                       0.273277\n",
            "Name: 3, dtype: float64\n",
            "Component 4:\n",
            "(Thank you, Hillary.  , Clinton, 49.2)                                                                                                                                                                                                                                                                                          0.813170\n",
            "(Thank you,, Clinton, 49.2)                                                                                                                                                                                                                                                                                                     0.813170\n",
            "(Thank you.\", Clinton, 49.2)                                                                                                                                                                                                                                                                                                    0.813170\n",
            "(Before I go on, I would like to take just a moment to thank my own family, and to thank the person who has taught me more than anyone else over 25 years about the importance of families and children--a wonderful wife, a magnificent mother and a great First Lady., Clinton, 49.2)                                         0.750594\n",
            "(Thank you, General McCaffrey, for agreeing to serve your country one more time.  , Clinton, 49.2)                                                                                                                                                                                                                              0.582930\n",
            "(And I thank the Democrats for passing the largest deficit reduction plan in history in 1993, which has already cut the deficit nearly in half in three years.  , Clinton, 49.2)                                                                                                                                                0.349899\n",
            "(Mr. Speaker, Mr. Vice President, members of the 104th Congress, distinguished guests, my fellow Americans all across our land:  Let me begin tonight by saying to our men and women in uniform around the world, and especially those helping peace take root in Bosnia and to their families, I thank you., Clinton, 49.2)    0.296775\n",
            "(There is no objection to employees of the Government forming or belonging to unions; but the Government can neither discriminate for nor discriminate against nonunion men who are in its employment, or who seek to be employed under it., Roosevelt, 56.4)                                                                   0.178512\n",
            "(Moreover, it is a very grave impropriety for Government employees to band themselves together for the purpose of extorting improperly high salaries from the Government., Roosevelt, 56.4)                                                                                                                                     0.165255\n",
            "(Never, ever shut the federal government down again.  , Clinton, 49.2)                                                                                                                                                                                                                                                          0.161497\n",
            "Name: 4, dtype: float64\n"
          ],
          "name": "stdout"
        }
      ]
    },
    {
      "cell_type": "code",
      "metadata": {
        "id": "PXaOWW4Xmkhl",
        "colab_type": "code",
        "colab": {
          "base_uri": "https://localhost:8080/",
          "height": 481
        },
        "outputId": "7038402d-cdc8-4303-e219-e725de60167c"
      },
      "source": [
        "# Compute document similarity using LSA components\n",
        "similarity = np.asarray(np.asmatrix(X_train_lsa) * np.asmatrix(X_train_lsa).T)\n",
        "#Only taking the first 10 sentences\n",
        "sim_matrix=pd.DataFrame(similarity,index=X_train).iloc[0:10,0:10]\n",
        "#Making a plot\n",
        "ax = sns.heatmap(sim_matrix,yticklabels=range(10))\n",
        "plt.show()\n",
        "\n",
        "#Generating a key for the plot.\n",
        "print('Key:')\n",
        "for i in range(10):\n",
        "    print(i,sim_matrix.index[i])"
      ],
      "execution_count": 67,
      "outputs": [
        {
          "output_type": "display_data",
          "data": {
            "image/png": "[encoded data removed]",
            "text/plain": [
              "<Figure size 432x288 with 2 Axes>"
            ]
          },
          "metadata": {
            "tags": []
          }
        },
        {
          "output_type": "stream",
          "text": [
            "Key:\n",
            "0 ('I challenge American businesses to give people on welfare the chance to move into the work force.', 'Clinton', '49.2')\n",
            "1 ('I challenge Congress to expand work-study and help one million young Americans work their way through college by the year 2000; to provide a $1000 merit scholarship for the top five percent of graduates in every high school in the United States; to expand Pell Grant scholarships for deserving and needy students; and to make up to $10,000 a year of college tuition tax deductible.', 'Clinton', '49.2')\n",
            "2 ('The best officers and men in a poor ship could do nothing against fairly good opponents; and on the other hand a modern war ship is useless unless the officers and men aboard her have become adepts in their duties.', 'Roosevelt', '56.4')\n",
            "3 ('It is commonly declared that the slow advance of the Indians is due to the unsatisfactory character of the men appointed to take immediate charge of them, and to some extent this is true.', 'Roosevelt', '56.4')\n",
            "4 ('The farmer had no opportunity for special training until the Congress made provision for it forty years ago.', 'Roosevelt', '56.4')\n",
            "5 ('Where possible, the Congress should aid in the construction of needed wagon roads.', 'Roosevelt', '56.4')\n",
            "6 ('As all of you know, I was just there with a bipartisan congressional group, and I was so proud not only of what our troops were doing, but of the pride they evidenced in what they were doing.', 'Clinton', '49.2')\n",
            "7 ('Our administration has taken steps to stop the massive marketing campaigns that appeal to our children.', 'Clinton', '49.2')\n",
            "8 (\"But Richard Dean's story doesn't end there.\", 'Clinton', '49.2')\n",
            "9 (\"I am gratified, as I'm sure all Americans are, that it has dropped for two years in a row.\", 'Clinton', '49.2')\n"
          ],
          "name": "stdout"
        }
      ]
    },
    {
      "cell_type": "code",
      "metadata": {
        "id": "Qf3G5s-Bkbok",
        "colab_type": "code",
        "colab": {}
      },
      "source": [
        ""
      ],
      "execution_count": 0,
      "outputs": []
    }
  ]
}